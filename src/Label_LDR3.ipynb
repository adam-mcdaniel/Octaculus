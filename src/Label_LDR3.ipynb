{
 "cells": [
  {
   "cell_type": "markdown",
   "id": "2deee26c-7e77-4ad0-ad1a-785c5389d265",
   "metadata": {},
   "source": [
    "# COSC522 Fall 2022 Final Project\n",
    "\n",
    "## Team Members\n",
    "Dan Scott <br>\n",
    "Adam McDaniel<br>\n",
    "Logan Wrinkle<br>\n",
    "\n",
    "This notebook sets up the labels and models for the 3-LDR configuration."
   ]
  },
  {
   "cell_type": "code",
   "execution_count": 1,
   "id": "a9b58c81-4352-43c6-8208-6e48c8e78225",
   "metadata": {},
   "outputs": [],
   "source": [
    "import numpy as np\n",
    "import pandas as pd\n",
    "import os\n",
    "import re\n",
    "from glob import glob\n",
    "import time\n",
    "from datetime import datetime\n",
    "import datetime\n",
    "import csv\n",
    "import matplotlib.pyplot as plt\n",
    "import seaborn as sns\n",
    "from scipy import ndimage\n",
    "from sklearn.model_selection import KFold, cross_val_score\n",
    "from sklearn.ensemble import RandomForestClassifier\n",
    "from sklearn.svm import SVC\n",
    "from sklearn.model_selection import train_test_split\n",
    "from sklearn.preprocessing import Normalizer\n",
    "from sklearn.metrics import confusion_matrix\n",
    "from sklearn.metrics import classification_report, accuracy_score"
   ]
  },
  {
   "cell_type": "markdown",
   "id": "69d1c067-94a9-4945-be0a-6198d3530c71",
   "metadata": {},
   "source": [
    "## Gather Data from raw LDR values\n",
    "\n",
    "The data for the 3-LDR models was captured on the Raspberry Pi and transfered to the raw data folder. A file of 100+ events was produced for each direction and saved with the direction (D0, D1,...) in the file name to make identification by programatic means possible."
   ]
  },
  {
   "cell_type": "code",
   "execution_count": 2,
   "id": "67293998-2bde-4ded-b0a0-89fda658af94",
   "metadata": {},
   "outputs": [
    {
     "name": "stdout",
     "output_type": "stream",
     "text": [
      "[(0, '../data/raw_data_do_not_edit\\\\output_3_D0_b.txt'),\n",
      " (1, '../data/raw_data_do_not_edit\\\\output_3_D1_b.txt'),\n",
      " (2, '../data/raw_data_do_not_edit\\\\output_3_D2_b.txt'),\n",
      " (3, '../data/raw_data_do_not_edit\\\\output_3_D3_b.txt'),\n",
      " (4, '../data/raw_data_do_not_edit\\\\output_3_D4_b.txt'),\n",
      " (5, '../data/raw_data_do_not_edit\\\\output_3_D5_b.txt'),\n",
      " (6, '../data/raw_data_do_not_edit\\\\output_3_D6_b.txt'),\n",
      " (7, '../data/raw_data_do_not_edit\\\\output_3_D7_b.txt')]\n"
     ]
    }
   ],
   "source": [
    "root = os.getcwd()\n",
    "data = '../data/raw_data_do_not_edit/'\n",
    "\n",
    "#list of all CSV files in directory\n",
    "list_of_all_files = glob(os.path.join(data, 'output_3*.txt'))\n",
    "list_of_all_files.sort()\n",
    "from pprint import pprint  \n",
    "pprint(list(enumerate(list_of_all_files, start=0)))"
   ]
  },
  {
   "cell_type": "code",
   "execution_count": 3,
   "id": "9a2993c4-e645-4acf-bc3c-9739377a4ea4",
   "metadata": {},
   "outputs": [],
   "source": [
    "#General purpose read CSV with NO data types infered, this is needed because the time stamp does not auto convert using pandas\n",
    "def getCSVData(fname):\n",
    "    List_data=[]\n",
    "    with open(fname) as csv_file:\n",
    "        csv_reader = csv.reader(csv_file, delimiter=',')\n",
    "        line_count = 0\n",
    "        for row in csv_reader:\n",
    "            List_data.append(row)\n",
    "            line_count+=1  \n",
    "    return List_data"
   ]
  },
  {
   "cell_type": "markdown",
   "id": "69c01366-14e8-4953-a9b9-b30c531e74e8",
   "metadata": {},
   "source": [
    "## Global parameters for identifing the events based on the average percent change over N rows"
   ]
  },
  {
   "cell_type": "code",
   "execution_count": 4,
   "id": "6701de5f-2109-49e4-ae16-9c7b7b7c4e9e",
   "metadata": {},
   "outputs": [],
   "source": [
    "N = 18       # Rolling average over N rows\n",
    "rLen = 20    # use this many rows of data to predict \n",
    "PCT = 0.01   # flag if any change in percentage from previous row changes by PCT"
   ]
  },
  {
   "cell_type": "markdown",
   "id": "eb4ab848-50b4-4493-a4cc-c04a663e2b21",
   "metadata": {},
   "source": [
    "## Labeling Data\n",
    "### Add columns that will help identify an 'Event'"
   ]
  },
  {
   "cell_type": "code",
   "execution_count": 5,
   "id": "dae7ac45-67d7-4f47-a5c8-4fd02334efd2",
   "metadata": {},
   "outputs": [],
   "source": [
    "def fixDF(datafrm, direction):\n",
    "    datafrm['Class']= 'D99'\n",
    "\n",
    "    LDR_Data_type = 'int64'\n",
    "\n",
    "    # datafrm['TimeNS'] = datafrm['TimeNS'].apply(lambda x: datetime.datetime.fromtimestamp(float(x)).strftime('%c'))\n",
    "    datafrm['LDR0'] = datafrm['LDR0'].astype(LDR_Data_type)\n",
    "    datafrm['LDR1'] = datafrm['LDR1'].astype(LDR_Data_type)\n",
    "    datafrm['LDR2'] = datafrm['LDR2'].astype(LDR_Data_type)\n",
    "   \n",
    "    #Calculate the rolling window average for N rows\n",
    "    datafrm['AVG_LDR0'] = datafrm['LDR0'].rolling(N).mean()\n",
    "    datafrm['AVG_LDR1'] = datafrm['LDR1'].rolling(N).mean()\n",
    "    datafrm['AVG_LDR2'] = datafrm['LDR2'].rolling(N).mean()\n",
    "\n",
    "    #calculate the PCT change from the previous row of the movign average\n",
    "    datafrm['CHG_LDR0'] = datafrm['AVG_LDR0'].pct_change()      # (current value - previous value ) / current value\n",
    "    datafrm['CHG_LDR1'] = datafrm['AVG_LDR1'].pct_change()\n",
    "    datafrm['CHG_LDR2'] = datafrm['AVG_LDR2'].pct_change()\n",
    "\n",
    "    #if the PCT change of the rolling average is >= %PCT% (0.01), then create a flag \n",
    "    datafrm['BIN_LDR0'] = datafrm['CHG_LDR0'].apply(lambda x: 1 if x >= PCT else 0)\n",
    "    datafrm['BIN_LDR1'] = datafrm['CHG_LDR1'].apply(lambda x: 1 if x >= PCT else 0)\n",
    "    datafrm['BIN_LDR2'] = datafrm['CHG_LDR2'].apply(lambda x: 1 if x >= PCT else 0)\n",
    "    \n",
    "    #accumulate the flags\n",
    "    datafrm['BIN_SUM'] = datafrm['BIN_LDR0'] + datafrm['BIN_LDR1'] + datafrm['BIN_LDR2'] \n",
    "    \n",
    "    datafrm['Class'] = datafrm['BIN_SUM'].apply(lambda x: direction if x>=1 else 'D99')\n",
    "    return datafrm\n"
   ]
  },
  {
   "cell_type": "markdown",
   "id": "fb28d54b-514a-4224-b16a-5b288114de72",
   "metadata": {},
   "source": [
    "### Process all the labeled files and create the "
   ]
  },
  {
   "cell_type": "code",
   "execution_count": 6,
   "id": "32e31c3c-13c4-4eb2-9462-a3fde57848b7",
   "metadata": {},
   "outputs": [],
   "source": [
    "def getFileName(f):\n",
    "    \"\"\"get the file name without extension \"\"\"\n",
    "    r = f.split(\"\\\\\",1)[-1]\n",
    "    return r.split(\".\",1)[0]\n",
    "\n",
    "\n",
    "#look up the class ID using the file name; it requires the file naming convention like output_3_D0....txt\n",
    "def getClass(f):\n",
    "    \"\"\"Return the class label based on the the first occurance of the regular expression find D[0-9]\"\"\"\n",
    "    r = re.search(r'D[0-9]', f)\n",
    "    return r[0]\n",
    "\n",
    "i=0\n",
    "for x in list_of_all_files:\n",
    "    i+=1\n",
    "    direction = getClass(getFileName(x))\n",
    "    df = pd.DataFrame(getCSVData(x), columns=['TimeNS', 'LDR0', 'LDR1', 'LDR2'])\n",
    "    df = fixDF(df,direction)\n",
    "    saveName = f'..\\\\data\\\\df_3_{direction}_{i}.csv'\n",
    "    df.to_csv(saveName, index=False)\n",
    "    "
   ]
  },
  {
   "cell_type": "markdown",
   "id": "3de25cad-bcaa-4656-809a-facc6329cebd",
   "metadata": {},
   "source": [
    "## Load Labeled Data"
   ]
  },
  {
   "cell_type": "code",
   "execution_count": 7,
   "id": "305cc0e2-efad-49d3-be83-24aa42f70c97",
   "metadata": {},
   "outputs": [],
   "source": [
    "path = '../data/'\n",
    "all_files = glob(os.path.join(path, \"df_3*.csv\"))\n",
    "\n",
    "df_3a = pd.concat((pd.read_csv(f) for f in all_files), ignore_index=True)"
   ]
  },
  {
   "cell_type": "code",
   "execution_count": 8,
   "id": "daf1b721-224e-463a-9b83-1d776f6c1fab",
   "metadata": {},
   "outputs": [],
   "source": [
    "df_3a.dropna(inplace=True)\n",
    "df_3a.reset_index(inplace=True,drop=True)"
   ]
  },
  {
   "cell_type": "code",
   "execution_count": 9,
   "id": "fd8ad05e-4351-4436-a0df-2c6787607851",
   "metadata": {},
   "outputs": [
    {
     "name": "stdout",
     "output_type": "stream",
     "text": [
      "<class 'pandas.core.frame.DataFrame'>\n",
      "RangeIndex: 177677 entries, 0 to 177676\n",
      "Data columns (total 15 columns):\n",
      " #   Column    Non-Null Count   Dtype  \n",
      "---  ------    --------------   -----  \n",
      " 0   TimeNS    177677 non-null  float64\n",
      " 1   LDR0      177677 non-null  int64  \n",
      " 2   LDR1      177677 non-null  int64  \n",
      " 3   LDR2      177677 non-null  int64  \n",
      " 4   Class     177677 non-null  object \n",
      " 5   AVG_LDR0  177677 non-null  float64\n",
      " 6   AVG_LDR1  177677 non-null  float64\n",
      " 7   AVG_LDR2  177677 non-null  float64\n",
      " 8   CHG_LDR0  177677 non-null  float64\n",
      " 9   CHG_LDR1  177677 non-null  float64\n",
      " 10  CHG_LDR2  177677 non-null  float64\n",
      " 11  BIN_LDR0  177677 non-null  int64  \n",
      " 12  BIN_LDR1  177677 non-null  int64  \n",
      " 13  BIN_LDR2  177677 non-null  int64  \n",
      " 14  BIN_SUM   177677 non-null  int64  \n",
      "dtypes: float64(7), int64(7), object(1)\n",
      "memory usage: 20.3+ MB\n"
     ]
    }
   ],
   "source": [
    "df_3a.info()"
   ]
  },
  {
   "cell_type": "code",
   "execution_count": 10,
   "id": "701b82ab-be79-4268-86a2-e49545602f8e",
   "metadata": {},
   "outputs": [
    {
     "data": {
      "text/html": [
       "<div>\n",
       "<style scoped>\n",
       "    .dataframe tbody tr th:only-of-type {\n",
       "        vertical-align: middle;\n",
       "    }\n",
       "\n",
       "    .dataframe tbody tr th {\n",
       "        vertical-align: top;\n",
       "    }\n",
       "\n",
       "    .dataframe thead th {\n",
       "        text-align: right;\n",
       "    }\n",
       "</style>\n",
       "<table border=\"1\" class=\"dataframe\">\n",
       "  <thead>\n",
       "    <tr style=\"text-align: right;\">\n",
       "      <th></th>\n",
       "      <th>TimeNS</th>\n",
       "      <th>LDR0</th>\n",
       "      <th>LDR1</th>\n",
       "      <th>LDR2</th>\n",
       "      <th>Class</th>\n",
       "      <th>AVG_LDR0</th>\n",
       "      <th>AVG_LDR1</th>\n",
       "      <th>AVG_LDR2</th>\n",
       "      <th>CHG_LDR0</th>\n",
       "      <th>CHG_LDR1</th>\n",
       "      <th>CHG_LDR2</th>\n",
       "      <th>BIN_LDR0</th>\n",
       "      <th>BIN_LDR1</th>\n",
       "      <th>BIN_LDR2</th>\n",
       "      <th>BIN_SUM</th>\n",
       "    </tr>\n",
       "  </thead>\n",
       "  <tbody>\n",
       "    <tr>\n",
       "      <th>0</th>\n",
       "      <td>1.669577e+09</td>\n",
       "      <td>4800</td>\n",
       "      <td>4992</td>\n",
       "      <td>4800</td>\n",
       "      <td>D99</td>\n",
       "      <td>4800.0</td>\n",
       "      <td>4974.222222</td>\n",
       "      <td>4800.0</td>\n",
       "      <td>0.0</td>\n",
       "      <td>0.000715</td>\n",
       "      <td>0.0</td>\n",
       "      <td>0</td>\n",
       "      <td>0</td>\n",
       "      <td>0</td>\n",
       "      <td>0</td>\n",
       "    </tr>\n",
       "    <tr>\n",
       "      <th>1</th>\n",
       "      <td>1.669577e+09</td>\n",
       "      <td>4800</td>\n",
       "      <td>4992</td>\n",
       "      <td>4800</td>\n",
       "      <td>D99</td>\n",
       "      <td>4800.0</td>\n",
       "      <td>4974.222222</td>\n",
       "      <td>4800.0</td>\n",
       "      <td>0.0</td>\n",
       "      <td>0.000000</td>\n",
       "      <td>0.0</td>\n",
       "      <td>0</td>\n",
       "      <td>0</td>\n",
       "      <td>0</td>\n",
       "      <td>0</td>\n",
       "    </tr>\n",
       "    <tr>\n",
       "      <th>2</th>\n",
       "      <td>1.669577e+09</td>\n",
       "      <td>4800</td>\n",
       "      <td>4992</td>\n",
       "      <td>4800</td>\n",
       "      <td>D99</td>\n",
       "      <td>4800.0</td>\n",
       "      <td>4974.222222</td>\n",
       "      <td>4800.0</td>\n",
       "      <td>0.0</td>\n",
       "      <td>0.000000</td>\n",
       "      <td>0.0</td>\n",
       "      <td>0</td>\n",
       "      <td>0</td>\n",
       "      <td>0</td>\n",
       "      <td>0</td>\n",
       "    </tr>\n",
       "    <tr>\n",
       "      <th>3</th>\n",
       "      <td>1.669577e+09</td>\n",
       "      <td>4800</td>\n",
       "      <td>4928</td>\n",
       "      <td>4800</td>\n",
       "      <td>D99</td>\n",
       "      <td>4800.0</td>\n",
       "      <td>4970.666667</td>\n",
       "      <td>4800.0</td>\n",
       "      <td>0.0</td>\n",
       "      <td>-0.000715</td>\n",
       "      <td>0.0</td>\n",
       "      <td>0</td>\n",
       "      <td>0</td>\n",
       "      <td>0</td>\n",
       "      <td>0</td>\n",
       "    </tr>\n",
       "    <tr>\n",
       "      <th>4</th>\n",
       "      <td>1.669577e+09</td>\n",
       "      <td>4800</td>\n",
       "      <td>4992</td>\n",
       "      <td>4800</td>\n",
       "      <td>D99</td>\n",
       "      <td>4800.0</td>\n",
       "      <td>4974.222222</td>\n",
       "      <td>4800.0</td>\n",
       "      <td>0.0</td>\n",
       "      <td>0.000715</td>\n",
       "      <td>0.0</td>\n",
       "      <td>0</td>\n",
       "      <td>0</td>\n",
       "      <td>0</td>\n",
       "      <td>0</td>\n",
       "    </tr>\n",
       "  </tbody>\n",
       "</table>\n",
       "</div>"
      ],
      "text/plain": [
       "         TimeNS  LDR0  LDR1  LDR2 Class  AVG_LDR0     AVG_LDR1  AVG_LDR2  \\\n",
       "0  1.669577e+09  4800  4992  4800   D99    4800.0  4974.222222    4800.0   \n",
       "1  1.669577e+09  4800  4992  4800   D99    4800.0  4974.222222    4800.0   \n",
       "2  1.669577e+09  4800  4992  4800   D99    4800.0  4974.222222    4800.0   \n",
       "3  1.669577e+09  4800  4928  4800   D99    4800.0  4970.666667    4800.0   \n",
       "4  1.669577e+09  4800  4992  4800   D99    4800.0  4974.222222    4800.0   \n",
       "\n",
       "   CHG_LDR0  CHG_LDR1  CHG_LDR2  BIN_LDR0  BIN_LDR1  BIN_LDR2  BIN_SUM  \n",
       "0       0.0  0.000715       0.0         0         0         0        0  \n",
       "1       0.0  0.000000       0.0         0         0         0        0  \n",
       "2       0.0  0.000000       0.0         0         0         0        0  \n",
       "3       0.0 -0.000715       0.0         0         0         0        0  \n",
       "4       0.0  0.000715       0.0         0         0         0        0  "
      ]
     },
     "execution_count": 10,
     "metadata": {},
     "output_type": "execute_result"
    }
   ],
   "source": [
    "df_3a.head()"
   ]
  },
  {
   "cell_type": "markdown",
   "id": "7e51511a-11d8-4d4d-a0d3-1fcc48e0d7cd",
   "metadata": {},
   "source": [
    "### Now calculate the center of mass for N lines/event \n",
    "\n",
    "The caclculation starts at the first change in average for any columns (PCT >.01)\n",
    "\n",
    "only take the center of mass columns for rLen rows "
   ]
  },
  {
   "cell_type": "code",
   "execution_count": 11,
   "id": "6e3301a1-0a0b-45b0-a37f-0cc0b8275b02",
   "metadata": {},
   "outputs": [],
   "source": [
    "# iterating over rows using iterrows() function\n",
    "indxs=[]\n",
    "j=0\n",
    "cls='D99'\n",
    "for index, row in df_3a.iterrows():\n",
    "    if row['BIN_SUM'] >= 1:\n",
    "        cls=row['Class']    #pick up the class from the first row\n",
    "        if (index != (j)):\n",
    "            if (index != (j+1)):\n",
    "                indxs.append([index,cls])\n",
    "                # print (index, cls)\n",
    "            cls=row['Class']\n",
    "            j=index\n",
    "                \n",
    "new_data=[]\n",
    "for a,b in indxs:\n",
    "    Cx = ndimage.center_of_mass(df_3a.iloc[a:a+rLen,8].values)\n",
    "    Cy = ndimage.center_of_mass(df_3a.iloc[a:a+rLen,9].values)\n",
    "    Cz = ndimage.center_of_mass(df_3a.iloc[a:a+rLen,10].values)\n",
    "    new_data.append([Cx, Cy, Cz, b])\n",
    "    \n",
    "new_df_1 = pd.DataFrame(new_data,columns=['Cx', 'Cy', 'Cz', 'Class'])\n",
    "new_df_1.to_csv('..\\\\data\\\\CM_100_3.csv',index=False)"
   ]
  },
  {
   "cell_type": "code",
   "execution_count": 12,
   "id": "4b60499f-6ccf-4c8e-9a1b-5501d994f599",
   "metadata": {},
   "outputs": [
    {
     "data": {
      "text/html": [
       "<div>\n",
       "<style scoped>\n",
       "    .dataframe tbody tr th:only-of-type {\n",
       "        vertical-align: middle;\n",
       "    }\n",
       "\n",
       "    .dataframe tbody tr th {\n",
       "        vertical-align: top;\n",
       "    }\n",
       "\n",
       "    .dataframe thead th {\n",
       "        text-align: right;\n",
       "    }\n",
       "</style>\n",
       "<table border=\"1\" class=\"dataframe\">\n",
       "  <thead>\n",
       "    <tr style=\"text-align: right;\">\n",
       "      <th></th>\n",
       "      <th>Cx</th>\n",
       "      <th>Cy</th>\n",
       "      <th>Cz</th>\n",
       "      <th>Class</th>\n",
       "    </tr>\n",
       "  </thead>\n",
       "  <tbody>\n",
       "    <tr>\n",
       "      <th>0</th>\n",
       "      <td>(10.70313307068195,)</td>\n",
       "      <td>(7.101213443440939,)</td>\n",
       "      <td>(6.194676375479703,)</td>\n",
       "      <td>D0</td>\n",
       "    </tr>\n",
       "    <tr>\n",
       "      <th>1</th>\n",
       "      <td>(11.497466311220398,)</td>\n",
       "      <td>(8.926100733262997,)</td>\n",
       "      <td>(7.275829384158091,)</td>\n",
       "      <td>D0</td>\n",
       "    </tr>\n",
       "    <tr>\n",
       "      <th>2</th>\n",
       "      <td>(9.259816498830853,)</td>\n",
       "      <td>(6.040270318540881,)</td>\n",
       "      <td>(4.7870030053930055,)</td>\n",
       "      <td>D0</td>\n",
       "    </tr>\n",
       "    <tr>\n",
       "      <th>3</th>\n",
       "      <td>(8.016066869237445,)</td>\n",
       "      <td>(4.898248859828677,)</td>\n",
       "      <td>(4.004920363446906,)</td>\n",
       "      <td>D0</td>\n",
       "    </tr>\n",
       "    <tr>\n",
       "      <th>4</th>\n",
       "      <td>(9.350625882363204,)</td>\n",
       "      <td>(6.534217085093052,)</td>\n",
       "      <td>(4.991108255510789,)</td>\n",
       "      <td>D0</td>\n",
       "    </tr>\n",
       "    <tr>\n",
       "      <th>5</th>\n",
       "      <td>(10.139654224489897,)</td>\n",
       "      <td>(7.329727852743923,)</td>\n",
       "      <td>(5.504438222968223,)</td>\n",
       "      <td>D0</td>\n",
       "    </tr>\n",
       "    <tr>\n",
       "      <th>6</th>\n",
       "      <td>(8.183322016532886,)</td>\n",
       "      <td>(5.55372362283491,)</td>\n",
       "      <td>(3.9685924253175444,)</td>\n",
       "      <td>D0</td>\n",
       "    </tr>\n",
       "    <tr>\n",
       "      <th>7</th>\n",
       "      <td>(9.249498952429672,)</td>\n",
       "      <td>(6.287101064316767,)</td>\n",
       "      <td>(4.913391689995697,)</td>\n",
       "      <td>D0</td>\n",
       "    </tr>\n",
       "    <tr>\n",
       "      <th>8</th>\n",
       "      <td>(7.182527146404501,)</td>\n",
       "      <td>(4.080917471868204,)</td>\n",
       "      <td>(3.0254427103296537,)</td>\n",
       "      <td>D0</td>\n",
       "    </tr>\n",
       "    <tr>\n",
       "      <th>9</th>\n",
       "      <td>(9.19282904283354,)</td>\n",
       "      <td>(6.096474699052759,)</td>\n",
       "      <td>(4.826174977708265,)</td>\n",
       "      <td>D0</td>\n",
       "    </tr>\n",
       "  </tbody>\n",
       "</table>\n",
       "</div>"
      ],
      "text/plain": [
       "                      Cx                    Cy                     Cz Class\n",
       "0   (10.70313307068195,)  (7.101213443440939,)   (6.194676375479703,)    D0\n",
       "1  (11.497466311220398,)  (8.926100733262997,)   (7.275829384158091,)    D0\n",
       "2   (9.259816498830853,)  (6.040270318540881,)  (4.7870030053930055,)    D0\n",
       "3   (8.016066869237445,)  (4.898248859828677,)   (4.004920363446906,)    D0\n",
       "4   (9.350625882363204,)  (6.534217085093052,)   (4.991108255510789,)    D0\n",
       "5  (10.139654224489897,)  (7.329727852743923,)   (5.504438222968223,)    D0\n",
       "6   (8.183322016532886,)   (5.55372362283491,)  (3.9685924253175444,)    D0\n",
       "7   (9.249498952429672,)  (6.287101064316767,)   (4.913391689995697,)    D0\n",
       "8   (7.182527146404501,)  (4.080917471868204,)  (3.0254427103296537,)    D0\n",
       "9    (9.19282904283354,)  (6.096474699052759,)   (4.826174977708265,)    D0"
      ]
     },
     "execution_count": 12,
     "metadata": {},
     "output_type": "execute_result"
    }
   ],
   "source": [
    "# These are the center-of-mass calcuations for each LDR for each event (used for prediction)\n",
    "new_df_1.head(10)"
   ]
  },
  {
   "cell_type": "code",
   "execution_count": 13,
   "id": "64dbff95-8377-415a-a343-3c4a3ba79f0c",
   "metadata": {},
   "outputs": [
    {
     "data": {
      "text/plain": [
       "D4    217\n",
       "D3    213\n",
       "D6    211\n",
       "D5    204\n",
       "D0    202\n",
       "D1    201\n",
       "D7    200\n",
       "D2    197\n",
       "Name: Class, dtype: int64"
      ]
     },
     "execution_count": 13,
     "metadata": {},
     "output_type": "execute_result"
    }
   ],
   "source": [
    "new_df_1['Class'].value_counts()"
   ]
  },
  {
   "cell_type": "code",
   "execution_count": 14,
   "id": "701ff271-4db5-4fcf-907e-7ca09269b062",
   "metadata": {},
   "outputs": [],
   "source": [
    "df_3 = pd.concat([new_df_1['Cx'].apply(pd.Series),\n",
    "                  new_df_1['Cy'].apply(pd.Series),\n",
    "                  new_df_1['Cz'].apply(pd.Series),\n",
    "                  new_df_1['Class']], axis = 1)\n"
   ]
  },
  {
   "cell_type": "code",
   "execution_count": 15,
   "id": "4e14b5f8-ad62-4e1a-8890-6aacd1da0fdb",
   "metadata": {},
   "outputs": [
    {
     "name": "stdout",
     "output_type": "stream",
     "text": [
      "<class 'pandas.core.frame.DataFrame'>\n",
      "RangeIndex: 1645 entries, 0 to 1644\n",
      "Data columns (total 4 columns):\n",
      " #   Column  Non-Null Count  Dtype  \n",
      "---  ------  --------------  -----  \n",
      " 0   0       1645 non-null   float64\n",
      " 1   0       1645 non-null   float64\n",
      " 2   0       1645 non-null   float64\n",
      " 3   Class   1645 non-null   object \n",
      "dtypes: float64(3), object(1)\n",
      "memory usage: 51.5+ KB\n"
     ]
    }
   ],
   "source": [
    "df_3.info()"
   ]
  },
  {
   "cell_type": "code",
   "execution_count": 16,
   "id": "9277c265-1403-417a-94d7-d2abbd31b8fc",
   "metadata": {},
   "outputs": [],
   "source": [
    "df_3.dropna(inplace=True)"
   ]
  },
  {
   "cell_type": "markdown",
   "id": "1339b815-9423-4344-bfb3-67a745350eb8",
   "metadata": {},
   "source": [
    "## Split data into Train/Test and Labeled data sets"
   ]
  },
  {
   "cell_type": "code",
   "execution_count": 17,
   "id": "3d8026e4-dc27-4c04-b32d-5eab6e96b1ee",
   "metadata": {},
   "outputs": [],
   "source": [
    "from sklearn.preprocessing import LabelEncoder\n",
    "X3 = df_3.iloc[:,:-1]\n",
    "X3.columns=['Cx', 'Cy', 'Cz']\n",
    "le = LabelEncoder()\n",
    "y3 = le.fit_transform(df_3['Class'])"
   ]
  },
  {
   "cell_type": "code",
   "execution_count": 18,
   "id": "6dde0011-f1ef-486e-94b0-fb19681f2502",
   "metadata": {},
   "outputs": [
    {
     "data": {
      "text/html": [
       "<div>\n",
       "<style scoped>\n",
       "    .dataframe tbody tr th:only-of-type {\n",
       "        vertical-align: middle;\n",
       "    }\n",
       "\n",
       "    .dataframe tbody tr th {\n",
       "        vertical-align: top;\n",
       "    }\n",
       "\n",
       "    .dataframe thead th {\n",
       "        text-align: right;\n",
       "    }\n",
       "</style>\n",
       "<table border=\"1\" class=\"dataframe\">\n",
       "  <thead>\n",
       "    <tr style=\"text-align: right;\">\n",
       "      <th></th>\n",
       "      <th>Cx</th>\n",
       "      <th>Cy</th>\n",
       "      <th>Cz</th>\n",
       "    </tr>\n",
       "  </thead>\n",
       "  <tbody>\n",
       "    <tr>\n",
       "      <th>0</th>\n",
       "      <td>10.703133</td>\n",
       "      <td>7.101213</td>\n",
       "      <td>6.194676</td>\n",
       "    </tr>\n",
       "    <tr>\n",
       "      <th>1</th>\n",
       "      <td>11.497466</td>\n",
       "      <td>8.926101</td>\n",
       "      <td>7.275829</td>\n",
       "    </tr>\n",
       "    <tr>\n",
       "      <th>2</th>\n",
       "      <td>9.259816</td>\n",
       "      <td>6.040270</td>\n",
       "      <td>4.787003</td>\n",
       "    </tr>\n",
       "    <tr>\n",
       "      <th>3</th>\n",
       "      <td>8.016067</td>\n",
       "      <td>4.898249</td>\n",
       "      <td>4.004920</td>\n",
       "    </tr>\n",
       "    <tr>\n",
       "      <th>4</th>\n",
       "      <td>9.350626</td>\n",
       "      <td>6.534217</td>\n",
       "      <td>4.991108</td>\n",
       "    </tr>\n",
       "  </tbody>\n",
       "</table>\n",
       "</div>"
      ],
      "text/plain": [
       "          Cx        Cy        Cz\n",
       "0  10.703133  7.101213  6.194676\n",
       "1  11.497466  8.926101  7.275829\n",
       "2   9.259816  6.040270  4.787003\n",
       "3   8.016067  4.898249  4.004920\n",
       "4   9.350626  6.534217  4.991108"
      ]
     },
     "execution_count": 18,
     "metadata": {},
     "output_type": "execute_result"
    }
   ],
   "source": [
    "X3.head()"
   ]
  },
  {
   "cell_type": "code",
   "execution_count": 19,
   "id": "c1309bb1-6d2f-48d7-a38f-48be41d66343",
   "metadata": {},
   "outputs": [],
   "source": [
    "#Split data into test and training data sets\n",
    "X_train, X_test, y_train, y_test = train_test_split(X3.values, y3, test_size=0.30, random_state=45,stratify=np.array(y3)) \n"
   ]
  },
  {
   "cell_type": "markdown",
   "id": "c8d3643b-94a8-4913-94e5-781f9a4fea5c",
   "metadata": {},
   "source": [
    "## RandomForestClassifier"
   ]
  },
  {
   "cell_type": "code",
   "execution_count": 20,
   "id": "d1f900cf-5d6b-4643-ac66-a5ff8340cf17",
   "metadata": {},
   "outputs": [
    {
     "name": "stdout",
     "output_type": "stream",
     "text": [
      "Average Cross Validation Score from Training:\n",
      "0.9913043478260869\n",
      "\n",
      "\n",
      "Confusion Matrix:\n",
      "[[61  0  0  0  0  0  0  0]\n",
      " [ 0 60  0  0  0  0  0  0]\n",
      " [ 0  0 58  1  0  0  0  0]\n",
      " [ 0  0  0 64  0  0  0  0]\n",
      " [ 0  0  0  0 64  1  0  0]\n",
      " [ 0  0  0  0  0 61  0  0]\n",
      " [ 0  0  0  0  0  0 64  0]\n",
      " [ 0  0  0  0  0  0  1 59]]\n",
      "\n",
      "\n",
      "Test Statistics:\n",
      "              precision    recall  f1-score   support\n",
      "\n",
      "           0       1.00      1.00      1.00        61\n",
      "           1       1.00      1.00      1.00        60\n",
      "           2       1.00      0.98      0.99        59\n",
      "           3       0.98      1.00      0.99        64\n",
      "           4       1.00      0.98      0.99        65\n",
      "           5       0.98      1.00      0.99        61\n",
      "           6       0.98      1.00      0.99        64\n",
      "           7       1.00      0.98      0.99        60\n",
      "\n",
      "    accuracy                           0.99       494\n",
      "   macro avg       0.99      0.99      0.99       494\n",
      "weighted avg       0.99      0.99      0.99       494\n",
      "\n",
      "\n",
      "\n",
      "Testing Accuracy: 0.9939271255060729\n"
     ]
    }
   ],
   "source": [
    "#training the model\n",
    "from sklearn.datasets import make_classification\n",
    "\n",
    "\n",
    "model = RandomForestClassifier(random_state=42,n_estimators=100,criterion='gini',class_weight='balanced')\n",
    "\n",
    "model.fit(X_train, y_train)\n",
    "\n",
    "cv_scores = cross_val_score(model, X_train, y_train, cv=10)\n",
    "print('Average Cross Validation Score from Training:', cv_scores.mean(), sep='\\n', end='\\n\\n\\n')\n",
    "\n",
    "#testing the model\n",
    "ypred = model.predict(X_test)\n",
    "cm = confusion_matrix(y_test, ypred)\n",
    "cr = classification_report(y_test, ypred)\n",
    "\n",
    "print('Confusion Matrix:', cm, sep='\\n', end='\\n\\n\\n')\n",
    "print('Test Statistics:', cr, sep='\\n', end='\\n\\n\\n')\n",
    "\n",
    "#This is what we will be grading (>95 expected)\n",
    "print('Testing Accuracy:', accuracy_score(y_test, ypred))"
   ]
  },
  {
   "cell_type": "code",
   "execution_count": 21,
   "id": "cf8f1ebe-8f16-4ce2-8367-3ca887526837",
   "metadata": {},
   "outputs": [],
   "source": [
    "#save this awesome RF model as full_file_RF.mod\n",
    "import pickle\n",
    "filename = '3LDR_RF.sav'\n",
    "pickle.dump(model, open(filename, 'wb'))\n"
   ]
  },
  {
   "cell_type": "markdown",
   "id": "7839d89a-2980-47c8-8324-437929f4090c",
   "metadata": {},
   "source": [
    "## HistGradientBoostingClassifier\n"
   ]
  },
  {
   "cell_type": "code",
   "execution_count": 22,
   "id": "f520f81d-4ba2-4bc0-ae7e-1c70c0998035",
   "metadata": {},
   "outputs": [
    {
     "name": "stdout",
     "output_type": "stream",
     "text": [
      "Average Cross Validation Score from Training:\n",
      "0.9782833583208396\n",
      "\n",
      "\n",
      "Confusion Matrix:\n",
      "[[61  0  0  0  0  0  0  0]\n",
      " [ 1 59  0  0  0  0  0  0]\n",
      " [ 0  0 58  1  0  0  0  0]\n",
      " [ 0  0  1 63  0  0  0  0]\n",
      " [ 0  0  0  0 64  1  0  0]\n",
      " [ 0  0  0  0  1 60  0  0]\n",
      " [ 0  0  0  0  0  0 63  1]\n",
      " [ 0  0  0  0  0  0  0 60]]\n",
      "\n",
      "\n",
      "Test Statistics:\n",
      "              precision    recall  f1-score   support\n",
      "\n",
      "           0       0.98      1.00      0.99        61\n",
      "           1       1.00      0.98      0.99        60\n",
      "           2       0.98      0.98      0.98        59\n",
      "           3       0.98      0.98      0.98        64\n",
      "           4       0.98      0.98      0.98        65\n",
      "           5       0.98      0.98      0.98        61\n",
      "           6       1.00      0.98      0.99        64\n",
      "           7       0.98      1.00      0.99        60\n",
      "\n",
      "    accuracy                           0.99       494\n",
      "   macro avg       0.99      0.99      0.99       494\n",
      "weighted avg       0.99      0.99      0.99       494\n",
      "\n",
      "\n",
      "\n",
      "Testing Accuracy: 0.9878542510121457\n"
     ]
    }
   ],
   "source": [
    "from sklearn.ensemble import HistGradientBoostingClassifier\n",
    "\n",
    "clf = HistGradientBoostingClassifier() \n",
    "clf.fit(X_train, y_train)\n",
    "cv_scores = cross_val_score(clf, X_train, y_train, cv=10)\n",
    "print('Average Cross Validation Score from Training:', cv_scores.mean(), sep='\\n', end='\\n\\n\\n')\n",
    "\n",
    "\n",
    "#testing the model\n",
    "ypred = clf.predict(X_test)\n",
    "cm = confusion_matrix(y_test, ypred)\n",
    "cr = classification_report(y_test, ypred)\n",
    "\n",
    "print('Confusion Matrix:', cm, sep='\\n', end='\\n\\n\\n')\n",
    "print('Test Statistics:', cr, sep='\\n', end='\\n\\n\\n')\n",
    "\n",
    "#This is what we will be grading (>95 expected)\n",
    "print('Testing Accuracy:', accuracy_score(y_test, ypred))"
   ]
  },
  {
   "cell_type": "code",
   "execution_count": 23,
   "id": "27ee13ce-a69e-4623-8273-42913180c72c",
   "metadata": {},
   "outputs": [],
   "source": [
    "import pickle\n",
    "filename = '3LDR_XGB.sav'\n",
    "pickle.dump(clf, open(filename, 'wb'))"
   ]
  },
  {
   "cell_type": "markdown",
   "id": "6a8e4338-a233-4716-be40-6a012629d592",
   "metadata": {},
   "source": [
    "### Test one data point"
   ]
  },
  {
   "cell_type": "code",
   "execution_count": 24,
   "id": "7d57cc58-4424-4200-a0e7-8ce6015655a6",
   "metadata": {},
   "outputs": [
    {
     "name": "stdout",
     "output_type": "stream",
     "text": [
      "[[10.98897041, 8.06188478, 6.78354568]]\n"
     ]
    },
    {
     "data": {
      "text/plain": [
       "array([0])"
      ]
     },
     "execution_count": 24,
     "metadata": {},
     "output_type": "execute_result"
    }
   ],
   "source": [
    "Cx = (10.98897041,)\n",
    "Cy = (8.06188478,)\n",
    "Cz = (6.78354568,)\n",
    "\n",
    "pred_data = list([[Cx[0], Cy[0], Cz[0]]])\n",
    "print(pred_data)\n",
    "\n",
    "clf.predict(pred_data)"
   ]
  },
  {
   "cell_type": "markdown",
   "id": "ce731cd0-e7bc-4222-98af-043b9be7c250",
   "metadata": {},
   "source": [
    "## Support Vector Classifier"
   ]
  },
  {
   "cell_type": "code",
   "execution_count": 25,
   "id": "01ccd5f8-91e3-46be-a8fd-141bac4eeb10",
   "metadata": {},
   "outputs": [
    {
     "name": "stdout",
     "output_type": "stream",
     "text": [
      "Average Cross Validation Score from Training:\n",
      "0.9991304347826088\n",
      "\n",
      "\n",
      "Confusion Matrix:\n",
      "[[61  0  0  0  0  0  0  0]\n",
      " [ 0 60  0  0  0  0  0  0]\n",
      " [ 0  0 59  0  0  0  0  0]\n",
      " [ 0  0  0 64  0  0  0  0]\n",
      " [ 0  0  0  0 65  0  0  0]\n",
      " [ 0  0  0  0  0 61  0  0]\n",
      " [ 0  0  0  0  0  0 64  0]\n",
      " [ 0  0  0  0  0  0  0 60]]\n",
      "\n",
      "\n",
      "Test Statistics:\n",
      "              precision    recall  f1-score   support\n",
      "\n",
      "           0       1.00      1.00      1.00        61\n",
      "           1       1.00      1.00      1.00        60\n",
      "           2       1.00      1.00      1.00        59\n",
      "           3       1.00      1.00      1.00        64\n",
      "           4       1.00      1.00      1.00        65\n",
      "           5       1.00      1.00      1.00        61\n",
      "           6       1.00      1.00      1.00        64\n",
      "           7       1.00      1.00      1.00        60\n",
      "\n",
      "    accuracy                           1.00       494\n",
      "   macro avg       1.00      1.00      1.00       494\n",
      "weighted avg       1.00      1.00      1.00       494\n",
      "\n",
      "\n",
      "\n",
      "Testing Accuracy: 1.0\n"
     ]
    }
   ],
   "source": [
    "clfs = SVC(kernel='linear',probability=True) #note the default kernel here is 'rbf' - radial basis function\n",
    "\n",
    "clfs.fit(X_train, y_train)\n",
    "cv_scores = cross_val_score(clfs, X_train, y_train, cv=10)\n",
    "print('Average Cross Validation Score from Training:', cv_scores.mean(), sep='\\n', end='\\n\\n\\n')\n",
    "\n",
    "\n",
    "#testing the model\n",
    "ypred = clfs.predict(X_test)\n",
    "cm = confusion_matrix(y_test, ypred)\n",
    "cr = classification_report(y_test, ypred)\n",
    "\n",
    "print('Confusion Matrix:', cm, sep='\\n', end='\\n\\n\\n')\n",
    "print('Test Statistics:', cr, sep='\\n', end='\\n\\n\\n')\n",
    "\n",
    "#This is what we will be grading (>95 expected)\n",
    "print('Testing Accuracy:', accuracy_score(y_test, ypred))"
   ]
  },
  {
   "cell_type": "code",
   "execution_count": 26,
   "id": "ad5c40e9-e98e-4aa7-94be-93e556eae052",
   "metadata": {},
   "outputs": [
    {
     "name": "stdout",
     "output_type": "stream",
     "text": [
      "[20 10  7  8 20  6  9  9]\n"
     ]
    }
   ],
   "source": [
    "print(clfs.n_support_)"
   ]
  },
  {
   "cell_type": "code",
   "execution_count": 27,
   "id": "d03d2a89-5aa8-4bd6-88e3-1d4bf46cc75b",
   "metadata": {},
   "outputs": [
    {
     "data": {
      "text/plain": [
       "array([[ 7.46031912e+00,  5.26754417e+00,  4.00072856e+00],\n",
       "       [ 7.95899388e+00,  4.93926186e+00,  4.95621836e+00],\n",
       "       [ 1.01396542e+01,  7.32972785e+00,  5.50443822e+00],\n",
       "       [ 7.98843971e+00,  5.81281747e+00,  4.51684693e+00],\n",
       "       [ 6.99974680e+00,  4.87746791e+00,  3.73490218e+00],\n",
       "       [ 7.61154810e+00,  5.19011295e+00,  4.18607455e+00],\n",
       "       [ 8.66022135e+00,  6.19190780e+00,  4.87993974e+00],\n",
       "       [ 6.80648042e+00,  3.71342904e+00,  3.71001218e+00],\n",
       "       [ 7.95742345e+00,  5.87257395e+00,  4.68610944e+00],\n",
       "       [ 8.09133110e+00,  5.71939449e+00,  3.65252727e+00],\n",
       "       [-1.18506696e+02, -3.39109041e+01, -1.48758979e+01],\n",
       "       [ 8.31776046e+00,  6.11723839e+00,  4.45108690e+00],\n",
       "       [ 6.28344403e+00,  4.19322663e+00,  2.12807912e+00],\n",
       "       [ 1.14974663e+01,  8.92610073e+00,  7.27582938e+00],\n",
       "       [ 8.42962824e+00,  6.02971237e+00,  4.59413744e+00],\n",
       "       [ 7.58446985e+00,  5.21507846e+00,  4.33350138e+00],\n",
       "       [ 1.01536000e+01,  7.92524529e+00,  6.35116830e+00],\n",
       "       [ 9.25965326e+00,  6.48486802e+00,  5.27127717e+00],\n",
       "       [ 5.46137583e+00,  1.28708194e+00,  1.71983455e+00],\n",
       "       [ 7.52871369e+00,  5.10837846e+00,  4.08238127e+00],\n",
       "       [ 4.70076621e+00,  4.55236455e+00, -2.03382660e-01],\n",
       "       [ 5.76199996e+00,  5.07017376e+00,  1.92886586e+00],\n",
       "       [ 6.35597652e+00,  5.86244959e+00,  2.86790383e+00],\n",
       "       [ 5.79989279e+00,  5.61916566e+00,  1.53457508e+00],\n",
       "       [ 6.55530166e+00,  6.11199368e+00,  3.12438406e+00],\n",
       "       [ 6.22967898e+00,  5.78092789e+00,  2.76387850e+00],\n",
       "       [ 4.78167938e+00,  4.62875521e+00,  5.72234948e-01],\n",
       "       [ 4.80819566e+00,  4.53492795e+00,  2.19323779e-01],\n",
       "       [ 5.73307405e+00,  5.25913267e+00,  2.13949344e+00],\n",
       "       [ 5.53056557e+00,  5.20118258e+00,  1.94299081e+00],\n",
       "       [ 5.32126572e+00,  6.53168919e+00,  3.01134335e+00],\n",
       "       [ 4.91800047e+00,  5.84446290e+00,  2.26212073e+00],\n",
       "       [ 2.40891973e+00,  4.69749395e+00, -4.48958057e-01],\n",
       "       [ 4.07067449e+00,  4.93305195e+00,  1.52536999e-01],\n",
       "       [ 6.07330177e+00,  7.12306223e+00,  3.71828390e+00],\n",
       "       [ 4.89204394e+00,  5.81118993e+00,  1.40533364e+00],\n",
       "       [ 4.04718406e+00,  4.83285036e+00,  3.57443566e-01],\n",
       "       [ 2.66041585e+00,  5.69723269e+00,  3.13896308e+00],\n",
       "       [ 3.36468322e+00,  6.30421932e+00,  4.09309680e+00],\n",
       "       [ 3.33062639e+00,  6.38656537e+00,  4.73696523e+00],\n",
       "       [ 3.40584321e+00,  6.60926767e+00,  4.06122838e+00],\n",
       "       [ 2.93079540e+00,  5.77776888e+00,  3.87603500e+00],\n",
       "       [-7.68522467e-01,  3.36631755e+00,  8.55127456e-01],\n",
       "       [ 8.50426084e-01,  4.32922406e+00,  6.36513382e-01],\n",
       "       [ 3.33199384e+00,  6.34032176e+00,  4.67537435e+00],\n",
       "       [ 1.99108621e+00,  4.84255837e+00,  4.69175381e+00],\n",
       "       [ 1.27859206e+00,  4.11062599e+00,  4.12765722e+00],\n",
       "       [ 6.83904374e-01,  3.71894044e+00,  3.84909691e+00],\n",
       "       [-1.77341112e-01,  3.20770503e+00,  3.25279006e+00],\n",
       "       [ 8.29574558e-01,  3.97549276e+00,  3.90896601e+00],\n",
       "       [ 7.24179080e-01,  3.76822845e+00,  3.93885467e+00],\n",
       "       [ 3.38931707e+00,  6.12668290e+00,  6.03163513e+00],\n",
       "       [ 3.68237061e-01,  3.50051986e+00,  3.67567874e+00],\n",
       "       [ 3.12140029e+00,  5.65537471e+00,  5.66132674e+00],\n",
       "       [ 2.60408619e+00,  5.52441618e+00,  5.35299438e+00],\n",
       "       [-3.17992790e-01,  3.12345537e+00,  3.12447233e+00],\n",
       "       [ 1.09902439e+00,  4.08133949e+00,  4.15753706e+00],\n",
       "       [ 9.90502503e-01,  3.95247300e+00,  3.95518380e+00],\n",
       "       [ 1.19430966e+00,  3.97511978e+00,  4.49707712e+00],\n",
       "       [ 7.22368400e-02,  3.40044419e+00,  3.38646893e+00],\n",
       "       [ 5.00627414e-01,  3.63407476e+00,  3.49346556e+00],\n",
       "       [-2.85191703e+00,  1.42847614e+00,  9.32841639e-01],\n",
       "       [ 1.03764661e+00,  4.08026148e+00,  4.06789579e+00],\n",
       "       [ 2.17117491e-01,  3.47179784e+00,  3.42628606e+00],\n",
       "       [ 9.83643615e-01,  3.80989075e+00,  4.01896714e+00],\n",
       "       [-4.01790003e-01,  8.55478671e-01,  3.49608564e+00],\n",
       "       [ 1.52178791e+00,  2.44264341e+00,  4.71610051e+00],\n",
       "       [ 3.08296213e+00,  3.29390275e+00,  5.73182141e+00],\n",
       "       [ 3.13114951e+00,  3.80125644e+00,  5.74693077e+00],\n",
       "       [ 3.70001596e+00,  4.11883737e+00,  6.71408816e+00],\n",
       "       [ 1.29788953e+00,  8.01971672e-01,  3.99433252e+00],\n",
       "       [ 4.85099730e+00,  1.84261290e+00,  5.36337980e+00],\n",
       "       [ 4.64069091e+00,  1.52634059e+00,  5.21078706e+00],\n",
       "       [ 4.93241082e+00,  2.06385608e+00,  5.52029944e+00],\n",
       "       [ 4.97351883e+00,  2.78518968e+00,  5.91803671e+00],\n",
       "       [ 6.08014251e+00,  3.59719219e+00,  6.79739252e+00],\n",
       "       [ 3.09565323e+00,  4.78320182e-01,  4.47042740e+00],\n",
       "       [ 2.18602475e+00, -2.42811022e+00,  2.83501285e+00],\n",
       "       [ 4.89309276e+00,  8.84703501e-01,  5.39103265e+00],\n",
       "       [ 5.55129087e+00,  3.01718245e+00,  6.16121238e+00],\n",
       "       [ 6.86061687e+00,  3.43053979e+00,  6.06338682e+00],\n",
       "       [ 5.40433049e+00,  1.77552454e+00,  4.86331238e+00],\n",
       "       [ 5.79490893e+00,  1.99749993e+00,  5.20010831e+00],\n",
       "       [ 4.77440319e+00,  8.39454667e-01,  4.31202894e+00],\n",
       "       [ 5.35442427e+00,  2.14175588e+00,  4.68532465e+00],\n",
       "       [ 4.61812146e+00,  4.20262919e-01,  3.02762072e+00],\n",
       "       [ 5.93729072e+00,  2.64855552e+00,  5.15132561e+00],\n",
       "       [ 9.38981184e+00,  5.43820518e+00,  8.01405416e+00],\n",
       "       [ 5.09329922e+00,  9.88394750e-01,  4.52141520e+00]])"
      ]
     },
     "execution_count": 27,
     "metadata": {},
     "output_type": "execute_result"
    }
   ],
   "source": [
    "clfs.support_vectors_"
   ]
  },
  {
   "cell_type": "code",
   "execution_count": 28,
   "id": "9f977376-20ef-4354-91b7-64ac1619c330",
   "metadata": {},
   "outputs": [
    {
     "data": {
      "text/plain": [
       "array([   7,   52,   55,   63,   99,  220,  242,  264,  300,  308,  332,\n",
       "        335,  338,  658,  946, 1026, 1035, 1042, 1045, 1104,   61,   68,\n",
       "         84,  148,  442,  511,  742,  773,  922,  967,  284,  621,  687,\n",
       "       1023, 1029, 1086, 1128,  289,  430,  503,  528,  613,  722,  778,\n",
       "        927,   24,   86,   93,  109,  238,  267,  431,  490,  591,  610,\n",
       "        626,  739,  806,  835,  840,  936, 1068, 1083, 1098, 1129,  207,\n",
       "        241,  440,  669,  876, 1055,    4,  154,  200,  400,  526,  540,\n",
       "        604,  744,  998,    2,  172,  286,  543,  651,  664,  740,  871,\n",
       "        950])"
      ]
     },
     "execution_count": 28,
     "metadata": {},
     "output_type": "execute_result"
    }
   ],
   "source": [
    "clfs.support_"
   ]
  },
  {
   "cell_type": "code",
   "execution_count": 29,
   "id": "909eef75-4de3-4980-80ab-aea74e32b201",
   "metadata": {},
   "outputs": [],
   "source": [
    "import pickle\n",
    "filename = '3LDR_SVC.sav'\n",
    "pickle.dump(clfs, open(filename, 'wb'))"
   ]
  },
  {
   "cell_type": "markdown",
   "id": "d531d07d-05fb-43a7-ad75-efaed394a421",
   "metadata": {},
   "source": [
    "# Grid Search for best parameters"
   ]
  },
  {
   "cell_type": "code",
   "execution_count": 30,
   "id": "3dba8dbf-245b-4080-a8e8-c3c1c8dc248d",
   "metadata": {},
   "outputs": [],
   "source": [
    "#Plot all the parameters from the grid search \n",
    "def plot_search_results(grid):\n",
    "    \"\"\"\n",
    "    Params: \n",
    "        grid: A trained GridSearchCV object.\n",
    "    \"\"\"\n",
    "    ## Results from grid search\n",
    "    results = grid.cv_results_\n",
    "    means_test = results['mean_test_score']\n",
    "    stds_test = results['std_test_score']\n",
    "    means_train = results['mean_train_score']\n",
    "    stds_train = results['std_train_score']\n",
    "\n",
    "    ## Getting indexes of values per hyper-parameter\n",
    "    masks=[]\n",
    "    masks_names= list(grid.best_params_.keys())\n",
    "    for p_k, p_v in grid.best_params_.items():\n",
    "        masks.append(list(results['param_'+p_k].data==p_v))\n",
    "\n",
    "    params=grid.param_grid\n",
    "\n",
    "    ## Ploting results\n",
    "    fig, ax = plt.subplots(1,len(params),sharex='none', sharey='all',figsize=(20,5))\n",
    "    fig.suptitle('Score per parameter')\n",
    "    fig.text(0.04, 0.5, 'MEAN SCORE', va='center', rotation='vertical')\n",
    "    pram_preformace_in_best = {}\n",
    "    for i, p in enumerate(masks_names):\n",
    "        m = np.stack(masks[:i] + masks[i+1:])\n",
    "        pram_preformace_in_best\n",
    "        best_parms_mask = m.all(axis=0)\n",
    "        best_index = np.where(best_parms_mask)[0]\n",
    "        x = np.array(params[p])\n",
    "        y_1 = np.array(means_test[best_index])\n",
    "        e_1 = np.array(stds_test[best_index])\n",
    "        y_2 = np.array(means_train[best_index])\n",
    "        e_2 = np.array(stds_train[best_index])\n",
    "        ax[i].errorbar(x, y_1, e_1, linestyle='--', marker='o', label='test')\n",
    "        ax[i].errorbar(x, y_2, e_2, linestyle='-', marker='^',label='train' )\n",
    "        ax[i].set_xlabel(p.upper())\n",
    "\n",
    "    plt.legend()\n",
    "    plt.show()"
   ]
  },
  {
   "cell_type": "code",
   "execution_count": 31,
   "id": "9da8d149-afee-4316-9971-de58c6a6e20a",
   "metadata": {},
   "outputs": [
    {
     "data": {
      "image/png": "[encoded data removed]",
      "text/plain": [
       "<Figure size 2000x500 with 2 Axes>"
      ]
     },
     "metadata": {},
     "output_type": "display_data"
    }
   ],
   "source": [
    "from sklearn.model_selection import GridSearchCV\n",
    "parameters = { 'n_estimators':[3, 6, 9, 12, 20, 30, 50, 60, 100], \n",
    "               'criterion':('gini','entropy','log_loss'),\n",
    "             }\n",
    "\n",
    "RFst = RandomForestClassifier(class_weight='balanced', random_state=52)\n",
    "clf = GridSearchCV(RFst, parameters, cv=20,  return_train_score=True)\n",
    "\n",
    "clf.fit(X_train, y_train)\n",
    "\n",
    "plot_search_results(clf)"
   ]
  },
  {
   "cell_type": "code",
   "execution_count": 32,
   "id": "6ac2306c-2df3-47dd-b4f8-950d5006a790",
   "metadata": {},
   "outputs": [
    {
     "name": "stdout",
     "output_type": "stream",
     "text": [
      " Number of rows to average: 18, number of rows to train/test: 20, {'criterion': 'gini', 'n_estimators': 60}, Score: 0.9938898971566849\n"
     ]
    }
   ],
   "source": [
    "print(f' Number of rows to average: {N}, number of rows to train/test: {rLen}, {clf.best_params_}, Score: {clf.best_score_}')"
   ]
  },
  {
   "cell_type": "code",
   "execution_count": 33,
   "id": "10c71e4c-d151-42ba-9ddf-bb1b0b8f0597",
   "metadata": {},
   "outputs": [],
   "source": [
    "#with all the samples 3LDR:\n",
    "# Number of rows to average: 18, number of rows to train/test: 20, {'criterion':    'gini', 'n_estimators': 60}, Score: 0.9938898971566849\n",
    "# Number of rows to average: 18, number of rows to train/test: 20, {'criterion': 'entropy', 'n_estimators': 100}, Score: 0.9887174108480672\n"
   ]
  },
  {
   "cell_type": "markdown",
   "id": "7ca6c5a4-7e25-42d7-b5df-2f88dd99158c",
   "metadata": {},
   "source": [
    "## Random Forest"
   ]
  },
  {
   "cell_type": "code",
   "execution_count": 34,
   "id": "35fc61ca-d721-4e40-8682-cc2474eace5b",
   "metadata": {},
   "outputs": [
    {
     "name": "stdout",
     "output_type": "stream",
     "text": [
      "Average Cross Validation Score from Training:\n",
      "0.9939290867862297\n",
      "\n",
      "\n",
      "Confusion Matrix:\n",
      "[[80  1  0  0  0  0  0  0]\n",
      " [ 0 79  1  0  0  0  0  0]\n",
      " [ 0  0 79  0  0  0  0  0]\n",
      " [ 0  0  0 85  0  0  0  0]\n",
      " [ 0  0  0  0 86  1  0  0]\n",
      " [ 0  0  0  0  0 82  0  0]\n",
      " [ 0  0  0  0  0  0 84  0]\n",
      " [ 0  0  0  0  0  0  0 80]]\n",
      "\n",
      "\n",
      "Test Statistics:\n",
      "              precision    recall  f1-score   support\n",
      "\n",
      "           0       1.00      0.99      0.99        81\n",
      "           1       0.99      0.99      0.99        80\n",
      "           2       0.99      1.00      0.99        79\n",
      "           3       1.00      1.00      1.00        85\n",
      "           4       1.00      0.99      0.99        87\n",
      "           5       0.99      1.00      0.99        82\n",
      "           6       1.00      1.00      1.00        84\n",
      "           7       1.00      1.00      1.00        80\n",
      "\n",
      "    accuracy                           1.00       658\n",
      "   macro avg       1.00      1.00      1.00       658\n",
      "weighted avg       1.00      1.00      1.00       658\n",
      "\n",
      "\n",
      "\n",
      "Testing Accuracy: 0.9954407294832827\n"
     ]
    }
   ],
   "source": [
    "#training the model\n",
    "from sklearn.datasets import make_classification\n",
    "\n",
    "#Split data into test and training data sets\n",
    "X_train, X_test, y_train, y_test = train_test_split(X3, y3, test_size=0.40, random_state=45,stratify=np.array(y3)) \n",
    "\n",
    "\n",
    "model = RandomForestClassifier(random_state=42,n_estimators=60,criterion='gini',class_weight='balanced')\n",
    "\n",
    "model.fit(X_train, y_train)\n",
    "\n",
    "cv_scores = cross_val_score(model, X_train, y_train, cv=10)\n",
    "print('Average Cross Validation Score from Training:', cv_scores.mean(), sep='\\n', end='\\n\\n\\n')\n",
    "\n",
    "#testing the model\n",
    "ypred = model.predict(X_test)\n",
    "cm = confusion_matrix(y_test, ypred)\n",
    "cr = classification_report(y_test, ypred)\n",
    "\n",
    "print('Confusion Matrix:', cm, sep='\\n', end='\\n\\n\\n')\n",
    "print('Test Statistics:', cr, sep='\\n', end='\\n\\n\\n')\n",
    "\n",
    "#This is what we will be grading (>95 expected)\n",
    "print('Testing Accuracy:', accuracy_score(y_test, ypred))"
   ]
  },
  {
   "cell_type": "code",
   "execution_count": 35,
   "id": "4d38e646-8b95-4c38-902d-742b17dc8895",
   "metadata": {},
   "outputs": [
    {
     "data": {
      "text/plain": [
       "3"
      ]
     },
     "execution_count": 35,
     "metadata": {},
     "output_type": "execute_result"
    }
   ],
   "source": [
    "model.n_features_in_\n",
    "# model.n_features_"
   ]
  }
 ],
 "metadata": {
  "kernelspec": {
   "display_name": "Python 3 (ipykernel)",
   "language": "python",
   "name": "python3"
  },
  "language_info": {
   "codemirror_mode": {
    "name": "ipython",
    "version": 3
   },
   "file_extension": ".py",
   "mimetype": "text/x-python",
   "name": "python",
   "nbconvert_exporter": "python",
   "pygments_lexer": "ipython3",
   "version": "3.8.13"
  }
 },
 "nbformat": 4,
 "nbformat_minor": 5
}
