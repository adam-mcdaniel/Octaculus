{
 "cells": [
  {
   "cell_type": "markdown",
   "id": "81e541a4-1575-409f-9eda-74f41978ceb6",
   "metadata": {},
   "source": [
    "## Remember to clear the pycache folder if the model changes"
   ]
  },
  {
   "cell_type": "code",
   "execution_count": 1,
   "id": "b8c49963-f881-4235-a243-20a87314f6bd",
   "metadata": {},
   "outputs": [
    {
     "name": "stdout",
     "output_type": "stream",
     "text": [
      "C:\\Users\\DannyScott\\iPython Notebooks\\COSC 522\\FinalProject\\COSC522_FinalProject\\src\n"
     ]
    }
   ],
   "source": [
    "from LDR3_MODEL import LDR3_MODEL\n",
    "import collections\n",
    "import numpy as np\n",
    "import time\n",
    "import csv\n",
    "\n",
    "bigDq = collections.deque(maxlen=20)  #for the prediction\n",
    "smlDq = collections.deque(maxlen=18)  #for the N row moving average\n",
    "sleepInterval = .005\n",
    "rf_model =LDR3_MODEL() \n",
    "\n",
    "test=[]\n",
    "\n",
    "\n",
    "def getCSVData(fname):\n",
    "    List_data=[]\n",
    "    with open(fname) as csv_file:\n",
    "        csv_reader = csv.reader(csv_file, delimiter=',')\n",
    "        line_count = 0\n",
    "        for row in csv_reader:\n",
    "            List_data.append(row)\n",
    "            line_count+=1  \n",
    "    return List_data\n",
    "\n",
    "\n",
    "\n",
    "cursor = 0\n",
    "def getDataFromLDR():\n",
    "    global cursor\n",
    "    channelArray = np.array(test[cursor][1:4]).astype('int64')\n",
    "    cursor+=1\n",
    "    return channelArray\n",
    "\n",
    "\n",
    "directionClasses = { 0: 'up',\n",
    "                     1: 'upright',\n",
    "                     2: 'right',\n",
    "                     3: 'downright',\n",
    "                     4: 'down',\n",
    "                     5: 'downleft',\n",
    "                     6: 'left',\n",
    "                     7: 'upleft'}\n",
    "\n"
   ]
  },
  {
   "cell_type": "code",
   "execution_count": 2,
   "id": "b95dea8f-ecc2-4ce1-87ee-0de492716725",
   "metadata": {},
   "outputs": [
    {
     "data": {
      "text/plain": [
       "'upright'"
      ]
     },
     "execution_count": 2,
     "metadata": {},
     "output_type": "execute_result"
    }
   ],
   "source": [
    "#this is UP\n",
    "Cx = (10.98897041,)\n",
    "Cy = (8.06188478,)\n",
    "Cz = (6.78354568,)\n",
    "\n",
    "pred_data = np.array(list([Cx[0], Cy[0], Cz[0]])).reshape(1, -1)\n",
    "\n",
    "d = rf_model.model_predict(pred_data)\n",
    "directionClasses.get(d)"
   ]
  },
  {
   "cell_type": "code",
   "execution_count": 3,
   "id": "ea9a3358-1bb4-4494-a380-6ae9200196d1",
   "metadata": {},
   "outputs": [
    {
     "data": {
      "text/plain": [
       "'upleft'"
      ]
     },
     "execution_count": 3,
     "metadata": {},
     "output_type": "execute_result"
    }
   ],
   "source": [
    "Cx = (8.720174194973296,)\n",
    "Cy = (8.704040594174783,)\n",
    "Cz = (8.655847969921284,)\n",
    "\n",
    "pred_data = np.array(list([Cx[0], Cy[0], Cz[0]])).reshape(1, -1)\n",
    "d = rf_model.model_predict(pred_data)\n",
    "directionClasses.get(d)"
   ]
  },
  {
   "cell_type": "code",
   "execution_count": 4,
   "id": "0090d410-1738-46ea-8ae7-ccadd773326d",
   "metadata": {},
   "outputs": [],
   "source": [
    "def writeoutdata(data):\n",
    "    with open(\"changes.txt\", 'a') as file1:\n",
    "        if type(data) == list:\n",
    "            file1.write(','.join(str(item) for item in data)) \n",
    "            file1.write('\\n')\n",
    "        else:\n",
    "            file1.write(data + '\\n')\n",
    "\n",
    "    "
   ]
  },
  {
   "cell_type": "code",
   "execution_count": 5,
   "id": "f9fde0ff-811e-42ec-957f-a35f46d1a943",
   "metadata": {},
   "outputs": [],
   "source": [
    "import pandas as pd\n",
    "from scipy import ndimage\n",
    "\n",
    "def predictDirection(aa):\n",
    "    dfObj = pd.DataFrame(aa) \n",
    "    Cx = ndimage.center_of_mass(dfObj[0].values)\n",
    "    Cy = ndimage.center_of_mass(dfObj[1].values)\n",
    "    Cz = ndimage.center_of_mass(dfObj[2].values)\n",
    "    # writeoutdata('center')       #DEBUG CODE\n",
    "    # pred_data = list([Cx[0], Cy[0], Cz[0]])\n",
    "    pred_data = np.array(list([Cx[0], Cy[0], Cz[0]])).reshape(1, -1)\n",
    "    # writeoutdata(pred_data)     #DEBUG CODE\n",
    "    d = rf_model.model_predict(pred_data)\n",
    "    direction = directionClasses.get(d)\n",
    "    return direction\n"
   ]
  },
  {
   "cell_type": "code",
   "execution_count": 6,
   "id": "bfd2b619-9bf9-4a9c-a974-3294baf02099",
   "metadata": {},
   "outputs": [
    {
     "name": "stdout",
     "output_type": "stream",
     "text": [
      "<class 'list'>\n"
     ]
    }
   ],
   "source": [
    "#load test data\n",
    "# test = getCSVData('..//data//raw_data_do_not_edit//test_data.txt')\n",
    "test = getCSVData('..//data//raw_data_do_not_edit//output_3_D4_b.txt')\n",
    "\n",
    "print(type(test))"
   ]
  },
  {
   "cell_type": "code",
   "execution_count": 7,
   "id": "fe3918a5-a415-42b5-93ac-63db5392a384",
   "metadata": {},
   "outputs": [
    {
     "name": "stdout",
     "output_type": "stream",
     "text": [
      "[10048 10368  9984]\n"
     ]
    }
   ],
   "source": [
    "print(getDataFromLDR())\n",
    "cursor=0"
   ]
  },
  {
   "cell_type": "code",
   "execution_count": 8,
   "id": "cd96c37d-f229-4ecd-acf6-cb8d5873ae2f",
   "metadata": {
    "tags": []
   },
   "outputs": [
    {
     "name": "stdout",
     "output_type": "stream",
     "text": [
      "down\n",
      "down\n",
      "down\n",
      "down\n",
      "down\n",
      "down\n",
      "down\n",
      "down\n",
      "down\n",
      "down\n",
      "down\n",
      "down\n",
      "down\n",
      "down\n",
      "down\n"
     ]
    },
    {
     "ename": "KeyboardInterrupt",
     "evalue": "",
     "output_type": "error",
     "traceback": [
      "\u001b[1;31m---------------------------------------------------------------------------\u001b[0m",
      "\u001b[1;31mKeyboardInterrupt\u001b[0m                         Traceback (most recent call last)",
      "Input \u001b[1;32mIn [8]\u001b[0m, in \u001b[0;36m<cell line: 6>\u001b[1;34m()\u001b[0m\n\u001b[0;32m      6\u001b[0m data \u001b[38;5;241m=\u001b[39m getDataFromLDR()\n\u001b[0;32m      7\u001b[0m smlDq\u001b[38;5;241m.\u001b[39mappend(data)\n\u001b[1;32m----> 8\u001b[0m \u001b[43mtime\u001b[49m\u001b[38;5;241;43m.\u001b[39;49m\u001b[43msleep\u001b[49m\u001b[43m(\u001b[49m\u001b[43msleepInterval\u001b[49m\u001b[43m)\u001b[49m\n\u001b[0;32m      9\u001b[0m new_average \u001b[38;5;241m=\u001b[39m np\u001b[38;5;241m.\u001b[39maverage(smlDq, axis\u001b[38;5;241m=\u001b[39m\u001b[38;5;241m0\u001b[39m)\n\u001b[0;32m     10\u001b[0m \u001b[38;5;28;01mif\u001b[39;00m prev_average \u001b[38;5;129;01mis\u001b[39;00m \u001b[38;5;28;01mNone\u001b[39;00m:\n",
      "\u001b[1;31mKeyboardInterrupt\u001b[0m: "
     ]
    }
   ],
   "source": [
    "roll_past = 0\n",
    "prev_average = None\n",
    "flag_data_predictor=False\n",
    "\n",
    "while True:\n",
    "    data = getDataFromLDR()\n",
    "    smlDq.append(data)\n",
    "    time.sleep(sleepInterval)\n",
    "    new_average = np.average(smlDq, axis=0)\n",
    "    if prev_average is None:\n",
    "        prev_average = new_average\n",
    "    percent_change = np.subtract(new_average, prev_average)/prev_average\n",
    "    list_percent_change = list(percent_change)\n",
    "    # writeoutdata(list_percent_change)     #DEBUG CODE\n",
    "    prev_average=new_average\n",
    "    bigDq.append(list_percent_change)  #stack the percent change\n",
    "    \n",
    "    if (any(np.array(list_percent_change)>=0.01)):\n",
    "        if (flag_data_predictor==False):\n",
    "            writeoutdata('percent change')\n",
    "        flag_data_predictor = True\n",
    "    \n",
    "    if (flag_data_predictor):    \n",
    "        if(roll_past >= 18):\n",
    "            p = (predictDirection(bigDq))\n",
    "            # writeoutdata(p)      #DEBUG CODE\n",
    "            print(p)\n",
    "            roll_past = 0\n",
    "            flag_data_predictor=False\n",
    "        else:\n",
    "            # print(roll_past)\n",
    "            roll_past+=1\n",
    "    else:\n",
    "        continue\n",
    "    \n"
   ]
  }
 ],
 "metadata": {
  "kernelspec": {
   "display_name": "Python 3 (ipykernel)",
   "language": "python",
   "name": "python3"
  },
  "language_info": {
   "codemirror_mode": {
    "name": "ipython",
    "version": 3
   },
   "file_extension": ".py",
   "mimetype": "text/x-python",
   "name": "python",
   "nbconvert_exporter": "python",
   "pygments_lexer": "ipython3",
   "version": "3.8.13"
  }
 },
 "nbformat": 4,
 "nbformat_minor": 5
}
