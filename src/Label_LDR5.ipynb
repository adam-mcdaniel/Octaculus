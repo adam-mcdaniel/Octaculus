{
 "cells": [
  {
   "cell_type": "markdown",
   "id": "2deee26c-7e77-4ad0-ad1a-785c5389d265",
   "metadata": {},
   "source": [
    "# COSC522 Fall 2022 Final Project - 5-LDR\n",
    "\n",
    "## Team Members\n",
    "Dan Scott <br>\n",
    "Adam McDaniel<br>\n",
    "Logan Wrinkle<br>\n",
    "\n",
    "This notebook sets up the labels and models for the 5-LDR configuration."
   ]
  },
  {
   "cell_type": "code",
   "execution_count": 1,
   "id": "a9b58c81-4352-43c6-8208-6e48c8e78225",
   "metadata": {},
   "outputs": [],
   "source": [
    "import numpy as np\n",
    "import pandas as pd\n",
    "import os\n",
    "import re\n",
    "from glob import glob\n",
    "import time\n",
    "from datetime import datetime\n",
    "import datetime\n",
    "import csv\n",
    "import matplotlib.pyplot as plt\n",
    "import seaborn as sns\n",
    "from scipy import ndimage\n",
    "from sklearn.model_selection import KFold, cross_val_score\n",
    "from sklearn.ensemble import RandomForestClassifier\n",
    "from sklearn.svm import SVC\n",
    "from sklearn.model_selection import train_test_split\n",
    "from sklearn.preprocessing import Normalizer\n",
    "from sklearn.metrics import confusion_matrix\n",
    "from sklearn.metrics import classification_report, accuracy_score"
   ]
  },
  {
   "cell_type": "markdown",
   "id": "69d1c067-94a9-4945-be0a-6198d3530c71",
   "metadata": {},
   "source": [
    "## Gather Data from raw LDR values\n",
    "\n",
    "The data for the 5-LDR models was captured on the Raspberry Pi and transfered to the raw data folder. A file of 100+ events was produced for each direction and saved with the direction (D0, D1,...) in the file name to make identification by programatic means possible."
   ]
  },
  {
   "cell_type": "code",
   "execution_count": 2,
   "id": "67293998-2bde-4ded-b0a0-89fda658af94",
   "metadata": {},
   "outputs": [
    {
     "name": "stdout",
     "output_type": "stream",
     "text": [
      "[(0, '../data/raw_data_do_not_edit\\\\output_5_D0.txt'),\n",
      " (1, '../data/raw_data_do_not_edit\\\\output_5_D1.txt'),\n",
      " (2, '../data/raw_data_do_not_edit\\\\output_5_D2.txt'),\n",
      " (3, '../data/raw_data_do_not_edit\\\\output_5_D3.txt'),\n",
      " (4, '../data/raw_data_do_not_edit\\\\output_5_D4.txt'),\n",
      " (5, '../data/raw_data_do_not_edit\\\\output_5_D5.txt'),\n",
      " (6, '../data/raw_data_do_not_edit\\\\output_5_D7.txt')]\n"
     ]
    }
   ],
   "source": [
    "root = os.getcwd()\n",
    "data = '../data/raw_data_do_not_edit/'\n",
    "\n",
    "#list of all CSV files in directory\n",
    "list_of_all_files = glob(os.path.join(data, 'output_5*.txt'))\n",
    "list_of_all_files.sort()\n",
    "from pprint import pprint  \n",
    "pprint(list(enumerate(list_of_all_files, start=0)))"
   ]
  },
  {
   "cell_type": "code",
   "execution_count": 3,
   "id": "9a2993c4-e645-4acf-bc3c-9739377a4ea4",
   "metadata": {},
   "outputs": [],
   "source": [
    "#General purpose read CSV with NO data types infered, this is needed because the time stamp does not auto convert using pandas\n",
    "def getCSVData(fname):\n",
    "    List_data=[]\n",
    "    with open(fname) as csv_file:\n",
    "        csv_reader = csv.reader(csv_file, delimiter=',')\n",
    "        line_count = 0\n",
    "        for row in csv_reader:\n",
    "            List_data.append(row)\n",
    "            line_count+=1  \n",
    "    return List_data"
   ]
  },
  {
   "cell_type": "markdown",
   "id": "69c01366-14e8-4953-a9b9-b30c531e74e8",
   "metadata": {},
   "source": [
    "## Global parameters for identifing the events based on the average percent change over N rows"
   ]
  },
  {
   "cell_type": "code",
   "execution_count": 4,
   "id": "6701de5f-2109-49e4-ae16-9c7b7b7c4e9e",
   "metadata": {},
   "outputs": [],
   "source": [
    "N = 18       # Rolling average over N rows\n",
    "rLen = 20    # use this many rows of data to predict \n",
    "PCT = 0.01   # flag if any change in percentage from previous row changes by PCT"
   ]
  },
  {
   "cell_type": "markdown",
   "id": "eb4ab848-50b4-4493-a4cc-c04a663e2b21",
   "metadata": {},
   "source": [
    "## Labeling Data\n",
    "### Add columns that will help identify an 'Event'"
   ]
  },
  {
   "cell_type": "code",
   "execution_count": 5,
   "id": "dae7ac45-67d7-4f47-a5c8-4fd02334efd2",
   "metadata": {},
   "outputs": [],
   "source": [
    "def fixDF(datafrm, direction):\n",
    "    datafrm['Class']= 'D99'\n",
    "\n",
    "    LDR_Data_type = 'int64'\n",
    "\n",
    "    # datafrm['TimeNS'] = datafrm['TimeNS'].apply(lambda x: datetime.datetime.fromtimestamp(float(x)).strftime('%c'))\n",
    "    datafrm['LDR0'] = datafrm['LDR0'].astype(LDR_Data_type)\n",
    "    datafrm['LDR1'] = datafrm['LDR1'].astype(LDR_Data_type)\n",
    "    datafrm['LDR2'] = datafrm['LDR2'].astype(LDR_Data_type)\n",
    "    datafrm['LDR3'] = datafrm['LDR3'].astype(LDR_Data_type)\n",
    "    datafrm['LDR4'] = datafrm['LDR4'].astype(LDR_Data_type)\n",
    "   \n",
    "    #Calculate the rolling window average for N rows\n",
    "    datafrm['AVG_LDR0'] = datafrm['LDR0'].rolling(N).mean()\n",
    "    datafrm['AVG_LDR1'] = datafrm['LDR1'].rolling(N).mean()\n",
    "    datafrm['AVG_LDR2'] = datafrm['LDR2'].rolling(N).mean()\n",
    "    datafrm['AVG_LDR3'] = datafrm['LDR3'].rolling(N).mean()\n",
    "    datafrm['AVG_LDR4'] = datafrm['LDR4'].rolling(N).mean()\n",
    "\n",
    "    #calculate the PCT change from the previous row of the movign average\n",
    "    datafrm['CHG_LDR0'] = datafrm['AVG_LDR0'].pct_change()      # (current value - previous value ) / current value\n",
    "    datafrm['CHG_LDR1'] = datafrm['AVG_LDR1'].pct_change()\n",
    "    datafrm['CHG_LDR2'] = datafrm['AVG_LDR2'].pct_change()\n",
    "    datafrm['CHG_LDR3'] = datafrm['AVG_LDR3'].pct_change()\n",
    "    datafrm['CHG_LDR4'] = datafrm['AVG_LDR4'].pct_change()\n",
    "\n",
    "    #if the PCT change of the rolling average is >= %PCT% (0.01), then create a flag \n",
    "    datafrm['BIN_LDR0'] = datafrm['CHG_LDR0'].apply(lambda x: 1 if x >= PCT else 0)\n",
    "    datafrm['BIN_LDR1'] = datafrm['CHG_LDR1'].apply(lambda x: 1 if x >= PCT else 0)\n",
    "    datafrm['BIN_LDR2'] = datafrm['CHG_LDR2'].apply(lambda x: 1 if x >= PCT else 0)\n",
    "    datafrm['BIN_LDR3'] = datafrm['CHG_LDR3'].apply(lambda x: 1 if x >= PCT else 0)\n",
    "    datafrm['BIN_LDR4'] = datafrm['CHG_LDR4'].apply(lambda x: 1 if x >= PCT else 0)\n",
    "    \n",
    "    #accumulate the flags\n",
    "    datafrm['BIN_SUM'] = datafrm['BIN_LDR0'] + datafrm['BIN_LDR1'] + datafrm['BIN_LDR2']  + datafrm['BIN_LDR3']  + datafrm['BIN_LDR4'] \n",
    "    \n",
    "    datafrm['Class'] = datafrm['BIN_SUM'].apply(lambda x: direction if x>=1 else 'D99')\n",
    "    return datafrm\n"
   ]
  },
  {
   "cell_type": "markdown",
   "id": "fb28d54b-514a-4224-b16a-5b288114de72",
   "metadata": {},
   "source": [
    "### Process all the labeled files and create the "
   ]
  },
  {
   "cell_type": "code",
   "execution_count": 6,
   "id": "32e31c3c-13c4-4eb2-9462-a3fde57848b7",
   "metadata": {},
   "outputs": [],
   "source": [
    "def getFileName(f):\n",
    "    \"\"\"get the file name without extension \"\"\"\n",
    "    r = f.split(\"\\\\\",1)[-1]\n",
    "    return r.split(\".\",1)[0]\n",
    "\n",
    "\n",
    "#look up the class ID using the file name; it requires the file naming convention like output_5_D0....txt\n",
    "def getClass(f):\n",
    "    \"\"\"Return the class label based on the the first occurance of the regular expression find D[0-9]\"\"\"\n",
    "    r = re.search(r'D[0-9]', f)\n",
    "    return r[0]\n",
    "\n",
    "i=0\n",
    "for x in list_of_all_files:\n",
    "    i+=1\n",
    "    direction = getClass(getFileName(x))\n",
    "    df = pd.DataFrame(getCSVData(x), columns=['TimeNS', 'LDR0', 'LDR1', 'LDR2', 'LDR3', 'LDR4'])\n",
    "    df = fixDF(df,direction)\n",
    "    saveName = f'..\\\\data\\\\df_5_{direction}_{i}.csv'\n",
    "    df.to_csv(saveName, index=False)\n",
    "    "
   ]
  },
  {
   "cell_type": "markdown",
   "id": "3de25cad-bcaa-4656-809a-facc6329cebd",
   "metadata": {},
   "source": [
    "### Save Labeled Data"
   ]
  },
  {
   "cell_type": "code",
   "execution_count": 7,
   "id": "305cc0e2-efad-49d3-be83-24aa42f70c97",
   "metadata": {},
   "outputs": [],
   "source": [
    "path = '../data/'\n",
    "all_files = glob(os.path.join(path, \"df_5*.csv\"))\n",
    "\n",
    "df_5 = pd.concat((pd.read_csv(f) for f in all_files), ignore_index=True)"
   ]
  },
  {
   "cell_type": "code",
   "execution_count": 8,
   "id": "daf1b721-224e-463a-9b83-1d776f6c1fab",
   "metadata": {},
   "outputs": [],
   "source": [
    "df_5.dropna(inplace=True)\n",
    "df_5.reset_index(inplace=True,drop=True)"
   ]
  },
  {
   "cell_type": "code",
   "execution_count": 9,
   "id": "fd8ad05e-4351-4436-a0df-2c6787607851",
   "metadata": {},
   "outputs": [
    {
     "name": "stdout",
     "output_type": "stream",
     "text": [
      "<class 'pandas.core.frame.DataFrame'>\n",
      "RangeIndex: 79080 entries, 0 to 79079\n",
      "Data columns (total 23 columns):\n",
      " #   Column    Non-Null Count  Dtype  \n",
      "---  ------    --------------  -----  \n",
      " 0   TimeNS    79080 non-null  float64\n",
      " 1   LDR0      79080 non-null  int64  \n",
      " 2   LDR1      79080 non-null  int64  \n",
      " 3   LDR2      79080 non-null  int64  \n",
      " 4   LDR3      79080 non-null  int64  \n",
      " 5   LDR4      79080 non-null  int64  \n",
      " 6   Class     79080 non-null  object \n",
      " 7   AVG_LDR0  79080 non-null  float64\n",
      " 8   AVG_LDR1  79080 non-null  float64\n",
      " 9   AVG_LDR2  79080 non-null  float64\n",
      " 10  AVG_LDR3  79080 non-null  float64\n",
      " 11  AVG_LDR4  79080 non-null  float64\n",
      " 12  CHG_LDR0  79080 non-null  float64\n",
      " 13  CHG_LDR1  79080 non-null  float64\n",
      " 14  CHG_LDR2  79080 non-null  float64\n",
      " 15  CHG_LDR3  79080 non-null  float64\n",
      " 16  CHG_LDR4  79080 non-null  float64\n",
      " 17  BIN_LDR0  79080 non-null  int64  \n",
      " 18  BIN_LDR1  79080 non-null  int64  \n",
      " 19  BIN_LDR2  79080 non-null  int64  \n",
      " 20  BIN_LDR3  79080 non-null  int64  \n",
      " 21  BIN_LDR4  79080 non-null  int64  \n",
      " 22  BIN_SUM   79080 non-null  int64  \n",
      "dtypes: float64(11), int64(11), object(1)\n",
      "memory usage: 13.9+ MB\n"
     ]
    }
   ],
   "source": [
    "df_5.info()"
   ]
  },
  {
   "cell_type": "code",
   "execution_count": 10,
   "id": "701b82ab-be79-4268-86a2-e49545602f8e",
   "metadata": {},
   "outputs": [
    {
     "data": {
      "text/html": [
       "<div>\n",
       "<style scoped>\n",
       "    .dataframe tbody tr th:only-of-type {\n",
       "        vertical-align: middle;\n",
       "    }\n",
       "\n",
       "    .dataframe tbody tr th {\n",
       "        vertical-align: top;\n",
       "    }\n",
       "\n",
       "    .dataframe thead th {\n",
       "        text-align: right;\n",
       "    }\n",
       "</style>\n",
       "<table border=\"1\" class=\"dataframe\">\n",
       "  <thead>\n",
       "    <tr style=\"text-align: right;\">\n",
       "      <th></th>\n",
       "      <th>TimeNS</th>\n",
       "      <th>LDR0</th>\n",
       "      <th>LDR1</th>\n",
       "      <th>LDR2</th>\n",
       "      <th>LDR3</th>\n",
       "      <th>LDR4</th>\n",
       "      <th>Class</th>\n",
       "      <th>AVG_LDR0</th>\n",
       "      <th>AVG_LDR1</th>\n",
       "      <th>AVG_LDR2</th>\n",
       "      <th>...</th>\n",
       "      <th>CHG_LDR1</th>\n",
       "      <th>CHG_LDR2</th>\n",
       "      <th>CHG_LDR3</th>\n",
       "      <th>CHG_LDR4</th>\n",
       "      <th>BIN_LDR0</th>\n",
       "      <th>BIN_LDR1</th>\n",
       "      <th>BIN_LDR2</th>\n",
       "      <th>BIN_LDR3</th>\n",
       "      <th>BIN_LDR4</th>\n",
       "      <th>BIN_SUM</th>\n",
       "    </tr>\n",
       "  </thead>\n",
       "  <tbody>\n",
       "    <tr>\n",
       "      <th>0</th>\n",
       "      <td>1.669907e+09</td>\n",
       "      <td>19264</td>\n",
       "      <td>28224</td>\n",
       "      <td>14528</td>\n",
       "      <td>12736</td>\n",
       "      <td>14592</td>\n",
       "      <td>D99</td>\n",
       "      <td>19352.888889</td>\n",
       "      <td>28216.888889</td>\n",
       "      <td>14556.444444</td>\n",
       "      <td>...</td>\n",
       "      <td>0.000000</td>\n",
       "      <td>0.000000</td>\n",
       "      <td>0.000279</td>\n",
       "      <td>-0.000243</td>\n",
       "      <td>0</td>\n",
       "      <td>0</td>\n",
       "      <td>0</td>\n",
       "      <td>0</td>\n",
       "      <td>0</td>\n",
       "      <td>0</td>\n",
       "    </tr>\n",
       "    <tr>\n",
       "      <th>1</th>\n",
       "      <td>1.669907e+09</td>\n",
       "      <td>19328</td>\n",
       "      <td>28224</td>\n",
       "      <td>14528</td>\n",
       "      <td>12736</td>\n",
       "      <td>14592</td>\n",
       "      <td>D99</td>\n",
       "      <td>19352.888889</td>\n",
       "      <td>28216.888889</td>\n",
       "      <td>14556.444444</td>\n",
       "      <td>...</td>\n",
       "      <td>0.000000</td>\n",
       "      <td>0.000000</td>\n",
       "      <td>0.000000</td>\n",
       "      <td>0.000000</td>\n",
       "      <td>0</td>\n",
       "      <td>0</td>\n",
       "      <td>0</td>\n",
       "      <td>0</td>\n",
       "      <td>0</td>\n",
       "      <td>0</td>\n",
       "    </tr>\n",
       "    <tr>\n",
       "      <th>2</th>\n",
       "      <td>1.669907e+09</td>\n",
       "      <td>19392</td>\n",
       "      <td>28160</td>\n",
       "      <td>14464</td>\n",
       "      <td>12736</td>\n",
       "      <td>14592</td>\n",
       "      <td>D99</td>\n",
       "      <td>19352.888889</td>\n",
       "      <td>28213.333333</td>\n",
       "      <td>14552.888889</td>\n",
       "      <td>...</td>\n",
       "      <td>-0.000126</td>\n",
       "      <td>-0.000244</td>\n",
       "      <td>0.000000</td>\n",
       "      <td>0.000000</td>\n",
       "      <td>0</td>\n",
       "      <td>0</td>\n",
       "      <td>0</td>\n",
       "      <td>0</td>\n",
       "      <td>0</td>\n",
       "      <td>0</td>\n",
       "    </tr>\n",
       "    <tr>\n",
       "      <th>3</th>\n",
       "      <td>1.669907e+09</td>\n",
       "      <td>19328</td>\n",
       "      <td>28224</td>\n",
       "      <td>14528</td>\n",
       "      <td>12672</td>\n",
       "      <td>14592</td>\n",
       "      <td>D99</td>\n",
       "      <td>19352.888889</td>\n",
       "      <td>28213.333333</td>\n",
       "      <td>14549.333333</td>\n",
       "      <td>...</td>\n",
       "      <td>0.000000</td>\n",
       "      <td>-0.000244</td>\n",
       "      <td>-0.000279</td>\n",
       "      <td>0.000000</td>\n",
       "      <td>0</td>\n",
       "      <td>0</td>\n",
       "      <td>0</td>\n",
       "      <td>0</td>\n",
       "      <td>0</td>\n",
       "      <td>0</td>\n",
       "    </tr>\n",
       "    <tr>\n",
       "      <th>4</th>\n",
       "      <td>1.669907e+09</td>\n",
       "      <td>19264</td>\n",
       "      <td>28224</td>\n",
       "      <td>14592</td>\n",
       "      <td>12736</td>\n",
       "      <td>14592</td>\n",
       "      <td>D99</td>\n",
       "      <td>19345.777778</td>\n",
       "      <td>28213.333333</td>\n",
       "      <td>14552.888889</td>\n",
       "      <td>...</td>\n",
       "      <td>0.000000</td>\n",
       "      <td>0.000244</td>\n",
       "      <td>0.000000</td>\n",
       "      <td>0.000000</td>\n",
       "      <td>0</td>\n",
       "      <td>0</td>\n",
       "      <td>0</td>\n",
       "      <td>0</td>\n",
       "      <td>0</td>\n",
       "      <td>0</td>\n",
       "    </tr>\n",
       "  </tbody>\n",
       "</table>\n",
       "<p>5 rows × 23 columns</p>\n",
       "</div>"
      ],
      "text/plain": [
       "         TimeNS   LDR0   LDR1   LDR2   LDR3   LDR4 Class      AVG_LDR0  \\\n",
       "0  1.669907e+09  19264  28224  14528  12736  14592   D99  19352.888889   \n",
       "1  1.669907e+09  19328  28224  14528  12736  14592   D99  19352.888889   \n",
       "2  1.669907e+09  19392  28160  14464  12736  14592   D99  19352.888889   \n",
       "3  1.669907e+09  19328  28224  14528  12672  14592   D99  19352.888889   \n",
       "4  1.669907e+09  19264  28224  14592  12736  14592   D99  19345.777778   \n",
       "\n",
       "       AVG_LDR1      AVG_LDR2  ...  CHG_LDR1  CHG_LDR2  CHG_LDR3  CHG_LDR4  \\\n",
       "0  28216.888889  14556.444444  ...  0.000000  0.000000  0.000279 -0.000243   \n",
       "1  28216.888889  14556.444444  ...  0.000000  0.000000  0.000000  0.000000   \n",
       "2  28213.333333  14552.888889  ... -0.000126 -0.000244  0.000000  0.000000   \n",
       "3  28213.333333  14549.333333  ...  0.000000 -0.000244 -0.000279  0.000000   \n",
       "4  28213.333333  14552.888889  ...  0.000000  0.000244  0.000000  0.000000   \n",
       "\n",
       "   BIN_LDR0  BIN_LDR1  BIN_LDR2  BIN_LDR3  BIN_LDR4  BIN_SUM  \n",
       "0         0         0         0         0         0        0  \n",
       "1         0         0         0         0         0        0  \n",
       "2         0         0         0         0         0        0  \n",
       "3         0         0         0         0         0        0  \n",
       "4         0         0         0         0         0        0  \n",
       "\n",
       "[5 rows x 23 columns]"
      ]
     },
     "execution_count": 10,
     "metadata": {},
     "output_type": "execute_result"
    }
   ],
   "source": [
    "df_5.head()"
   ]
  },
  {
   "cell_type": "markdown",
   "id": "7e51511a-11d8-4d4d-a0d3-1fcc48e0d7cd",
   "metadata": {},
   "source": [
    "### Now calculate the center of mass for N lines/event \n",
    "\n",
    "The caclculation starts at the first change in average for any columns (PCT >.01)\n",
    "\n",
    "only take the center of mass columns for rLen rows "
   ]
  },
  {
   "cell_type": "code",
   "execution_count": 11,
   "id": "6e3301a1-0a0b-45b0-a37f-0cc0b8275b02",
   "metadata": {},
   "outputs": [],
   "source": [
    "# iterating over rows using iterrows() function\n",
    "indxs=[]\n",
    "j=0\n",
    "cls='D99'\n",
    "for index, row in df_5.iterrows():\n",
    "    if row['BIN_SUM'] >= 1:\n",
    "        cls=row['Class']    #pick up the class from the first row\n",
    "        if (index != (j)):\n",
    "            if (index != (j+1)):\n",
    "                indxs.append([index,cls])\n",
    "                # print (index, cls)\n",
    "            cls=row['Class']\n",
    "            j=index\n",
    "                \n",
    "new_data=[]\n",
    "for a,b in indxs:\n",
    "    Cu = ndimage.center_of_mass(df_5.iloc[a:a+rLen,12].values)\n",
    "    Cw = ndimage.center_of_mass(df_5.iloc[a:a+rLen,13].values)\n",
    "    Cx = ndimage.center_of_mass(df_5.iloc[a:a+rLen,14].values)\n",
    "    Cy = ndimage.center_of_mass(df_5.iloc[a:a+rLen,15].values)\n",
    "    Cz = ndimage.center_of_mass(df_5.iloc[a:a+rLen,16].values)\n",
    "    new_data.append([Cu, Cw, Cx, Cy, Cz, b])\n",
    "    \n",
    "new_df_1 = pd.DataFrame(new_data,columns=['Cu', 'Cw','Cx', 'Cy', 'Cz', 'Class'])\n",
    "new_df_1.to_csv('..\\\\data\\\\CM_100_5.csv',index=False)\n"
   ]
  },
  {
   "cell_type": "code",
   "execution_count": 12,
   "id": "a3b3b7f5-6165-43bd-838d-4c5a03a65020",
   "metadata": {
    "tags": []
   },
   "outputs": [
    {
     "data": {
      "text/html": [
       "<div>\n",
       "<style scoped>\n",
       "    .dataframe tbody tr th:only-of-type {\n",
       "        vertical-align: middle;\n",
       "    }\n",
       "\n",
       "    .dataframe tbody tr th {\n",
       "        vertical-align: top;\n",
       "    }\n",
       "\n",
       "    .dataframe thead th {\n",
       "        text-align: right;\n",
       "    }\n",
       "</style>\n",
       "<table border=\"1\" class=\"dataframe\">\n",
       "  <thead>\n",
       "    <tr style=\"text-align: right;\">\n",
       "      <th></th>\n",
       "      <th>TimeNS</th>\n",
       "      <th>LDR0</th>\n",
       "      <th>LDR1</th>\n",
       "      <th>LDR2</th>\n",
       "      <th>LDR3</th>\n",
       "      <th>LDR4</th>\n",
       "      <th>Class</th>\n",
       "      <th>AVG_LDR0</th>\n",
       "      <th>AVG_LDR1</th>\n",
       "      <th>AVG_LDR2</th>\n",
       "      <th>...</th>\n",
       "      <th>CHG_LDR1</th>\n",
       "      <th>CHG_LDR2</th>\n",
       "      <th>CHG_LDR3</th>\n",
       "      <th>CHG_LDR4</th>\n",
       "      <th>BIN_LDR0</th>\n",
       "      <th>BIN_LDR1</th>\n",
       "      <th>BIN_LDR2</th>\n",
       "      <th>BIN_LDR3</th>\n",
       "      <th>BIN_LDR4</th>\n",
       "      <th>BIN_SUM</th>\n",
       "    </tr>\n",
       "  </thead>\n",
       "  <tbody>\n",
       "    <tr>\n",
       "      <th>0</th>\n",
       "      <td>1.669907e+09</td>\n",
       "      <td>19264</td>\n",
       "      <td>28224</td>\n",
       "      <td>14528</td>\n",
       "      <td>12736</td>\n",
       "      <td>14592</td>\n",
       "      <td>D99</td>\n",
       "      <td>19352.888889</td>\n",
       "      <td>28216.888889</td>\n",
       "      <td>14556.444444</td>\n",
       "      <td>...</td>\n",
       "      <td>0.000000</td>\n",
       "      <td>0.000000</td>\n",
       "      <td>0.000279</td>\n",
       "      <td>-0.000243</td>\n",
       "      <td>0</td>\n",
       "      <td>0</td>\n",
       "      <td>0</td>\n",
       "      <td>0</td>\n",
       "      <td>0</td>\n",
       "      <td>0</td>\n",
       "    </tr>\n",
       "    <tr>\n",
       "      <th>1</th>\n",
       "      <td>1.669907e+09</td>\n",
       "      <td>19328</td>\n",
       "      <td>28224</td>\n",
       "      <td>14528</td>\n",
       "      <td>12736</td>\n",
       "      <td>14592</td>\n",
       "      <td>D99</td>\n",
       "      <td>19352.888889</td>\n",
       "      <td>28216.888889</td>\n",
       "      <td>14556.444444</td>\n",
       "      <td>...</td>\n",
       "      <td>0.000000</td>\n",
       "      <td>0.000000</td>\n",
       "      <td>0.000000</td>\n",
       "      <td>0.000000</td>\n",
       "      <td>0</td>\n",
       "      <td>0</td>\n",
       "      <td>0</td>\n",
       "      <td>0</td>\n",
       "      <td>0</td>\n",
       "      <td>0</td>\n",
       "    </tr>\n",
       "    <tr>\n",
       "      <th>2</th>\n",
       "      <td>1.669907e+09</td>\n",
       "      <td>19392</td>\n",
       "      <td>28160</td>\n",
       "      <td>14464</td>\n",
       "      <td>12736</td>\n",
       "      <td>14592</td>\n",
       "      <td>D99</td>\n",
       "      <td>19352.888889</td>\n",
       "      <td>28213.333333</td>\n",
       "      <td>14552.888889</td>\n",
       "      <td>...</td>\n",
       "      <td>-0.000126</td>\n",
       "      <td>-0.000244</td>\n",
       "      <td>0.000000</td>\n",
       "      <td>0.000000</td>\n",
       "      <td>0</td>\n",
       "      <td>0</td>\n",
       "      <td>0</td>\n",
       "      <td>0</td>\n",
       "      <td>0</td>\n",
       "      <td>0</td>\n",
       "    </tr>\n",
       "    <tr>\n",
       "      <th>3</th>\n",
       "      <td>1.669907e+09</td>\n",
       "      <td>19328</td>\n",
       "      <td>28224</td>\n",
       "      <td>14528</td>\n",
       "      <td>12672</td>\n",
       "      <td>14592</td>\n",
       "      <td>D99</td>\n",
       "      <td>19352.888889</td>\n",
       "      <td>28213.333333</td>\n",
       "      <td>14549.333333</td>\n",
       "      <td>...</td>\n",
       "      <td>0.000000</td>\n",
       "      <td>-0.000244</td>\n",
       "      <td>-0.000279</td>\n",
       "      <td>0.000000</td>\n",
       "      <td>0</td>\n",
       "      <td>0</td>\n",
       "      <td>0</td>\n",
       "      <td>0</td>\n",
       "      <td>0</td>\n",
       "      <td>0</td>\n",
       "    </tr>\n",
       "    <tr>\n",
       "      <th>4</th>\n",
       "      <td>1.669907e+09</td>\n",
       "      <td>19264</td>\n",
       "      <td>28224</td>\n",
       "      <td>14592</td>\n",
       "      <td>12736</td>\n",
       "      <td>14592</td>\n",
       "      <td>D99</td>\n",
       "      <td>19345.777778</td>\n",
       "      <td>28213.333333</td>\n",
       "      <td>14552.888889</td>\n",
       "      <td>...</td>\n",
       "      <td>0.000000</td>\n",
       "      <td>0.000244</td>\n",
       "      <td>0.000000</td>\n",
       "      <td>0.000000</td>\n",
       "      <td>0</td>\n",
       "      <td>0</td>\n",
       "      <td>0</td>\n",
       "      <td>0</td>\n",
       "      <td>0</td>\n",
       "      <td>0</td>\n",
       "    </tr>\n",
       "  </tbody>\n",
       "</table>\n",
       "<p>5 rows × 23 columns</p>\n",
       "</div>"
      ],
      "text/plain": [
       "         TimeNS   LDR0   LDR1   LDR2   LDR3   LDR4 Class      AVG_LDR0  \\\n",
       "0  1.669907e+09  19264  28224  14528  12736  14592   D99  19352.888889   \n",
       "1  1.669907e+09  19328  28224  14528  12736  14592   D99  19352.888889   \n",
       "2  1.669907e+09  19392  28160  14464  12736  14592   D99  19352.888889   \n",
       "3  1.669907e+09  19328  28224  14528  12672  14592   D99  19352.888889   \n",
       "4  1.669907e+09  19264  28224  14592  12736  14592   D99  19345.777778   \n",
       "\n",
       "       AVG_LDR1      AVG_LDR2  ...  CHG_LDR1  CHG_LDR2  CHG_LDR3  CHG_LDR4  \\\n",
       "0  28216.888889  14556.444444  ...  0.000000  0.000000  0.000279 -0.000243   \n",
       "1  28216.888889  14556.444444  ...  0.000000  0.000000  0.000000  0.000000   \n",
       "2  28213.333333  14552.888889  ... -0.000126 -0.000244  0.000000  0.000000   \n",
       "3  28213.333333  14549.333333  ...  0.000000 -0.000244 -0.000279  0.000000   \n",
       "4  28213.333333  14552.888889  ...  0.000000  0.000244  0.000000  0.000000   \n",
       "\n",
       "   BIN_LDR0  BIN_LDR1  BIN_LDR2  BIN_LDR3  BIN_LDR4  BIN_SUM  \n",
       "0         0         0         0         0         0        0  \n",
       "1         0         0         0         0         0        0  \n",
       "2         0         0         0         0         0        0  \n",
       "3         0         0         0         0         0        0  \n",
       "4         0         0         0         0         0        0  \n",
       "\n",
       "[5 rows x 23 columns]"
      ]
     },
     "execution_count": 12,
     "metadata": {},
     "output_type": "execute_result"
    }
   ],
   "source": [
    "df_5.head()"
   ]
  },
  {
   "cell_type": "code",
   "execution_count": 13,
   "id": "4b60499f-6ccf-4c8e-9a1b-5501d994f599",
   "metadata": {},
   "outputs": [
    {
     "data": {
      "text/html": [
       "<div>\n",
       "<style scoped>\n",
       "    .dataframe tbody tr th:only-of-type {\n",
       "        vertical-align: middle;\n",
       "    }\n",
       "\n",
       "    .dataframe tbody tr th {\n",
       "        vertical-align: top;\n",
       "    }\n",
       "\n",
       "    .dataframe thead th {\n",
       "        text-align: right;\n",
       "    }\n",
       "</style>\n",
       "<table border=\"1\" class=\"dataframe\">\n",
       "  <thead>\n",
       "    <tr style=\"text-align: right;\">\n",
       "      <th></th>\n",
       "      <th>Cu</th>\n",
       "      <th>Cw</th>\n",
       "      <th>Cx</th>\n",
       "      <th>Cy</th>\n",
       "      <th>Cz</th>\n",
       "      <th>Class</th>\n",
       "    </tr>\n",
       "  </thead>\n",
       "  <tbody>\n",
       "    <tr>\n",
       "      <th>0</th>\n",
       "      <td>(6.092663355792613,)</td>\n",
       "      <td>(5.543218046361989,)</td>\n",
       "      <td>(1.2072095005796377,)</td>\n",
       "      <td>(1.5464673022112991,)</td>\n",
       "      <td>(4.954329663459509,)</td>\n",
       "      <td>D0</td>\n",
       "    </tr>\n",
       "    <tr>\n",
       "      <th>1</th>\n",
       "      <td>(7.043480775667403,)</td>\n",
       "      <td>(6.5012433279560025,)</td>\n",
       "      <td>(2.7625603664560465,)</td>\n",
       "      <td>(2.842536906230561,)</td>\n",
       "      <td>(5.883092487871352,)</td>\n",
       "      <td>D0</td>\n",
       "    </tr>\n",
       "    <tr>\n",
       "      <th>2</th>\n",
       "      <td>(5.393000135268864,)</td>\n",
       "      <td>(4.672368580014117,)</td>\n",
       "      <td>(-0.4000973294058628,)</td>\n",
       "      <td>(-0.5821941844016559,)</td>\n",
       "      <td>(4.333212377581396,)</td>\n",
       "      <td>D0</td>\n",
       "    </tr>\n",
       "    <tr>\n",
       "      <th>3</th>\n",
       "      <td>(6.006326796453855,)</td>\n",
       "      <td>(5.160190968969553,)</td>\n",
       "      <td>(0.5640395637134162,)</td>\n",
       "      <td>(0.09990084066005445,)</td>\n",
       "      <td>(4.545313444508,)</td>\n",
       "      <td>D0</td>\n",
       "    </tr>\n",
       "    <tr>\n",
       "      <th>4</th>\n",
       "      <td>(5.890593117430397,)</td>\n",
       "      <td>(4.898891256582913,)</td>\n",
       "      <td>(-0.1509617015901739,)</td>\n",
       "      <td>(-0.05413654449753014,)</td>\n",
       "      <td>(4.774445024832048,)</td>\n",
       "      <td>D0</td>\n",
       "    </tr>\n",
       "    <tr>\n",
       "      <th>5</th>\n",
       "      <td>(5.598416420729657,)</td>\n",
       "      <td>(5.119759709461917,)</td>\n",
       "      <td>(-0.2072910593933825,)</td>\n",
       "      <td>(-0.3994566397657417,)</td>\n",
       "      <td>(4.610267526141852,)</td>\n",
       "      <td>D0</td>\n",
       "    </tr>\n",
       "    <tr>\n",
       "      <th>6</th>\n",
       "      <td>(5.944926395002472,)</td>\n",
       "      <td>(5.355713318951059,)</td>\n",
       "      <td>(0.13626678384981594,)</td>\n",
       "      <td>(0.11460099816841021,)</td>\n",
       "      <td>(4.773294371017719,)</td>\n",
       "      <td>D0</td>\n",
       "    </tr>\n",
       "    <tr>\n",
       "      <th>7</th>\n",
       "      <td>(6.008115832277503,)</td>\n",
       "      <td>(5.26465448329646,)</td>\n",
       "      <td>(0.04232549478474303,)</td>\n",
       "      <td>(-0.4072418957507602,)</td>\n",
       "      <td>(4.559980480698043,)</td>\n",
       "      <td>D0</td>\n",
       "    </tr>\n",
       "    <tr>\n",
       "      <th>8</th>\n",
       "      <td>(5.91677650981627,)</td>\n",
       "      <td>(5.339743103482064,)</td>\n",
       "      <td>(-0.09229935269635474,)</td>\n",
       "      <td>(-0.20158517893392783,)</td>\n",
       "      <td>(4.534572543247735,)</td>\n",
       "      <td>D0</td>\n",
       "    </tr>\n",
       "    <tr>\n",
       "      <th>9</th>\n",
       "      <td>(6.446617467945878,)</td>\n",
       "      <td>(5.768986291135401,)</td>\n",
       "      <td>(1.7062662392182044,)</td>\n",
       "      <td>(1.3181266215831169,)</td>\n",
       "      <td>(5.293866476992879,)</td>\n",
       "      <td>D0</td>\n",
       "    </tr>\n",
       "  </tbody>\n",
       "</table>\n",
       "</div>"
      ],
      "text/plain": [
       "                     Cu                     Cw                       Cx  \\\n",
       "0  (6.092663355792613,)   (5.543218046361989,)    (1.2072095005796377,)   \n",
       "1  (7.043480775667403,)  (6.5012433279560025,)    (2.7625603664560465,)   \n",
       "2  (5.393000135268864,)   (4.672368580014117,)   (-0.4000973294058628,)   \n",
       "3  (6.006326796453855,)   (5.160190968969553,)    (0.5640395637134162,)   \n",
       "4  (5.890593117430397,)   (4.898891256582913,)   (-0.1509617015901739,)   \n",
       "5  (5.598416420729657,)   (5.119759709461917,)   (-0.2072910593933825,)   \n",
       "6  (5.944926395002472,)   (5.355713318951059,)   (0.13626678384981594,)   \n",
       "7  (6.008115832277503,)    (5.26465448329646,)   (0.04232549478474303,)   \n",
       "8   (5.91677650981627,)   (5.339743103482064,)  (-0.09229935269635474,)   \n",
       "9  (6.446617467945878,)   (5.768986291135401,)    (1.7062662392182044,)   \n",
       "\n",
       "                        Cy                    Cz Class  \n",
       "0    (1.5464673022112991,)  (4.954329663459509,)    D0  \n",
       "1     (2.842536906230561,)  (5.883092487871352,)    D0  \n",
       "2   (-0.5821941844016559,)  (4.333212377581396,)    D0  \n",
       "3   (0.09990084066005445,)     (4.545313444508,)    D0  \n",
       "4  (-0.05413654449753014,)  (4.774445024832048,)    D0  \n",
       "5   (-0.3994566397657417,)  (4.610267526141852,)    D0  \n",
       "6   (0.11460099816841021,)  (4.773294371017719,)    D0  \n",
       "7   (-0.4072418957507602,)  (4.559980480698043,)    D0  \n",
       "8  (-0.20158517893392783,)  (4.534572543247735,)    D0  \n",
       "9    (1.3181266215831169,)  (5.293866476992879,)    D0  "
      ]
     },
     "execution_count": 13,
     "metadata": {},
     "output_type": "execute_result"
    }
   ],
   "source": [
    "new_df_1.head(10)"
   ]
  },
  {
   "cell_type": "code",
   "execution_count": 14,
   "id": "64dbff95-8377-415a-a343-3c4a3ba79f0c",
   "metadata": {},
   "outputs": [
    {
     "data": {
      "text/plain": [
       "D7    220\n",
       "D1    110\n",
       "D4    110\n",
       "D5    110\n",
       "D2    108\n",
       "D3    108\n",
       "D0    105\n",
       "Name: Class, dtype: int64"
      ]
     },
     "execution_count": 14,
     "metadata": {},
     "output_type": "execute_result"
    }
   ],
   "source": [
    "new_df_1['Class'].value_counts()"
   ]
  },
  {
   "cell_type": "code",
   "execution_count": 15,
   "id": "701ff271-4db5-4fcf-907e-7ca09269b062",
   "metadata": {},
   "outputs": [],
   "source": [
    "df_5 = pd.concat([new_df_1['Cu'].apply(pd.Series),\n",
    "                  new_df_1['Cw'].apply(pd.Series),\n",
    "                  new_df_1['Cx'].apply(pd.Series),\n",
    "                  new_df_1['Cy'].apply(pd.Series),\n",
    "                  new_df_1['Cz'].apply(pd.Series),\n",
    "                  new_df_1['Class']], axis = 1)\n"
   ]
  },
  {
   "cell_type": "code",
   "execution_count": 16,
   "id": "4e14b5f8-ad62-4e1a-8890-6aacd1da0fdb",
   "metadata": {},
   "outputs": [
    {
     "name": "stdout",
     "output_type": "stream",
     "text": [
      "<class 'pandas.core.frame.DataFrame'>\n",
      "RangeIndex: 871 entries, 0 to 870\n",
      "Data columns (total 6 columns):\n",
      " #   Column  Non-Null Count  Dtype  \n",
      "---  ------  --------------  -----  \n",
      " 0   0       871 non-null    float64\n",
      " 1   0       871 non-null    float64\n",
      " 2   0       871 non-null    float64\n",
      " 3   0       871 non-null    float64\n",
      " 4   0       871 non-null    float64\n",
      " 5   Class   871 non-null    object \n",
      "dtypes: float64(5), object(1)\n",
      "memory usage: 41.0+ KB\n"
     ]
    }
   ],
   "source": [
    "df_5.info()"
   ]
  },
  {
   "cell_type": "markdown",
   "id": "1339b815-9423-4344-bfb3-67a745350eb8",
   "metadata": {},
   "source": [
    "## Split data into Train/Test and Labeled data sets"
   ]
  },
  {
   "cell_type": "code",
   "execution_count": 17,
   "id": "3d8026e4-dc27-4c04-b32d-5eab6e96b1ee",
   "metadata": {},
   "outputs": [],
   "source": [
    "from sklearn.preprocessing import LabelEncoder\n",
    "X3 = df_5.iloc[:,:-1]\n",
    "X3.columns=['Cu', 'Cw', 'Cx', 'Cy', 'Cz']\n",
    "le = LabelEncoder()\n",
    "y3 = le.fit_transform(df_5['Class'])"
   ]
  },
  {
   "cell_type": "code",
   "execution_count": 18,
   "id": "6dde0011-f1ef-486e-94b0-fb19681f2502",
   "metadata": {},
   "outputs": [
    {
     "data": {
      "text/html": [
       "<div>\n",
       "<style scoped>\n",
       "    .dataframe tbody tr th:only-of-type {\n",
       "        vertical-align: middle;\n",
       "    }\n",
       "\n",
       "    .dataframe tbody tr th {\n",
       "        vertical-align: top;\n",
       "    }\n",
       "\n",
       "    .dataframe thead th {\n",
       "        text-align: right;\n",
       "    }\n",
       "</style>\n",
       "<table border=\"1\" class=\"dataframe\">\n",
       "  <thead>\n",
       "    <tr style=\"text-align: right;\">\n",
       "      <th></th>\n",
       "      <th>Cu</th>\n",
       "      <th>Cw</th>\n",
       "      <th>Cx</th>\n",
       "      <th>Cy</th>\n",
       "      <th>Cz</th>\n",
       "    </tr>\n",
       "  </thead>\n",
       "  <tbody>\n",
       "    <tr>\n",
       "      <th>0</th>\n",
       "      <td>6.092663</td>\n",
       "      <td>5.543218</td>\n",
       "      <td>1.207210</td>\n",
       "      <td>1.546467</td>\n",
       "      <td>4.954330</td>\n",
       "    </tr>\n",
       "    <tr>\n",
       "      <th>1</th>\n",
       "      <td>7.043481</td>\n",
       "      <td>6.501243</td>\n",
       "      <td>2.762560</td>\n",
       "      <td>2.842537</td>\n",
       "      <td>5.883092</td>\n",
       "    </tr>\n",
       "    <tr>\n",
       "      <th>2</th>\n",
       "      <td>5.393000</td>\n",
       "      <td>4.672369</td>\n",
       "      <td>-0.400097</td>\n",
       "      <td>-0.582194</td>\n",
       "      <td>4.333212</td>\n",
       "    </tr>\n",
       "    <tr>\n",
       "      <th>3</th>\n",
       "      <td>6.006327</td>\n",
       "      <td>5.160191</td>\n",
       "      <td>0.564040</td>\n",
       "      <td>0.099901</td>\n",
       "      <td>4.545313</td>\n",
       "    </tr>\n",
       "    <tr>\n",
       "      <th>4</th>\n",
       "      <td>5.890593</td>\n",
       "      <td>4.898891</td>\n",
       "      <td>-0.150962</td>\n",
       "      <td>-0.054137</td>\n",
       "      <td>4.774445</td>\n",
       "    </tr>\n",
       "  </tbody>\n",
       "</table>\n",
       "</div>"
      ],
      "text/plain": [
       "         Cu        Cw        Cx        Cy        Cz\n",
       "0  6.092663  5.543218  1.207210  1.546467  4.954330\n",
       "1  7.043481  6.501243  2.762560  2.842537  5.883092\n",
       "2  5.393000  4.672369 -0.400097 -0.582194  4.333212\n",
       "3  6.006327  5.160191  0.564040  0.099901  4.545313\n",
       "4  5.890593  4.898891 -0.150962 -0.054137  4.774445"
      ]
     },
     "execution_count": 18,
     "metadata": {},
     "output_type": "execute_result"
    }
   ],
   "source": [
    "X3.head()"
   ]
  },
  {
   "cell_type": "code",
   "execution_count": 19,
   "id": "c1309bb1-6d2f-48d7-a38f-48be41d66343",
   "metadata": {},
   "outputs": [],
   "source": [
    "#Split data into test and training data sets\n",
    "X_train, X_test, y_train, y_test = train_test_split(X3.values, y3, test_size=0.30, random_state=45,stratify=np.array(y3)) \n"
   ]
  },
  {
   "cell_type": "markdown",
   "id": "c8d3643b-94a8-4913-94e5-781f9a4fea5c",
   "metadata": {},
   "source": [
    "## Random Forest Classifier"
   ]
  },
  {
   "cell_type": "code",
   "execution_count": 20,
   "id": "d1f900cf-5d6b-4643-ac66-a5ff8340cf17",
   "metadata": {},
   "outputs": [
    {
     "name": "stdout",
     "output_type": "stream",
     "text": [
      "Average Cross Validation Score from Training:\n",
      "0.9884972677595627\n",
      "\n",
      "\n",
      "Confusion Matrix:\n",
      "[[32  0  0  0  0  0  0]\n",
      " [ 0 32  1  0  0  0  0]\n",
      " [ 0  0 33  0  0  0  0]\n",
      " [ 0  0  0 32  0  0  0]\n",
      " [ 0  1  0  0 31  1  0]\n",
      " [ 0  0  0  0  0 33  0]\n",
      " [ 0  0  0  0  0  0 66]]\n",
      "\n",
      "\n",
      "Test Statistics:\n",
      "              precision    recall  f1-score   support\n",
      "\n",
      "           0       1.00      1.00      1.00        32\n",
      "           1       0.97      0.97      0.97        33\n",
      "           2       0.97      1.00      0.99        33\n",
      "           3       1.00      1.00      1.00        32\n",
      "           4       1.00      0.94      0.97        33\n",
      "           5       0.97      1.00      0.99        33\n",
      "           6       1.00      1.00      1.00        66\n",
      "\n",
      "    accuracy                           0.99       262\n",
      "   macro avg       0.99      0.99      0.99       262\n",
      "weighted avg       0.99      0.99      0.99       262\n",
      "\n",
      "\n",
      "\n",
      "Testing Accuracy: 0.9885496183206107\n"
     ]
    }
   ],
   "source": [
    "#training the model\n",
    "from sklearn.datasets import make_classification\n",
    "\n",
    "\n",
    "model = RandomForestClassifier(random_state=42,n_estimators=100,criterion='gini',class_weight='balanced')\n",
    "\n",
    "model.fit(X_train, y_train)\n",
    "\n",
    "cv_scores = cross_val_score(model, X_train, y_train, cv=10)\n",
    "print('Average Cross Validation Score from Training:', cv_scores.mean(), sep='\\n', end='\\n\\n\\n')\n",
    "\n",
    "#testing the model\n",
    "ypred = model.predict(X_test)\n",
    "cm = confusion_matrix(y_test, ypred)\n",
    "cr = classification_report(y_test, ypred)\n",
    "\n",
    "print('Confusion Matrix:', cm, sep='\\n', end='\\n\\n\\n')\n",
    "print('Test Statistics:', cr, sep='\\n', end='\\n\\n\\n')\n",
    "\n",
    "#This is what we will be grading (>95 expected)\n",
    "print('Testing Accuracy:', accuracy_score(y_test, ypred))"
   ]
  },
  {
   "cell_type": "code",
   "execution_count": 21,
   "id": "cf8f1ebe-8f16-4ce2-8367-3ca887526837",
   "metadata": {},
   "outputs": [],
   "source": [
    "#save this awesome RF model as full_file_RF.mod\n",
    "import pickle\n",
    "filename = '5LDR_RF.sav'\n",
    "pickle.dump(model, open(filename, 'wb'))\n"
   ]
  },
  {
   "cell_type": "markdown",
   "id": "7839d89a-2980-47c8-8324-437929f4090c",
   "metadata": {},
   "source": [
    "## HistGradientBoostingClassifier\n"
   ]
  },
  {
   "cell_type": "code",
   "execution_count": 22,
   "id": "f520f81d-4ba2-4bc0-ae7e-1c70c0998035",
   "metadata": {},
   "outputs": [
    {
     "name": "stdout",
     "output_type": "stream",
     "text": [
      "Average Cross Validation Score from Training:\n",
      "0.9819398907103825\n",
      "\n",
      "\n",
      "Confusion Matrix:\n",
      "[[30  1  0  0  0  0  1]\n",
      " [ 1 32  0  0  0  0  0]\n",
      " [ 0  0 33  0  0  0  0]\n",
      " [ 0  0  0 32  0  0  0]\n",
      " [ 0  1  0  0 32  0  0]\n",
      " [ 0  0  0  0  0 33  0]\n",
      " [ 0  0  0  0  0  1 65]]\n",
      "\n",
      "\n",
      "Test Statistics:\n",
      "              precision    recall  f1-score   support\n",
      "\n",
      "           0       0.97      0.94      0.95        32\n",
      "           1       0.94      0.97      0.96        33\n",
      "           2       1.00      1.00      1.00        33\n",
      "           3       1.00      1.00      1.00        32\n",
      "           4       1.00      0.97      0.98        33\n",
      "           5       0.97      1.00      0.99        33\n",
      "           6       0.98      0.98      0.98        66\n",
      "\n",
      "    accuracy                           0.98       262\n",
      "   macro avg       0.98      0.98      0.98       262\n",
      "weighted avg       0.98      0.98      0.98       262\n",
      "\n",
      "\n",
      "\n",
      "Testing Accuracy: 0.9809160305343512\n"
     ]
    }
   ],
   "source": [
    "from sklearn.ensemble import HistGradientBoostingClassifier\n",
    "\n",
    "clf = HistGradientBoostingClassifier() \n",
    "clf.fit(X_train, y_train)\n",
    "cv_scores = cross_val_score(clf, X_train, y_train, cv=10)\n",
    "print('Average Cross Validation Score from Training:', cv_scores.mean(), sep='\\n', end='\\n\\n\\n')\n",
    "\n",
    "\n",
    "#testing the model\n",
    "ypred = clf.predict(X_test)\n",
    "cm = confusion_matrix(y_test, ypred)\n",
    "cr = classification_report(y_test, ypred)\n",
    "\n",
    "print('Confusion Matrix:', cm, sep='\\n', end='\\n\\n\\n')\n",
    "print('Test Statistics:', cr, sep='\\n', end='\\n\\n\\n')\n",
    "\n",
    "#This is what we will be grading (>95 expected)\n",
    "print('Testing Accuracy:', accuracy_score(y_test, ypred))"
   ]
  },
  {
   "cell_type": "code",
   "execution_count": 23,
   "id": "27ee13ce-a69e-4623-8273-42913180c72c",
   "metadata": {},
   "outputs": [],
   "source": [
    "import pickle\n",
    "filename = '5LDR_XGB.sav'\n",
    "pickle.dump(clf, open(filename, 'wb'))"
   ]
  },
  {
   "cell_type": "markdown",
   "id": "6a8e4338-a233-4716-be40-6a012629d592",
   "metadata": {},
   "source": [
    "### Test one data point"
   ]
  },
  {
   "cell_type": "code",
   "execution_count": 24,
   "id": "7d57cc58-4424-4200-a0e7-8ce6015655a6",
   "metadata": {},
   "outputs": [
    {
     "name": "stdout",
     "output_type": "stream",
     "text": [
      "[[7.7354568, 10.87041, 10.98897041, 8.06188478, 6.78354568]]\n"
     ]
    },
    {
     "data": {
      "text/plain": [
       "array([1])"
      ]
     },
     "execution_count": 24,
     "metadata": {},
     "output_type": "execute_result"
    }
   ],
   "source": [
    "Cu = (7.7354568,)\n",
    "Cw = (10.87041,)\n",
    "Cx = (10.98897041,)\n",
    "Cy = (8.06188478,)\n",
    "Cz = (6.78354568,)\n",
    "\n",
    "pred_data = list([[ Cu[0], Cw[0], Cx[0], Cy[0], Cz[0] ]])\n",
    "print(pred_data)\n",
    "\n",
    "clf.predict(pred_data)"
   ]
  },
  {
   "cell_type": "markdown",
   "id": "ce731cd0-e7bc-4222-98af-043b9be7c250",
   "metadata": {},
   "source": [
    "## Support Vector Classifier"
   ]
  },
  {
   "cell_type": "code",
   "execution_count": 25,
   "id": "01ccd5f8-91e3-46be-a8fd-141bac4eeb10",
   "metadata": {},
   "outputs": [
    {
     "name": "stdout",
     "output_type": "stream",
     "text": [
      "Average Cross Validation Score from Training:\n",
      "1.0\n",
      "\n",
      "\n",
      "Confusion Matrix:\n",
      "[[32  0  0  0  0  0  0]\n",
      " [ 0 33  0  0  0  0  0]\n",
      " [ 0  0 33  0  0  0  0]\n",
      " [ 0  0  0 32  0  0  0]\n",
      " [ 0  0  0  0 33  0  0]\n",
      " [ 0  0  0  0  0 33  0]\n",
      " [ 0  0  0  0  0  0 66]]\n",
      "\n",
      "\n",
      "Test Statistics:\n",
      "              precision    recall  f1-score   support\n",
      "\n",
      "           0       1.00      1.00      1.00        32\n",
      "           1       1.00      1.00      1.00        33\n",
      "           2       1.00      1.00      1.00        33\n",
      "           3       1.00      1.00      1.00        32\n",
      "           4       1.00      1.00      1.00        33\n",
      "           5       1.00      1.00      1.00        33\n",
      "           6       1.00      1.00      1.00        66\n",
      "\n",
      "    accuracy                           1.00       262\n",
      "   macro avg       1.00      1.00      1.00       262\n",
      "weighted avg       1.00      1.00      1.00       262\n",
      "\n",
      "\n",
      "\n",
      "Testing Accuracy: 1.0\n"
     ]
    }
   ],
   "source": [
    "clfs = SVC(kernel='linear',probability=True) #note the default kernel here is 'rbf' - radial basis function\n",
    "\n",
    "clfs.fit(X_train, y_train)\n",
    "cv_scores = cross_val_score(clfs, X_train, y_train, cv=10)\n",
    "print('Average Cross Validation Score from Training:', cv_scores.mean(), sep='\\n', end='\\n\\n\\n')\n",
    "\n",
    "\n",
    "#testing the model\n",
    "ypred = clfs.predict(X_test)\n",
    "cm = confusion_matrix(y_test, ypred)\n",
    "cr = classification_report(y_test, ypred)\n",
    "\n",
    "print('Confusion Matrix:', cm, sep='\\n', end='\\n\\n\\n')\n",
    "print('Test Statistics:', cr, sep='\\n', end='\\n\\n\\n')\n",
    "\n",
    "#This is what we will be grading (>95 expected)\n",
    "print('Testing Accuracy:', accuracy_score(y_test, ypred))"
   ]
  },
  {
   "cell_type": "code",
   "execution_count": 26,
   "id": "00f5087c-211d-492e-b981-b86cc7c35bdc",
   "metadata": {},
   "outputs": [
    {
     "name": "stdout",
     "output_type": "stream",
     "text": [
      "[7 5 4 6 4 4 4]\n"
     ]
    }
   ],
   "source": [
    "print(clfs.n_support_)"
   ]
  },
  {
   "cell_type": "code",
   "execution_count": 27,
   "id": "eaa5d1ca-4c09-4d09-aca5-0dc3531eaa17",
   "metadata": {},
   "outputs": [
    {
     "data": {
      "text/plain": [
       "array([[ 6.82014392,  6.22631546,  3.06429639,  2.24159851,  5.48183817],\n",
       "       [ 6.34236179,  5.99890408,  2.65506815,  1.83156533,  5.30129216],\n",
       "       [ 6.17378366,  5.72358591,  1.8554517 ,  1.88153994,  5.30971369],\n",
       "       [ 7.04348078,  6.50124333,  2.76256037,  2.84253691,  5.88309249],\n",
       "       [ 5.58240302,  5.2490148 ,  1.65798936,  0.7104966 ,  4.46316282],\n",
       "       [ 6.09266336,  5.54321805,  1.2072095 ,  1.5464673 ,  4.95432966],\n",
       "       [ 5.51197123,  5.10368987,  1.53127838,  1.06890113,  4.78270641],\n",
       "       [ 4.4181139 ,  4.8479733 ,  3.67553041, -0.49812762,  1.34248061],\n",
       "       [ 5.36045455,  5.7377586 ,  4.24738741,  0.50320928,  2.41910692],\n",
       "       [ 6.32704043,  6.52162179,  4.72491319,  1.45142044,  4.17126674],\n",
       "       [ 9.19533864,  9.50043101,  7.12530538,  4.48440334,  6.62073559],\n",
       "       [ 4.67470452,  4.84619757,  2.86224741, -1.17194529,  1.53465836],\n",
       "       [ 4.55900233,  5.86890779,  5.06276328,  2.78062579,  0.73939913],\n",
       "       [ 5.09016669,  6.42329373,  5.61201039,  3.12248655,  1.4677031 ],\n",
       "       [ 4.47742219,  5.89946231,  5.13799815,  3.10660353,  0.41775947],\n",
       "       [ 4.66317857,  6.06377986,  5.17566705,  2.24396767,  0.93867221],\n",
       "       [ 2.2108457 ,  5.39889764,  5.55770368,  4.62697233,  0.90748486],\n",
       "       [ 1.47411715,  5.40883275,  5.36305174,  3.54337793, -0.38729358],\n",
       "       [ 1.66731948,  4.9140068 ,  4.94090385,  4.0274947 , -0.79655717],\n",
       "       [ 2.86456949,  5.77487265,  6.03061337,  4.73483581,  1.24296909],\n",
       "       [ 3.0349635 ,  6.07261178,  6.28620062,  5.24144885,  1.94466974],\n",
       "       [-1.33239247,  3.7399821 ,  4.59572882,  2.78257758, -2.51780241],\n",
       "       [-4.5614111 ,  0.82817204,  3.15050012,  3.97366328, -0.04007965],\n",
       "       [-0.34549852,  3.52879828,  4.98316032,  5.25392312,  2.86203478],\n",
       "       [ 0.35588035,  4.88650359,  5.46691458,  5.35974943,  2.46775726],\n",
       "       [ 1.58732978,  4.61629323,  5.53920303,  5.51749131,  3.34528629],\n",
       "       [ 0.58046869,  1.51556788,  3.85950856,  5.86392864,  5.0165049 ],\n",
       "       [ 0.02288258,  1.05983991,  4.11207951,  5.31989483,  4.17622845],\n",
       "       [-1.31180107, -0.88363945,  1.84245664,  4.68565777,  3.96960259],\n",
       "       [ 1.38972361,  2.16950095,  4.72027507,  6.6250928 ,  5.68890612],\n",
       "       [ 2.96410443,  0.77461466,  0.67045943,  4.76833565,  5.07472442],\n",
       "       [ 5.61560104,  4.73224212,  1.09362114,  4.21484091,  5.65724169],\n",
       "       [ 4.78573739,  2.54260639,  2.13131354,  5.58728934,  6.12492836],\n",
       "       [ 5.56242639,  4.51079446,  0.95969381,  3.78268608,  5.51679121]])"
      ]
     },
     "execution_count": 27,
     "metadata": {},
     "output_type": "execute_result"
    }
   ],
   "source": [
    "clfs.support_vectors_"
   ]
  },
  {
   "cell_type": "code",
   "execution_count": 28,
   "id": "a017511a-5dcf-4803-ae28-730bf8ead414",
   "metadata": {},
   "outputs": [
    {
     "data": {
      "text/plain": [
       "array([  7,  45, 203, 256, 409, 419, 423,  60, 248, 417, 479, 547,   2,\n",
       "       286, 331, 528, 100, 106, 151, 171, 344, 558, 431, 478, 554, 572,\n",
       "       271, 381, 388, 439, 131, 257, 399, 442])"
      ]
     },
     "execution_count": 28,
     "metadata": {},
     "output_type": "execute_result"
    }
   ],
   "source": [
    "clfs.support_"
   ]
  },
  {
   "cell_type": "code",
   "execution_count": 29,
   "id": "4870e00e-39e7-46da-ab40-95cc2c4ed2bb",
   "metadata": {},
   "outputs": [
    {
     "data": {
      "text/plain": [
       "array([0, 1, 2, 3, 4, 5, 6])"
      ]
     },
     "execution_count": 29,
     "metadata": {},
     "output_type": "execute_result"
    }
   ],
   "source": [
    "clfs.classes_"
   ]
  },
  {
   "cell_type": "code",
   "execution_count": 30,
   "id": "909eef75-4de3-4980-80ab-aea74e32b201",
   "metadata": {},
   "outputs": [],
   "source": [
    "import pickle\n",
    "filename = '5LDR_SVC.sav'\n",
    "pickle.dump(clfs, open(filename, 'wb'))"
   ]
  },
  {
   "cell_type": "markdown",
   "id": "d531d07d-05fb-43a7-ad75-efaed394a421",
   "metadata": {},
   "source": [
    "# Grid Search for best parameters"
   ]
  },
  {
   "cell_type": "code",
   "execution_count": 31,
   "id": "3dba8dbf-245b-4080-a8e8-c3c1c8dc248d",
   "metadata": {},
   "outputs": [],
   "source": [
    "#Plot all the parameters from the grid search \n",
    "def plot_search_results(grid):\n",
    "    \"\"\"\n",
    "    Params: \n",
    "        grid: A trained GridSearchCV object.\n",
    "    \"\"\"\n",
    "    ## Results from grid search\n",
    "    results = grid.cv_results_\n",
    "    means_test = results['mean_test_score']\n",
    "    stds_test = results['std_test_score']\n",
    "    means_train = results['mean_train_score']\n",
    "    stds_train = results['std_train_score']\n",
    "\n",
    "    ## Getting indexes of values per hyper-parameter\n",
    "    masks=[]\n",
    "    masks_names= list(grid.best_params_.keys())\n",
    "    for p_k, p_v in grid.best_params_.items():\n",
    "        masks.append(list(results['param_'+p_k].data==p_v))\n",
    "\n",
    "    params=grid.param_grid\n",
    "\n",
    "    ## Ploting results\n",
    "    fig, ax = plt.subplots(1,len(params),sharex='none', sharey='all',figsize=(20,5))\n",
    "    fig.suptitle('Score per parameter')\n",
    "    fig.text(0.04, 0.5, 'MEAN SCORE', va='center', rotation='vertical')\n",
    "    pram_preformace_in_best = {}\n",
    "    for i, p in enumerate(masks_names):\n",
    "        m = np.stack(masks[:i] + masks[i+1:])\n",
    "        pram_preformace_in_best\n",
    "        best_parms_mask = m.all(axis=0)\n",
    "        best_index = np.where(best_parms_mask)[0]\n",
    "        x = np.array(params[p])\n",
    "        y_1 = np.array(means_test[best_index])\n",
    "        e_1 = np.array(stds_test[best_index])\n",
    "        y_2 = np.array(means_train[best_index])\n",
    "        e_2 = np.array(stds_train[best_index])\n",
    "        ax[i].errorbar(x, y_1, e_1, linestyle='--', marker='o', label='test')\n",
    "        ax[i].errorbar(x, y_2, e_2, linestyle='-', marker='^',label='train' )\n",
    "        ax[i].set_xlabel(p.upper())\n",
    "\n",
    "    plt.legend()\n",
    "    plt.show()"
   ]
  },
  {
   "cell_type": "code",
   "execution_count": 32,
   "id": "9da8d149-afee-4316-9971-de58c6a6e20a",
   "metadata": {},
   "outputs": [
    {
     "data": {
      "image/png": "[encoded data removed]",
      "text/plain": [
       "<Figure size 2000x500 with 2 Axes>"
      ]
     },
     "metadata": {},
     "output_type": "display_data"
    }
   ],
   "source": [
    "from sklearn.model_selection import GridSearchCV\n",
    "parameters = { 'n_estimators':[3, 6, 9, 12, 15, 20, 30, 50, 60, 100], \n",
    "               'criterion':('gini','entropy','log_loss'),\n",
    "             }\n",
    "\n",
    "RFst = RandomForestClassifier(class_weight='balanced', random_state=52)\n",
    "clf = GridSearchCV(RFst, parameters, cv=20,  return_train_score=True)\n",
    "\n",
    "clf.fit(X_train, y_train)\n",
    "\n",
    "plot_search_results(clf)"
   ]
  },
  {
   "cell_type": "code",
   "execution_count": 33,
   "id": "6ac2306c-2df3-47dd-b4f8-950d5006a790",
   "metadata": {},
   "outputs": [
    {
     "name": "stdout",
     "output_type": "stream",
     "text": [
      " Number of rows to average: 18, number of rows to train/test: 20, {'criterion': 'entropy', 'n_estimators': 12}, Score: 0.9917204301075268\n"
     ]
    }
   ],
   "source": [
    "print(f' Number of rows to average: {N}, number of rows to train/test: {rLen}, {clf.best_params_}, Score: {clf.best_score_}')"
   ]
  },
  {
   "cell_type": "code",
   "execution_count": 34,
   "id": "10c71e4c-d151-42ba-9ddf-bb1b0b8f0597",
   "metadata": {},
   "outputs": [],
   "source": [
    "#with all the samples 5LDR:\n",
    "# Number of rows to average: 18, number of rows to train/test: 20, {'criterion': 'entropy', 'n_estimators': 12}, Score: 0.9917204301075268"
   ]
  },
  {
   "cell_type": "markdown",
   "id": "7ca6c5a4-7e25-42d7-b5df-2f88dd99158c",
   "metadata": {},
   "source": [
    "## Random Forest"
   ]
  },
  {
   "cell_type": "code",
   "execution_count": 35,
   "id": "35fc61ca-d721-4e40-8682-cc2474eace5b",
   "metadata": {},
   "outputs": [
    {
     "name": "stdout",
     "output_type": "stream",
     "text": [
      "Average Cross Validation Score from Training:\n",
      "0.9847242380261247\n",
      "\n",
      "\n",
      "Confusion Matrix:\n",
      "[[42  0  0  0  0  0  0]\n",
      " [ 0 43  1  0  0  0  0]\n",
      " [ 0  0 44  0  0  0  0]\n",
      " [ 0  0  0 43  0  0  0]\n",
      " [ 0  1  0  0 42  1  0]\n",
      " [ 0  0  0  0  2 42  0]\n",
      " [ 0  0  0  0  0  0 88]]\n",
      "\n",
      "\n",
      "Test Statistics:\n",
      "              precision    recall  f1-score   support\n",
      "\n",
      "           0       1.00      1.00      1.00        42\n",
      "           1       0.98      0.98      0.98        44\n",
      "           2       0.98      1.00      0.99        44\n",
      "           3       1.00      1.00      1.00        43\n",
      "           4       0.95      0.95      0.95        44\n",
      "           5       0.98      0.95      0.97        44\n",
      "           6       1.00      1.00      1.00        88\n",
      "\n",
      "    accuracy                           0.99       349\n",
      "   macro avg       0.98      0.98      0.98       349\n",
      "weighted avg       0.99      0.99      0.99       349\n",
      "\n",
      "\n",
      "\n",
      "Testing Accuracy: 0.9856733524355301\n"
     ]
    }
   ],
   "source": [
    "#training the model\n",
    "from sklearn.datasets import make_classification\n",
    "\n",
    "#Split data into test and training data sets\n",
    "X_train, X_test, y_train, y_test = train_test_split(X3, y3, test_size=0.40, random_state=45,stratify=np.array(y3)) \n",
    "\n",
    "\n",
    "model = RandomForestClassifier(random_state=42,n_estimators=12,criterion='entropy',class_weight='balanced')\n",
    "\n",
    "model.fit(X_train, y_train)\n",
    "\n",
    "cv_scores = cross_val_score(model, X_train, y_train, cv=10)\n",
    "print('Average Cross Validation Score from Training:', cv_scores.mean(), sep='\\n', end='\\n\\n\\n')\n",
    "\n",
    "#testing the model\n",
    "ypred = model.predict(X_test)\n",
    "cm = confusion_matrix(y_test, ypred)\n",
    "cr = classification_report(y_test, ypred)\n",
    "\n",
    "print('Confusion Matrix:', cm, sep='\\n', end='\\n\\n\\n')\n",
    "print('Test Statistics:', cr, sep='\\n', end='\\n\\n\\n')\n",
    "\n",
    "#This is what we will be grading (>95 expected)\n",
    "print('Testing Accuracy:', accuracy_score(y_test, ypred))"
   ]
  },
  {
   "cell_type": "code",
   "execution_count": 36,
   "id": "4d38e646-8b95-4c38-902d-742b17dc8895",
   "metadata": {},
   "outputs": [
    {
     "data": {
      "text/plain": [
       "5"
      ]
     },
     "execution_count": 36,
     "metadata": {},
     "output_type": "execute_result"
    }
   ],
   "source": [
    "model.n_features_in_\n",
    "# model.n_features_"
   ]
  }
 ],
 "metadata": {
  "kernelspec": {
   "display_name": "Python 3 (ipykernel)",
   "language": "python",
   "name": "python3"
  },
  "language_info": {
   "codemirror_mode": {
    "name": "ipython",
    "version": 3
   },
   "file_extension": ".py",
   "mimetype": "text/x-python",
   "name": "python",
   "nbconvert_exporter": "python",
   "pygments_lexer": "ipython3",
   "version": "3.8.13"
  }
 },
 "nbformat": 4,
 "nbformat_minor": 5
}
