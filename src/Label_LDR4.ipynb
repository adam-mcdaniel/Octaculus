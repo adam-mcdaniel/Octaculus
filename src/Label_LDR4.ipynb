{
 "cells": [
  {
   "cell_type": "markdown",
   "id": "2deee26c-7e77-4ad0-ad1a-785c5389d265",
   "metadata": {},
   "source": [
    "# COSC522 Fall 2022 Final Project - 4-LDR\n",
    "\n",
    "## Team Members\n",
    "Dan Scott <br>\n",
    "Adam McDaniel<br>\n",
    "Logan Wrinkle<br>\n",
    "\n",
    "This notebook sets up the labels and models for the 4-LDR configuration."
   ]
  },
  {
   "cell_type": "code",
   "execution_count": 1,
   "id": "a9b58c81-4352-43c6-8208-6e48c8e78225",
   "metadata": {},
   "outputs": [],
   "source": [
    "import numpy as np\n",
    "import pandas as pd\n",
    "import os\n",
    "import re\n",
    "from glob import glob\n",
    "import time\n",
    "from datetime import datetime\n",
    "import datetime\n",
    "import csv\n",
    "import matplotlib.pyplot as plt\n",
    "import seaborn as sns\n",
    "from scipy import ndimage\n",
    "from sklearn.model_selection import KFold, cross_val_score\n",
    "from sklearn.ensemble import RandomForestClassifier\n",
    "from sklearn.svm import SVC\n",
    "from sklearn.model_selection import train_test_split\n",
    "from sklearn.preprocessing import Normalizer\n",
    "from sklearn.metrics import confusion_matrix\n",
    "from sklearn.metrics import classification_report, accuracy_score"
   ]
  },
  {
   "cell_type": "markdown",
   "id": "69d1c067-94a9-4945-be0a-6198d3530c71",
   "metadata": {},
   "source": [
    "## Gather Data from raw LDR values\n",
    "\n",
    "The data for the 4-LDR models was captured on the Raspberry Pi and transfered to the raw data folder. A file of 100+ events was produced for each direction and saved with the direction (D0, D1,...) in the file name to make identification by programatic means possible."
   ]
  },
  {
   "cell_type": "code",
   "execution_count": 2,
   "id": "67293998-2bde-4ded-b0a0-89fda658af94",
   "metadata": {},
   "outputs": [
    {
     "name": "stdout",
     "output_type": "stream",
     "text": [
      "[(0, '../data/raw_data_do_not_edit\\\\output_4_D0.txt'),\n",
      " (1, '../data/raw_data_do_not_edit\\\\output_4_D1.txt'),\n",
      " (2, '../data/raw_data_do_not_edit\\\\output_4_D2.txt'),\n",
      " (3, '../data/raw_data_do_not_edit\\\\output_4_D3.txt'),\n",
      " (4, '../data/raw_data_do_not_edit\\\\output_4_D4.txt'),\n",
      " (5, '../data/raw_data_do_not_edit\\\\output_4_D5.txt'),\n",
      " (6, '../data/raw_data_do_not_edit\\\\output_4_D6.txt'),\n",
      " (7, '../data/raw_data_do_not_edit\\\\output_4_D7.txt')]\n"
     ]
    }
   ],
   "source": [
    "root = os.getcwd()\n",
    "data = '../data/raw_data_do_not_edit/'\n",
    "\n",
    "#list of all CSV files in directory\n",
    "list_of_all_files = glob(os.path.join(data, 'output_4*.txt'))\n",
    "list_of_all_files.sort()\n",
    "from pprint import pprint  \n",
    "pprint(list(enumerate(list_of_all_files, start=0)))"
   ]
  },
  {
   "cell_type": "code",
   "execution_count": 3,
   "id": "9a2993c4-e645-4acf-bc3c-9739377a4ea4",
   "metadata": {},
   "outputs": [],
   "source": [
    "#General purpose read CSV with NO data types infered, this is needed because the time stamp does not auto convert using pandas\n",
    "def getCSVData(fname):\n",
    "    List_data=[]\n",
    "    with open(fname) as csv_file:\n",
    "        csv_reader = csv.reader(csv_file, delimiter=',')\n",
    "        line_count = 0\n",
    "        for row in csv_reader:\n",
    "            List_data.append(row)\n",
    "            line_count+=1  \n",
    "    return List_data"
   ]
  },
  {
   "cell_type": "markdown",
   "id": "69c01366-14e8-4953-a9b9-b30c531e74e8",
   "metadata": {},
   "source": [
    "## Global parameters for identifing the events based on the average percent change over N rows"
   ]
  },
  {
   "cell_type": "code",
   "execution_count": 4,
   "id": "6701de5f-2109-49e4-ae16-9c7b7b7c4e9e",
   "metadata": {},
   "outputs": [],
   "source": [
    "N = 18       # Rolling average over N rows\n",
    "rLen = 20    # use this many rows of data to predict \n",
    "PCT = 0.01   # flag if any change in percentage from previous row changes by PCT"
   ]
  },
  {
   "cell_type": "markdown",
   "id": "eb4ab848-50b4-4493-a4cc-c04a663e2b21",
   "metadata": {},
   "source": [
    "## Labeling Data\n",
    "### Add columns that will help identify an 'Event'"
   ]
  },
  {
   "cell_type": "code",
   "execution_count": 5,
   "id": "dae7ac45-67d7-4f47-a5c8-4fd02334efd2",
   "metadata": {},
   "outputs": [],
   "source": [
    "def fixDF(datafrm, direction):\n",
    "    datafrm['Class']= 'D99'\n",
    "\n",
    "    LDR_Data_type = 'int64'\n",
    "\n",
    "    # datafrm['TimeNS'] = datafrm['TimeNS'].apply(lambda x: datetime.datetime.fromtimestamp(float(x)).strftime('%c'))\n",
    "    datafrm['LDR0'] = datafrm['LDR0'].astype(LDR_Data_type)\n",
    "    datafrm['LDR1'] = datafrm['LDR1'].astype(LDR_Data_type)\n",
    "    datafrm['LDR2'] = datafrm['LDR2'].astype(LDR_Data_type)\n",
    "    datafrm['LDR3'] = datafrm['LDR3'].astype(LDR_Data_type)\n",
    "   \n",
    "    #Calculate the rolling window average for N rows\n",
    "    datafrm['AVG_LDR0'] = datafrm['LDR0'].rolling(N).mean()\n",
    "    datafrm['AVG_LDR1'] = datafrm['LDR1'].rolling(N).mean()\n",
    "    datafrm['AVG_LDR2'] = datafrm['LDR2'].rolling(N).mean()\n",
    "    datafrm['AVG_LDR3'] = datafrm['LDR3'].rolling(N).mean()\n",
    "\n",
    "    #calculate the PCT change from the previous row of the movign average\n",
    "    datafrm['CHG_LDR0'] = datafrm['AVG_LDR0'].pct_change()      # (current value - previous value ) / current value\n",
    "    datafrm['CHG_LDR1'] = datafrm['AVG_LDR1'].pct_change()\n",
    "    datafrm['CHG_LDR2'] = datafrm['AVG_LDR2'].pct_change()\n",
    "    datafrm['CHG_LDR3'] = datafrm['AVG_LDR3'].pct_change()\n",
    "\n",
    "    #if the PCT change of the rolling average is >= %PCT% (0.01), then create a flag \n",
    "    datafrm['BIN_LDR0'] = datafrm['CHG_LDR0'].apply(lambda x: 1 if x >= PCT else 0)\n",
    "    datafrm['BIN_LDR1'] = datafrm['CHG_LDR1'].apply(lambda x: 1 if x >= PCT else 0)\n",
    "    datafrm['BIN_LDR2'] = datafrm['CHG_LDR2'].apply(lambda x: 1 if x >= PCT else 0)\n",
    "    datafrm['BIN_LDR3'] = datafrm['CHG_LDR3'].apply(lambda x: 1 if x >= PCT else 0)\n",
    "    \n",
    "    #accumulate the flags\n",
    "    datafrm['BIN_SUM'] = datafrm['BIN_LDR0'] + datafrm['BIN_LDR1'] + datafrm['BIN_LDR2']  + datafrm['BIN_LDR3'] \n",
    "    \n",
    "    datafrm['Class'] = datafrm['BIN_SUM'].apply(lambda x: direction if x>=1 else 'D99')\n",
    "    return datafrm\n"
   ]
  },
  {
   "cell_type": "markdown",
   "id": "fb28d54b-514a-4224-b16a-5b288114de72",
   "metadata": {},
   "source": [
    "### Process all the labeled files and create the "
   ]
  },
  {
   "cell_type": "code",
   "execution_count": 6,
   "id": "32e31c3c-13c4-4eb2-9462-a3fde57848b7",
   "metadata": {},
   "outputs": [],
   "source": [
    "def getFileName(f):\n",
    "    \"\"\"get the file name without extension \"\"\"\n",
    "    r = f.split(\"\\\\\",1)[-1]\n",
    "    return r.split(\".\",1)[0]\n",
    "\n",
    "\n",
    "#look up the class ID using the file name; it requires the file naming convention like output_4_D0....txt\n",
    "def getClass(f):\n",
    "    \"\"\"Return the class label based on the the first occurance of the regular expression find D[0-9]\"\"\"\n",
    "    r = re.search(r'D[0-9]', f)\n",
    "    return r[0]\n",
    "\n",
    "i=0\n",
    "for x in list_of_all_files:\n",
    "    i+=1\n",
    "    direction = getClass(getFileName(x))\n",
    "    df = pd.DataFrame(getCSVData(x), columns=['TimeNS', 'LDR0', 'LDR1', 'LDR2', 'LDR3'])\n",
    "    df = fixDF(df,direction)\n",
    "    saveName = f'..\\\\data\\\\df_4_{direction}_{i}.csv'\n",
    "    df.to_csv(saveName, index=False)\n",
    "    "
   ]
  },
  {
   "cell_type": "markdown",
   "id": "3de25cad-bcaa-4656-809a-facc6329cebd",
   "metadata": {},
   "source": [
    "### Save Labeled Data"
   ]
  },
  {
   "cell_type": "code",
   "execution_count": 7,
   "id": "305cc0e2-efad-49d3-be83-24aa42f70c97",
   "metadata": {},
   "outputs": [],
   "source": [
    "path = '../data/'\n",
    "all_files = glob(os.path.join(path, \"df_4*.csv\"))\n",
    "\n",
    "df_4 = pd.concat((pd.read_csv(f) for f in all_files), ignore_index=True)"
   ]
  },
  {
   "cell_type": "code",
   "execution_count": 8,
   "id": "daf1b721-224e-463a-9b83-1d776f6c1fab",
   "metadata": {},
   "outputs": [],
   "source": [
    "df_4.dropna(inplace=True)\n",
    "df_4.reset_index(inplace=True,drop=True)"
   ]
  },
  {
   "cell_type": "code",
   "execution_count": 9,
   "id": "fd8ad05e-4351-4436-a0df-2c6787607851",
   "metadata": {},
   "outputs": [
    {
     "name": "stdout",
     "output_type": "stream",
     "text": [
      "<class 'pandas.core.frame.DataFrame'>\n",
      "RangeIndex: 199452 entries, 0 to 199451\n",
      "Data columns (total 19 columns):\n",
      " #   Column    Non-Null Count   Dtype  \n",
      "---  ------    --------------   -----  \n",
      " 0   TimeNS    199452 non-null  float64\n",
      " 1   LDR0      199452 non-null  int64  \n",
      " 2   LDR1      199452 non-null  int64  \n",
      " 3   LDR2      199452 non-null  int64  \n",
      " 4   LDR3      199452 non-null  int64  \n",
      " 5   Class     199452 non-null  object \n",
      " 6   AVG_LDR0  199452 non-null  float64\n",
      " 7   AVG_LDR1  199452 non-null  float64\n",
      " 8   AVG_LDR2  199452 non-null  float64\n",
      " 9   AVG_LDR3  199452 non-null  float64\n",
      " 10  CHG_LDR0  199452 non-null  float64\n",
      " 11  CHG_LDR1  199452 non-null  float64\n",
      " 12  CHG_LDR2  199452 non-null  float64\n",
      " 13  CHG_LDR3  199452 non-null  float64\n",
      " 14  BIN_LDR0  199452 non-null  int64  \n",
      " 15  BIN_LDR1  199452 non-null  int64  \n",
      " 16  BIN_LDR2  199452 non-null  int64  \n",
      " 17  BIN_LDR3  199452 non-null  int64  \n",
      " 18  BIN_SUM   199452 non-null  int64  \n",
      "dtypes: float64(9), int64(9), object(1)\n",
      "memory usage: 28.9+ MB\n"
     ]
    }
   ],
   "source": [
    "df_4.info()"
   ]
  },
  {
   "cell_type": "code",
   "execution_count": 10,
   "id": "701b82ab-be79-4268-86a2-e49545602f8e",
   "metadata": {},
   "outputs": [
    {
     "data": {
      "text/html": [
       "<div>\n",
       "<style scoped>\n",
       "    .dataframe tbody tr th:only-of-type {\n",
       "        vertical-align: middle;\n",
       "    }\n",
       "\n",
       "    .dataframe tbody tr th {\n",
       "        vertical-align: top;\n",
       "    }\n",
       "\n",
       "    .dataframe thead th {\n",
       "        text-align: right;\n",
       "    }\n",
       "</style>\n",
       "<table border=\"1\" class=\"dataframe\">\n",
       "  <thead>\n",
       "    <tr style=\"text-align: right;\">\n",
       "      <th></th>\n",
       "      <th>TimeNS</th>\n",
       "      <th>LDR0</th>\n",
       "      <th>LDR1</th>\n",
       "      <th>LDR2</th>\n",
       "      <th>LDR3</th>\n",
       "      <th>Class</th>\n",
       "      <th>AVG_LDR0</th>\n",
       "      <th>AVG_LDR1</th>\n",
       "      <th>AVG_LDR2</th>\n",
       "      <th>AVG_LDR3</th>\n",
       "      <th>CHG_LDR0</th>\n",
       "      <th>CHG_LDR1</th>\n",
       "      <th>CHG_LDR2</th>\n",
       "      <th>CHG_LDR3</th>\n",
       "      <th>BIN_LDR0</th>\n",
       "      <th>BIN_LDR1</th>\n",
       "      <th>BIN_LDR2</th>\n",
       "      <th>BIN_LDR3</th>\n",
       "      <th>BIN_SUM</th>\n",
       "    </tr>\n",
       "  </thead>\n",
       "  <tbody>\n",
       "    <tr>\n",
       "      <th>0</th>\n",
       "      <td>1.668909e+09</td>\n",
       "      <td>25344</td>\n",
       "      <td>19200</td>\n",
       "      <td>27648</td>\n",
       "      <td>21952</td>\n",
       "      <td>D99</td>\n",
       "      <td>25347.555556</td>\n",
       "      <td>19200.0</td>\n",
       "      <td>27648.0</td>\n",
       "      <td>21980.444444</td>\n",
       "      <td>0.00000</td>\n",
       "      <td>0.0</td>\n",
       "      <td>0.0</td>\n",
       "      <td>0.000000</td>\n",
       "      <td>0</td>\n",
       "      <td>0</td>\n",
       "      <td>0</td>\n",
       "      <td>0</td>\n",
       "      <td>0</td>\n",
       "    </tr>\n",
       "    <tr>\n",
       "      <th>1</th>\n",
       "      <td>1.668909e+09</td>\n",
       "      <td>25408</td>\n",
       "      <td>19200</td>\n",
       "      <td>27648</td>\n",
       "      <td>21952</td>\n",
       "      <td>D99</td>\n",
       "      <td>25351.111111</td>\n",
       "      <td>19200.0</td>\n",
       "      <td>27648.0</td>\n",
       "      <td>21980.444444</td>\n",
       "      <td>0.00014</td>\n",
       "      <td>0.0</td>\n",
       "      <td>0.0</td>\n",
       "      <td>0.000000</td>\n",
       "      <td>0</td>\n",
       "      <td>0</td>\n",
       "      <td>0</td>\n",
       "      <td>0</td>\n",
       "      <td>0</td>\n",
       "    </tr>\n",
       "    <tr>\n",
       "      <th>2</th>\n",
       "      <td>1.668909e+09</td>\n",
       "      <td>25344</td>\n",
       "      <td>19200</td>\n",
       "      <td>27648</td>\n",
       "      <td>21952</td>\n",
       "      <td>D99</td>\n",
       "      <td>25351.111111</td>\n",
       "      <td>19200.0</td>\n",
       "      <td>27648.0</td>\n",
       "      <td>21980.444444</td>\n",
       "      <td>0.00000</td>\n",
       "      <td>0.0</td>\n",
       "      <td>0.0</td>\n",
       "      <td>0.000000</td>\n",
       "      <td>0</td>\n",
       "      <td>0</td>\n",
       "      <td>0</td>\n",
       "      <td>0</td>\n",
       "      <td>0</td>\n",
       "    </tr>\n",
       "    <tr>\n",
       "      <th>3</th>\n",
       "      <td>1.668909e+09</td>\n",
       "      <td>25408</td>\n",
       "      <td>19200</td>\n",
       "      <td>27648</td>\n",
       "      <td>22016</td>\n",
       "      <td>D99</td>\n",
       "      <td>25354.666667</td>\n",
       "      <td>19200.0</td>\n",
       "      <td>27648.0</td>\n",
       "      <td>21984.000000</td>\n",
       "      <td>0.00014</td>\n",
       "      <td>0.0</td>\n",
       "      <td>0.0</td>\n",
       "      <td>0.000162</td>\n",
       "      <td>0</td>\n",
       "      <td>0</td>\n",
       "      <td>0</td>\n",
       "      <td>0</td>\n",
       "      <td>0</td>\n",
       "    </tr>\n",
       "    <tr>\n",
       "      <th>4</th>\n",
       "      <td>1.668909e+09</td>\n",
       "      <td>25344</td>\n",
       "      <td>19200</td>\n",
       "      <td>27648</td>\n",
       "      <td>22016</td>\n",
       "      <td>D99</td>\n",
       "      <td>25351.111111</td>\n",
       "      <td>19200.0</td>\n",
       "      <td>27648.0</td>\n",
       "      <td>21987.555556</td>\n",
       "      <td>-0.00014</td>\n",
       "      <td>0.0</td>\n",
       "      <td>0.0</td>\n",
       "      <td>0.000162</td>\n",
       "      <td>0</td>\n",
       "      <td>0</td>\n",
       "      <td>0</td>\n",
       "      <td>0</td>\n",
       "      <td>0</td>\n",
       "    </tr>\n",
       "  </tbody>\n",
       "</table>\n",
       "</div>"
      ],
      "text/plain": [
       "         TimeNS   LDR0   LDR1   LDR2   LDR3 Class      AVG_LDR0  AVG_LDR1  \\\n",
       "0  1.668909e+09  25344  19200  27648  21952   D99  25347.555556   19200.0   \n",
       "1  1.668909e+09  25408  19200  27648  21952   D99  25351.111111   19200.0   \n",
       "2  1.668909e+09  25344  19200  27648  21952   D99  25351.111111   19200.0   \n",
       "3  1.668909e+09  25408  19200  27648  22016   D99  25354.666667   19200.0   \n",
       "4  1.668909e+09  25344  19200  27648  22016   D99  25351.111111   19200.0   \n",
       "\n",
       "   AVG_LDR2      AVG_LDR3  CHG_LDR0  CHG_LDR1  CHG_LDR2  CHG_LDR3  BIN_LDR0  \\\n",
       "0   27648.0  21980.444444   0.00000       0.0       0.0  0.000000         0   \n",
       "1   27648.0  21980.444444   0.00014       0.0       0.0  0.000000         0   \n",
       "2   27648.0  21980.444444   0.00000       0.0       0.0  0.000000         0   \n",
       "3   27648.0  21984.000000   0.00014       0.0       0.0  0.000162         0   \n",
       "4   27648.0  21987.555556  -0.00014       0.0       0.0  0.000162         0   \n",
       "\n",
       "   BIN_LDR1  BIN_LDR2  BIN_LDR3  BIN_SUM  \n",
       "0         0         0         0        0  \n",
       "1         0         0         0        0  \n",
       "2         0         0         0        0  \n",
       "3         0         0         0        0  \n",
       "4         0         0         0        0  "
      ]
     },
     "execution_count": 10,
     "metadata": {},
     "output_type": "execute_result"
    }
   ],
   "source": [
    "df_4.head()"
   ]
  },
  {
   "cell_type": "markdown",
   "id": "7e51511a-11d8-4d4d-a0d3-1fcc48e0d7cd",
   "metadata": {},
   "source": [
    "### Now calculate the center of mass for N lines/event \n",
    "\n",
    "The caclculation starts at the first change in average for any columns (PCT >.01)\n",
    "\n",
    "only take the center of mass columns for rLen rows "
   ]
  },
  {
   "cell_type": "code",
   "execution_count": 11,
   "id": "6e3301a1-0a0b-45b0-a37f-0cc0b8275b02",
   "metadata": {},
   "outputs": [],
   "source": [
    "# iterating over rows using iterrows() function\n",
    "indxs=[]\n",
    "j=0\n",
    "cls='D99'\n",
    "for index, row in df_4.iterrows():\n",
    "    if row['BIN_SUM'] >= 1:\n",
    "        cls=row['Class']    #pick up the class from the first row\n",
    "        if (index != (j)):\n",
    "            if (index != (j+1)):\n",
    "                indxs.append([index,cls])\n",
    "                # print (index, cls)\n",
    "            cls=row['Class']\n",
    "            j=index\n",
    "                \n",
    "new_data=[]\n",
    "for a,b in indxs:\n",
    "    Cw = ndimage.center_of_mass(df_4.iloc[a:a+rLen,10].values)\n",
    "    Cx = ndimage.center_of_mass(df_4.iloc[a:a+rLen,11].values)\n",
    "    Cy = ndimage.center_of_mass(df_4.iloc[a:a+rLen,12].values)\n",
    "    Cz = ndimage.center_of_mass(df_4.iloc[a:a+rLen,13].values)\n",
    "    new_data.append([Cw, Cx, Cy, Cz, b])\n",
    "    \n",
    "new_df_1 = pd.DataFrame(new_data,columns=['Cw','Cx', 'Cy', 'Cz', 'Class'])\n",
    "new_df_1.to_csv('..\\\\data\\\\CM_100_4.csv',index=False)"
   ]
  },
  {
   "cell_type": "code",
   "execution_count": 12,
   "id": "a3b3b7f5-6165-43bd-838d-4c5a03a65020",
   "metadata": {
    "tags": []
   },
   "outputs": [
    {
     "data": {
      "text/html": [
       "<div>\n",
       "<style scoped>\n",
       "    .dataframe tbody tr th:only-of-type {\n",
       "        vertical-align: middle;\n",
       "    }\n",
       "\n",
       "    .dataframe tbody tr th {\n",
       "        vertical-align: top;\n",
       "    }\n",
       "\n",
       "    .dataframe thead th {\n",
       "        text-align: right;\n",
       "    }\n",
       "</style>\n",
       "<table border=\"1\" class=\"dataframe\">\n",
       "  <thead>\n",
       "    <tr style=\"text-align: right;\">\n",
       "      <th></th>\n",
       "      <th>TimeNS</th>\n",
       "      <th>LDR0</th>\n",
       "      <th>LDR1</th>\n",
       "      <th>LDR2</th>\n",
       "      <th>LDR3</th>\n",
       "      <th>Class</th>\n",
       "      <th>AVG_LDR0</th>\n",
       "      <th>AVG_LDR1</th>\n",
       "      <th>AVG_LDR2</th>\n",
       "      <th>AVG_LDR3</th>\n",
       "      <th>CHG_LDR0</th>\n",
       "      <th>CHG_LDR1</th>\n",
       "      <th>CHG_LDR2</th>\n",
       "      <th>CHG_LDR3</th>\n",
       "      <th>BIN_LDR0</th>\n",
       "      <th>BIN_LDR1</th>\n",
       "      <th>BIN_LDR2</th>\n",
       "      <th>BIN_LDR3</th>\n",
       "      <th>BIN_SUM</th>\n",
       "    </tr>\n",
       "  </thead>\n",
       "  <tbody>\n",
       "    <tr>\n",
       "      <th>0</th>\n",
       "      <td>1.668909e+09</td>\n",
       "      <td>25344</td>\n",
       "      <td>19200</td>\n",
       "      <td>27648</td>\n",
       "      <td>21952</td>\n",
       "      <td>D99</td>\n",
       "      <td>25347.555556</td>\n",
       "      <td>19200.0</td>\n",
       "      <td>27648.0</td>\n",
       "      <td>21980.444444</td>\n",
       "      <td>0.00000</td>\n",
       "      <td>0.0</td>\n",
       "      <td>0.0</td>\n",
       "      <td>0.000000</td>\n",
       "      <td>0</td>\n",
       "      <td>0</td>\n",
       "      <td>0</td>\n",
       "      <td>0</td>\n",
       "      <td>0</td>\n",
       "    </tr>\n",
       "    <tr>\n",
       "      <th>1</th>\n",
       "      <td>1.668909e+09</td>\n",
       "      <td>25408</td>\n",
       "      <td>19200</td>\n",
       "      <td>27648</td>\n",
       "      <td>21952</td>\n",
       "      <td>D99</td>\n",
       "      <td>25351.111111</td>\n",
       "      <td>19200.0</td>\n",
       "      <td>27648.0</td>\n",
       "      <td>21980.444444</td>\n",
       "      <td>0.00014</td>\n",
       "      <td>0.0</td>\n",
       "      <td>0.0</td>\n",
       "      <td>0.000000</td>\n",
       "      <td>0</td>\n",
       "      <td>0</td>\n",
       "      <td>0</td>\n",
       "      <td>0</td>\n",
       "      <td>0</td>\n",
       "    </tr>\n",
       "    <tr>\n",
       "      <th>2</th>\n",
       "      <td>1.668909e+09</td>\n",
       "      <td>25344</td>\n",
       "      <td>19200</td>\n",
       "      <td>27648</td>\n",
       "      <td>21952</td>\n",
       "      <td>D99</td>\n",
       "      <td>25351.111111</td>\n",
       "      <td>19200.0</td>\n",
       "      <td>27648.0</td>\n",
       "      <td>21980.444444</td>\n",
       "      <td>0.00000</td>\n",
       "      <td>0.0</td>\n",
       "      <td>0.0</td>\n",
       "      <td>0.000000</td>\n",
       "      <td>0</td>\n",
       "      <td>0</td>\n",
       "      <td>0</td>\n",
       "      <td>0</td>\n",
       "      <td>0</td>\n",
       "    </tr>\n",
       "    <tr>\n",
       "      <th>3</th>\n",
       "      <td>1.668909e+09</td>\n",
       "      <td>25408</td>\n",
       "      <td>19200</td>\n",
       "      <td>27648</td>\n",
       "      <td>22016</td>\n",
       "      <td>D99</td>\n",
       "      <td>25354.666667</td>\n",
       "      <td>19200.0</td>\n",
       "      <td>27648.0</td>\n",
       "      <td>21984.000000</td>\n",
       "      <td>0.00014</td>\n",
       "      <td>0.0</td>\n",
       "      <td>0.0</td>\n",
       "      <td>0.000162</td>\n",
       "      <td>0</td>\n",
       "      <td>0</td>\n",
       "      <td>0</td>\n",
       "      <td>0</td>\n",
       "      <td>0</td>\n",
       "    </tr>\n",
       "    <tr>\n",
       "      <th>4</th>\n",
       "      <td>1.668909e+09</td>\n",
       "      <td>25344</td>\n",
       "      <td>19200</td>\n",
       "      <td>27648</td>\n",
       "      <td>22016</td>\n",
       "      <td>D99</td>\n",
       "      <td>25351.111111</td>\n",
       "      <td>19200.0</td>\n",
       "      <td>27648.0</td>\n",
       "      <td>21987.555556</td>\n",
       "      <td>-0.00014</td>\n",
       "      <td>0.0</td>\n",
       "      <td>0.0</td>\n",
       "      <td>0.000162</td>\n",
       "      <td>0</td>\n",
       "      <td>0</td>\n",
       "      <td>0</td>\n",
       "      <td>0</td>\n",
       "      <td>0</td>\n",
       "    </tr>\n",
       "  </tbody>\n",
       "</table>\n",
       "</div>"
      ],
      "text/plain": [
       "         TimeNS   LDR0   LDR1   LDR2   LDR3 Class      AVG_LDR0  AVG_LDR1  \\\n",
       "0  1.668909e+09  25344  19200  27648  21952   D99  25347.555556   19200.0   \n",
       "1  1.668909e+09  25408  19200  27648  21952   D99  25351.111111   19200.0   \n",
       "2  1.668909e+09  25344  19200  27648  21952   D99  25351.111111   19200.0   \n",
       "3  1.668909e+09  25408  19200  27648  22016   D99  25354.666667   19200.0   \n",
       "4  1.668909e+09  25344  19200  27648  22016   D99  25351.111111   19200.0   \n",
       "\n",
       "   AVG_LDR2      AVG_LDR3  CHG_LDR0  CHG_LDR1  CHG_LDR2  CHG_LDR3  BIN_LDR0  \\\n",
       "0   27648.0  21980.444444   0.00000       0.0       0.0  0.000000         0   \n",
       "1   27648.0  21980.444444   0.00014       0.0       0.0  0.000000         0   \n",
       "2   27648.0  21980.444444   0.00000       0.0       0.0  0.000000         0   \n",
       "3   27648.0  21984.000000   0.00014       0.0       0.0  0.000162         0   \n",
       "4   27648.0  21987.555556  -0.00014       0.0       0.0  0.000162         0   \n",
       "\n",
       "   BIN_LDR1  BIN_LDR2  BIN_LDR3  BIN_SUM  \n",
       "0         0         0         0        0  \n",
       "1         0         0         0        0  \n",
       "2         0         0         0        0  \n",
       "3         0         0         0        0  \n",
       "4         0         0         0        0  "
      ]
     },
     "execution_count": 12,
     "metadata": {},
     "output_type": "execute_result"
    }
   ],
   "source": [
    "df_4.head()"
   ]
  },
  {
   "cell_type": "code",
   "execution_count": 13,
   "id": "4b60499f-6ccf-4c8e-9a1b-5501d994f599",
   "metadata": {},
   "outputs": [
    {
     "data": {
      "text/html": [
       "<div>\n",
       "<style scoped>\n",
       "    .dataframe tbody tr th:only-of-type {\n",
       "        vertical-align: middle;\n",
       "    }\n",
       "\n",
       "    .dataframe tbody tr th {\n",
       "        vertical-align: top;\n",
       "    }\n",
       "\n",
       "    .dataframe thead th {\n",
       "        text-align: right;\n",
       "    }\n",
       "</style>\n",
       "<table border=\"1\" class=\"dataframe\">\n",
       "  <thead>\n",
       "    <tr style=\"text-align: right;\">\n",
       "      <th></th>\n",
       "      <th>Cw</th>\n",
       "      <th>Cx</th>\n",
       "      <th>Cy</th>\n",
       "      <th>Cz</th>\n",
       "      <th>Class</th>\n",
       "    </tr>\n",
       "  </thead>\n",
       "  <tbody>\n",
       "    <tr>\n",
       "      <th>0</th>\n",
       "      <td>(12.036852487959314,)</td>\n",
       "      <td>(8.89621214456614,)</td>\n",
       "      <td>(13.038332849497609,)</td>\n",
       "      <td>(14.3738343844793,)</td>\n",
       "      <td>D0</td>\n",
       "    </tr>\n",
       "    <tr>\n",
       "      <th>1</th>\n",
       "      <td>(12.729731005688208,)</td>\n",
       "      <td>(9.340290889048868,)</td>\n",
       "      <td>(13.68350508212238,)</td>\n",
       "      <td>(15.283667851366056,)</td>\n",
       "      <td>D0</td>\n",
       "    </tr>\n",
       "    <tr>\n",
       "      <th>2</th>\n",
       "      <td>(11.111345931917272,)</td>\n",
       "      <td>(7.794160936650204,)</td>\n",
       "      <td>(12.378663315841857,)</td>\n",
       "      <td>(13.630991080568627,)</td>\n",
       "      <td>D0</td>\n",
       "    </tr>\n",
       "    <tr>\n",
       "      <th>3</th>\n",
       "      <td>(11.001469686611435,)</td>\n",
       "      <td>(7.013055885584935,)</td>\n",
       "      <td>(11.643203702057129,)</td>\n",
       "      <td>(13.48213293900231,)</td>\n",
       "      <td>D0</td>\n",
       "    </tr>\n",
       "    <tr>\n",
       "      <th>4</th>\n",
       "      <td>(8.844545622048539,)</td>\n",
       "      <td>(4.33298977974726,)</td>\n",
       "      <td>(8.665997323844104,)</td>\n",
       "      <td>(11.549633375441285,)</td>\n",
       "      <td>D0</td>\n",
       "    </tr>\n",
       "    <tr>\n",
       "      <th>5</th>\n",
       "      <td>(12.598263787496697,)</td>\n",
       "      <td>(9.208143708231246,)</td>\n",
       "      <td>(13.102087120871678,)</td>\n",
       "      <td>(14.792056099168304,)</td>\n",
       "      <td>D0</td>\n",
       "    </tr>\n",
       "    <tr>\n",
       "      <th>6</th>\n",
       "      <td>(11.396471001128027,)</td>\n",
       "      <td>(8.443871172079755,)</td>\n",
       "      <td>(12.304175888262687,)</td>\n",
       "      <td>(13.792984877250511,)</td>\n",
       "      <td>D0</td>\n",
       "    </tr>\n",
       "    <tr>\n",
       "      <th>7</th>\n",
       "      <td>(12.5666098134125,)</td>\n",
       "      <td>(8.52213533062417,)</td>\n",
       "      <td>(12.507473554716743,)</td>\n",
       "      <td>(14.390815798364208,)</td>\n",
       "      <td>D0</td>\n",
       "    </tr>\n",
       "    <tr>\n",
       "      <th>8</th>\n",
       "      <td>(11.390238767930066,)</td>\n",
       "      <td>(7.420461602081773,)</td>\n",
       "      <td>(11.363435799957951,)</td>\n",
       "      <td>(13.264891900567104,)</td>\n",
       "      <td>D0</td>\n",
       "    </tr>\n",
       "    <tr>\n",
       "      <th>9</th>\n",
       "      <td>(9.812723681669404,)</td>\n",
       "      <td>(5.2113951615692375,)</td>\n",
       "      <td>(9.270212907595432,)</td>\n",
       "      <td>(12.336168431755617,)</td>\n",
       "      <td>D0</td>\n",
       "    </tr>\n",
       "  </tbody>\n",
       "</table>\n",
       "</div>"
      ],
      "text/plain": [
       "                      Cw                     Cx                     Cy  \\\n",
       "0  (12.036852487959314,)    (8.89621214456614,)  (13.038332849497609,)   \n",
       "1  (12.729731005688208,)   (9.340290889048868,)   (13.68350508212238,)   \n",
       "2  (11.111345931917272,)   (7.794160936650204,)  (12.378663315841857,)   \n",
       "3  (11.001469686611435,)   (7.013055885584935,)  (11.643203702057129,)   \n",
       "4   (8.844545622048539,)    (4.33298977974726,)   (8.665997323844104,)   \n",
       "5  (12.598263787496697,)   (9.208143708231246,)  (13.102087120871678,)   \n",
       "6  (11.396471001128027,)   (8.443871172079755,)  (12.304175888262687,)   \n",
       "7    (12.5666098134125,)    (8.52213533062417,)  (12.507473554716743,)   \n",
       "8  (11.390238767930066,)   (7.420461602081773,)  (11.363435799957951,)   \n",
       "9   (9.812723681669404,)  (5.2113951615692375,)   (9.270212907595432,)   \n",
       "\n",
       "                      Cz Class  \n",
       "0    (14.3738343844793,)    D0  \n",
       "1  (15.283667851366056,)    D0  \n",
       "2  (13.630991080568627,)    D0  \n",
       "3   (13.48213293900231,)    D0  \n",
       "4  (11.549633375441285,)    D0  \n",
       "5  (14.792056099168304,)    D0  \n",
       "6  (13.792984877250511,)    D0  \n",
       "7  (14.390815798364208,)    D0  \n",
       "8  (13.264891900567104,)    D0  \n",
       "9  (12.336168431755617,)    D0  "
      ]
     },
     "execution_count": 13,
     "metadata": {},
     "output_type": "execute_result"
    }
   ],
   "source": [
    "new_df_1.head(10)"
   ]
  },
  {
   "cell_type": "code",
   "execution_count": 14,
   "id": "64dbff95-8377-415a-a343-3c4a3ba79f0c",
   "metadata": {},
   "outputs": [
    {
     "data": {
      "text/plain": [
       "D1    171\n",
       "D4    130\n",
       "D3    126\n",
       "D2    118\n",
       "D6    118\n",
       "D5    113\n",
       "D7    112\n",
       "D0    105\n",
       "Name: Class, dtype: int64"
      ]
     },
     "execution_count": 14,
     "metadata": {},
     "output_type": "execute_result"
    }
   ],
   "source": [
    "new_df_1['Class'].value_counts()"
   ]
  },
  {
   "cell_type": "code",
   "execution_count": 15,
   "id": "701ff271-4db5-4fcf-907e-7ca09269b062",
   "metadata": {},
   "outputs": [],
   "source": [
    "df_4 = pd.concat([new_df_1['Cw'].apply(pd.Series),\n",
    "                  new_df_1['Cx'].apply(pd.Series),\n",
    "                  new_df_1['Cy'].apply(pd.Series),\n",
    "                  new_df_1['Cz'].apply(pd.Series),\n",
    "                  new_df_1['Class']], axis = 1)\n"
   ]
  },
  {
   "cell_type": "code",
   "execution_count": 16,
   "id": "4e14b5f8-ad62-4e1a-8890-6aacd1da0fdb",
   "metadata": {},
   "outputs": [
    {
     "name": "stdout",
     "output_type": "stream",
     "text": [
      "<class 'pandas.core.frame.DataFrame'>\n",
      "RangeIndex: 993 entries, 0 to 992\n",
      "Data columns (total 5 columns):\n",
      " #   Column  Non-Null Count  Dtype  \n",
      "---  ------  --------------  -----  \n",
      " 0   0       993 non-null    float64\n",
      " 1   0       993 non-null    float64\n",
      " 2   0       993 non-null    float64\n",
      " 3   0       993 non-null    float64\n",
      " 4   Class   993 non-null    object \n",
      "dtypes: float64(4), object(1)\n",
      "memory usage: 38.9+ KB\n"
     ]
    }
   ],
   "source": [
    "df_4.info()"
   ]
  },
  {
   "cell_type": "markdown",
   "id": "1339b815-9423-4344-bfb3-67a745350eb8",
   "metadata": {},
   "source": [
    "## Split data into Train/Test and Labeled data sets"
   ]
  },
  {
   "cell_type": "code",
   "execution_count": 17,
   "id": "3d8026e4-dc27-4c04-b32d-5eab6e96b1ee",
   "metadata": {},
   "outputs": [],
   "source": [
    "from sklearn.preprocessing import LabelEncoder\n",
    "X3 = df_4.iloc[:,:-1]\n",
    "X3.columns=['Cw', 'Cx', 'Cy', 'Cz']\n",
    "le = LabelEncoder()\n",
    "y3 = le.fit_transform(df_4['Class'])"
   ]
  },
  {
   "cell_type": "code",
   "execution_count": 18,
   "id": "6dde0011-f1ef-486e-94b0-fb19681f2502",
   "metadata": {},
   "outputs": [
    {
     "data": {
      "text/html": [
       "<div>\n",
       "<style scoped>\n",
       "    .dataframe tbody tr th:only-of-type {\n",
       "        vertical-align: middle;\n",
       "    }\n",
       "\n",
       "    .dataframe tbody tr th {\n",
       "        vertical-align: top;\n",
       "    }\n",
       "\n",
       "    .dataframe thead th {\n",
       "        text-align: right;\n",
       "    }\n",
       "</style>\n",
       "<table border=\"1\" class=\"dataframe\">\n",
       "  <thead>\n",
       "    <tr style=\"text-align: right;\">\n",
       "      <th></th>\n",
       "      <th>Cw</th>\n",
       "      <th>Cx</th>\n",
       "      <th>Cy</th>\n",
       "      <th>Cz</th>\n",
       "    </tr>\n",
       "  </thead>\n",
       "  <tbody>\n",
       "    <tr>\n",
       "      <th>0</th>\n",
       "      <td>12.036852</td>\n",
       "      <td>8.896212</td>\n",
       "      <td>13.038333</td>\n",
       "      <td>14.373834</td>\n",
       "    </tr>\n",
       "    <tr>\n",
       "      <th>1</th>\n",
       "      <td>12.729731</td>\n",
       "      <td>9.340291</td>\n",
       "      <td>13.683505</td>\n",
       "      <td>15.283668</td>\n",
       "    </tr>\n",
       "    <tr>\n",
       "      <th>2</th>\n",
       "      <td>11.111346</td>\n",
       "      <td>7.794161</td>\n",
       "      <td>12.378663</td>\n",
       "      <td>13.630991</td>\n",
       "    </tr>\n",
       "    <tr>\n",
       "      <th>3</th>\n",
       "      <td>11.001470</td>\n",
       "      <td>7.013056</td>\n",
       "      <td>11.643204</td>\n",
       "      <td>13.482133</td>\n",
       "    </tr>\n",
       "    <tr>\n",
       "      <th>4</th>\n",
       "      <td>8.844546</td>\n",
       "      <td>4.332990</td>\n",
       "      <td>8.665997</td>\n",
       "      <td>11.549633</td>\n",
       "    </tr>\n",
       "  </tbody>\n",
       "</table>\n",
       "</div>"
      ],
      "text/plain": [
       "          Cw        Cx         Cy         Cz\n",
       "0  12.036852  8.896212  13.038333  14.373834\n",
       "1  12.729731  9.340291  13.683505  15.283668\n",
       "2  11.111346  7.794161  12.378663  13.630991\n",
       "3  11.001470  7.013056  11.643204  13.482133\n",
       "4   8.844546  4.332990   8.665997  11.549633"
      ]
     },
     "execution_count": 18,
     "metadata": {},
     "output_type": "execute_result"
    }
   ],
   "source": [
    "X3.head()"
   ]
  },
  {
   "cell_type": "code",
   "execution_count": 19,
   "id": "c1309bb1-6d2f-48d7-a38f-48be41d66343",
   "metadata": {},
   "outputs": [],
   "source": [
    "#Split data into test and training data sets\n",
    "X_train, X_test, y_train, y_test = train_test_split(X3.values, y3, test_size=0.30, random_state=45,stratify=np.array(y3)) \n"
   ]
  },
  {
   "cell_type": "markdown",
   "id": "c8d3643b-94a8-4913-94e5-781f9a4fea5c",
   "metadata": {},
   "source": [
    "## Random Forest Classifier"
   ]
  },
  {
   "cell_type": "code",
   "execution_count": 20,
   "id": "d1f900cf-5d6b-4643-ac66-a5ff8340cf17",
   "metadata": {},
   "outputs": [
    {
     "name": "stdout",
     "output_type": "stream",
     "text": [
      "Average Cross Validation Score from Training:\n",
      "0.9712215320910975\n",
      "\n",
      "\n",
      "Confusion Matrix:\n",
      "[[31  0  0  1  0  0  0  0]\n",
      " [ 1 49  1  0  0  0  0  0]\n",
      " [ 0  1 34  0  0  0  0  0]\n",
      " [ 0  0  0 36  2  0  0  0]\n",
      " [ 0  0  0  0 39  0  0  0]\n",
      " [ 1  0  0  0  0 32  1  0]\n",
      " [ 0  0  0  0  0  1 34  0]\n",
      " [ 0  0  0  0  0  0  2 32]]\n",
      "\n",
      "\n",
      "Test Statistics:\n",
      "              precision    recall  f1-score   support\n",
      "\n",
      "           0       0.94      0.97      0.95        32\n",
      "           1       0.98      0.96      0.97        51\n",
      "           2       0.97      0.97      0.97        35\n",
      "           3       0.97      0.95      0.96        38\n",
      "           4       0.95      1.00      0.97        39\n",
      "           5       0.97      0.94      0.96        34\n",
      "           6       0.92      0.97      0.94        35\n",
      "           7       1.00      0.94      0.97        34\n",
      "\n",
      "    accuracy                           0.96       298\n",
      "   macro avg       0.96      0.96      0.96       298\n",
      "weighted avg       0.96      0.96      0.96       298\n",
      "\n",
      "\n",
      "\n",
      "Testing Accuracy: 0.9630872483221476\n"
     ]
    }
   ],
   "source": [
    "#training the model\n",
    "from sklearn.datasets import make_classification\n",
    "\n",
    "\n",
    "model = RandomForestClassifier(random_state=42,n_estimators=100,criterion='gini',class_weight='balanced')\n",
    "\n",
    "model.fit(X_train, y_train)\n",
    "\n",
    "cv_scores = cross_val_score(model, X_train, y_train, cv=10)\n",
    "print('Average Cross Validation Score from Training:', cv_scores.mean(), sep='\\n', end='\\n\\n\\n')\n",
    "\n",
    "#testing the model\n",
    "ypred = model.predict(X_test)\n",
    "cm = confusion_matrix(y_test, ypred)\n",
    "cr = classification_report(y_test, ypred)\n",
    "\n",
    "print('Confusion Matrix:', cm, sep='\\n', end='\\n\\n\\n')\n",
    "print('Test Statistics:', cr, sep='\\n', end='\\n\\n\\n')\n",
    "\n",
    "#This is what we will be grading (>95 expected)\n",
    "print('Testing Accuracy:', accuracy_score(y_test, ypred))"
   ]
  },
  {
   "cell_type": "code",
   "execution_count": 21,
   "id": "cf8f1ebe-8f16-4ce2-8367-3ca887526837",
   "metadata": {},
   "outputs": [],
   "source": [
    "#save this awesome RF model as full_file_RF.mod\n",
    "import pickle\n",
    "filename = '4LDR_RF.sav'\n",
    "pickle.dump(model, open(filename, 'wb'))\n"
   ]
  },
  {
   "cell_type": "markdown",
   "id": "7839d89a-2980-47c8-8324-437929f4090c",
   "metadata": {},
   "source": [
    "## HistGradientBoostingClassifier\n"
   ]
  },
  {
   "cell_type": "code",
   "execution_count": 22,
   "id": "f520f81d-4ba2-4bc0-ae7e-1c70c0998035",
   "metadata": {},
   "outputs": [
    {
     "name": "stdout",
     "output_type": "stream",
     "text": [
      "Average Cross Validation Score from Training:\n",
      "0.9697929606625258\n",
      "\n",
      "\n",
      "Confusion Matrix:\n",
      "[[31  1  0  0  0  0  0  0]\n",
      " [ 1 47  3  0  0  0  0  0]\n",
      " [ 0  0 34  1  0  0  0  0]\n",
      " [ 0  0  0 36  2  0  0  0]\n",
      " [ 0  0  0  0 39  0  0  0]\n",
      " [ 1  0  0  0  1 32  0  0]\n",
      " [ 0  0  0  0  0  1 34  0]\n",
      " [ 0  0  0  0  0  0  2 32]]\n",
      "\n",
      "\n",
      "Test Statistics:\n",
      "              precision    recall  f1-score   support\n",
      "\n",
      "           0       0.94      0.97      0.95        32\n",
      "           1       0.98      0.92      0.95        51\n",
      "           2       0.92      0.97      0.94        35\n",
      "           3       0.97      0.95      0.96        38\n",
      "           4       0.93      1.00      0.96        39\n",
      "           5       0.97      0.94      0.96        34\n",
      "           6       0.94      0.97      0.96        35\n",
      "           7       1.00      0.94      0.97        34\n",
      "\n",
      "    accuracy                           0.96       298\n",
      "   macro avg       0.96      0.96      0.96       298\n",
      "weighted avg       0.96      0.96      0.96       298\n",
      "\n",
      "\n",
      "\n",
      "Testing Accuracy: 0.9563758389261745\n"
     ]
    }
   ],
   "source": [
    "from sklearn.ensemble import HistGradientBoostingClassifier\n",
    "\n",
    "clf = HistGradientBoostingClassifier() \n",
    "clf.fit(X_train, y_train)\n",
    "cv_scores = cross_val_score(clf, X_train, y_train, cv=10)\n",
    "print('Average Cross Validation Score from Training:', cv_scores.mean(), sep='\\n', end='\\n\\n\\n')\n",
    "\n",
    "\n",
    "#testing the model\n",
    "ypred = clf.predict(X_test)\n",
    "cm = confusion_matrix(y_test, ypred)\n",
    "cr = classification_report(y_test, ypred)\n",
    "\n",
    "print('Confusion Matrix:', cm, sep='\\n', end='\\n\\n\\n')\n",
    "print('Test Statistics:', cr, sep='\\n', end='\\n\\n\\n')\n",
    "\n",
    "#This is what we will be grading (>95 expected)\n",
    "print('Testing Accuracy:', accuracy_score(y_test, ypred))"
   ]
  },
  {
   "cell_type": "code",
   "execution_count": 23,
   "id": "27ee13ce-a69e-4623-8273-42913180c72c",
   "metadata": {},
   "outputs": [],
   "source": [
    "import pickle\n",
    "filename = '4LDR_XGB.sav'\n",
    "pickle.dump(clf, open(filename, 'wb'))"
   ]
  },
  {
   "cell_type": "markdown",
   "id": "6a8e4338-a233-4716-be40-6a012629d592",
   "metadata": {},
   "source": [
    "### Test one data point"
   ]
  },
  {
   "cell_type": "code",
   "execution_count": 24,
   "id": "7d57cc58-4424-4200-a0e7-8ce6015655a6",
   "metadata": {},
   "outputs": [
    {
     "name": "stdout",
     "output_type": "stream",
     "text": [
      "[[6.796343542122595, 10.98897041, 8.06188478, 6.78354568]]\n"
     ]
    },
    {
     "data": {
      "text/plain": [
       "array([5])"
      ]
     },
     "execution_count": 24,
     "metadata": {},
     "output_type": "execute_result"
    }
   ],
   "source": [
    "C2 = (10.87041,)\n",
    "Cx = (10.98897041,)\n",
    "Cy = (8.06188478,)\n",
    "Cz = (6.78354568,)\n",
    "\n",
    "pred_data = list([[ Cw[0], Cx[0], Cy[0], Cz[0] ]])\n",
    "print(pred_data)\n",
    "\n",
    "clf.predict(pred_data)"
   ]
  },
  {
   "cell_type": "markdown",
   "id": "ce731cd0-e7bc-4222-98af-043b9be7c250",
   "metadata": {},
   "source": [
    "## Support Vector Classifier"
   ]
  },
  {
   "cell_type": "code",
   "execution_count": 25,
   "id": "01ccd5f8-91e3-46be-a8fd-141bac4eeb10",
   "metadata": {},
   "outputs": [
    {
     "name": "stdout",
     "output_type": "stream",
     "text": [
      "Average Cross Validation Score from Training:\n",
      "0.9913871635610766\n",
      "\n",
      "\n",
      "Confusion Matrix:\n",
      "[[31  1  0  0  0  0  0  0]\n",
      " [ 0 51  0  0  0  0  0  0]\n",
      " [ 0  0 35  0  0  0  0  0]\n",
      " [ 0  0  0 38  0  0  0  0]\n",
      " [ 0  0  0  0 39  0  0  0]\n",
      " [ 1  0  0  0  0 33  0  0]\n",
      " [ 0  0  0  0  0  0 35  0]\n",
      " [ 0  0  0  0  0  0  0 34]]\n",
      "\n",
      "\n",
      "Test Statistics:\n",
      "              precision    recall  f1-score   support\n",
      "\n",
      "           0       0.97      0.97      0.97        32\n",
      "           1       0.98      1.00      0.99        51\n",
      "           2       1.00      1.00      1.00        35\n",
      "           3       1.00      1.00      1.00        38\n",
      "           4       1.00      1.00      1.00        39\n",
      "           5       1.00      0.97      0.99        34\n",
      "           6       1.00      1.00      1.00        35\n",
      "           7       1.00      1.00      1.00        34\n",
      "\n",
      "    accuracy                           0.99       298\n",
      "   macro avg       0.99      0.99      0.99       298\n",
      "weighted avg       0.99      0.99      0.99       298\n",
      "\n",
      "\n",
      "\n",
      "Testing Accuracy: 0.9932885906040269\n"
     ]
    }
   ],
   "source": [
    "clfs = SVC(kernel='linear',probability=True) #note the default kernel here is 'rbf' - radial basis function\n",
    "\n",
    "clfs.fit(X_train, y_train)\n",
    "cv_scores = cross_val_score(clfs, X_train, y_train, cv=10)\n",
    "print('Average Cross Validation Score from Training:', cv_scores.mean(), sep='\\n', end='\\n\\n\\n')\n",
    "\n",
    "\n",
    "#testing the model\n",
    "ypred = clfs.predict(X_test)\n",
    "cm = confusion_matrix(y_test, ypred)\n",
    "cr = classification_report(y_test, ypred)\n",
    "\n",
    "print('Confusion Matrix:', cm, sep='\\n', end='\\n\\n\\n')\n",
    "print('Test Statistics:', cr, sep='\\n', end='\\n\\n\\n')\n",
    "\n",
    "#This is what we will be grading (>95 expected)\n",
    "print('Testing Accuracy:', accuracy_score(y_test, ypred))"
   ]
  },
  {
   "cell_type": "code",
   "execution_count": 26,
   "id": "9048b50e-b0e0-426d-9510-0b223833dad2",
   "metadata": {},
   "outputs": [
    {
     "name": "stdout",
     "output_type": "stream",
     "text": [
      "[ 6  7  9  5  5  7 10  5]\n"
     ]
    }
   ],
   "source": [
    "print(clfs.n_support_)"
   ]
  },
  {
   "cell_type": "code",
   "execution_count": 27,
   "id": "5c17836b-8f9d-452c-a3ec-d97a26c0969f",
   "metadata": {},
   "outputs": [
    {
     "data": {
      "text/plain": [
       "array([[ 6.70994087,  2.75627276,  6.51314755,  9.00361633],\n",
       "       [ 8.30380977,  4.06628203,  7.27539745, 10.71111886],\n",
       "       [11.396471  ,  8.44387117, 12.30417589, 13.79298488],\n",
       "       [11.78339884,  8.65697389, 13.85228841, 14.59496159],\n",
       "       [ 6.09607521,  2.58476193,  7.25397614,  9.67817599],\n",
       "       [12.56660981,  8.52213533, 12.50747355, 14.3908158 ],\n",
       "       [12.89072104,  9.59940906,  8.71106473, 12.1569437 ],\n",
       "       [11.92041763,  6.66675723,  6.24754276, 11.07365971],\n",
       "       [11.06983911,  7.40523295,  3.935302  ,  9.5307478 ],\n",
       "       [11.99774586,  8.28042472,  7.05491418, 11.92758482],\n",
       "       [14.32821875,  9.81354375,  7.27358686, 11.96129149],\n",
       "       [13.8733051 , 10.97273694,  8.42651377, 12.30329974],\n",
       "       [14.14616211,  9.98226752,  8.72842832, 13.56144988],\n",
       "       [15.95001034, 15.10330755,  8.78340665, 11.95264516],\n",
       "       [13.9254115 , 12.2707584 ,  8.08943246, 11.64812039],\n",
       "       [14.26808596, 12.67517442,  8.43322346, 11.77622674],\n",
       "       [12.22286792,  9.93835767,  4.35271638,  8.40008047],\n",
       "       [14.8667688 , 13.25958083,  8.8955638 , 12.09869258],\n",
       "       [13.00452977, 10.20614126,  5.85239624, 10.60723695],\n",
       "       [13.97565704, 12.84112596,  7.70489242, 11.12961185],\n",
       "       [13.02010613,  9.7751684 ,  5.37673236, 10.38033675],\n",
       "       [11.32775022,  8.59843826,  4.28015371,  8.35829078],\n",
       "       [13.74349214, 14.81134695, 10.20906002,  9.2458153 ],\n",
       "       [13.120136  , 13.02427846,  8.14071643,  9.05572054],\n",
       "       [13.13512893, 13.07721113,  8.82795612,  8.88425963],\n",
       "       [10.71921031, 10.78302461,  6.61797097,  5.2068284 ],\n",
       "       [11.45424188,  8.78095882,  2.77060386,  5.45001829],\n",
       "       [12.26802088, 14.45163859, 12.89527828,  8.78247245],\n",
       "       [12.87497599, 14.14070323, 11.82075978,  8.66569217],\n",
       "       [ 1.13740961,  3.49902697,  2.29647423, -1.88755005],\n",
       "       [ 9.97335332, 12.08421056,  8.7336022 ,  4.76953215],\n",
       "       [12.43213221, 13.74240167, 11.86138166,  8.61908339],\n",
       "       [18.15678206,  7.6897819 ,  8.32065507, 17.33532871],\n",
       "       [ 7.46522373,  6.33183089,  5.65089433,  9.72132242],\n",
       "       [ 5.33417996, 10.65442838, 10.89276257,  5.18064874],\n",
       "       [ 8.81747409, 15.60780344, 15.24362033, 10.81041354],\n",
       "       [ 8.02841253, 15.53760132, 16.12336095, 10.65326588],\n",
       "       [ 2.64297549,  9.41699672, 10.31005364,  4.60510509],\n",
       "       [ 9.32710137, 14.54805285, 14.03332704,  8.59374639],\n",
       "       [ 8.76397798, 12.79571049, 15.15180322, 13.10060923],\n",
       "       [ 8.12121954, 13.2667444 , 14.20764346, 11.30821488],\n",
       "       [ 8.25242332, 12.57268545, 13.97179626, 11.35026001],\n",
       "       [ 8.92449608, 11.9570069 , 14.4162378 , 12.66896688],\n",
       "       [ 6.85268552, 10.68562358, 12.5256176 , 10.94829379],\n",
       "       [ 5.96850437, 10.14310593, 12.62862261, 10.21944093],\n",
       "       [ 9.15759488, 15.86958343, 13.66468799, 14.12827091],\n",
       "       [ 8.03247829, 14.83896525, 14.85963951, 11.32968315],\n",
       "       [ 2.12758478,  7.68902298,  9.15066493,  6.24823818],\n",
       "       [ 8.94500977, 13.65826183, 14.7454031 , 11.91910892],\n",
       "       [ 8.33834877,  8.27884455, 12.91756714, 12.70707263],\n",
       "       [ 8.04745788, 10.99113869, 14.51297277, 12.81596601],\n",
       "       [ 7.86098162, 10.81767946, 14.24333853, 12.23774441],\n",
       "       [ 8.15772535, 11.09904774, 14.17897719, 11.89773569],\n",
       "       [ 8.36167331,  9.70748895, 13.07809773, 11.9165038 ]])"
      ]
     },
     "execution_count": 27,
     "metadata": {},
     "output_type": "execute_result"
    }
   ],
   "source": [
    "clfs.support_vectors_"
   ]
  },
  {
   "cell_type": "code",
   "execution_count": 28,
   "id": "c7e7bbab-413a-4413-887a-cf5a272d4c77",
   "metadata": {},
   "outputs": [
    {
     "data": {
      "text/plain": [
       "array([ 68,  76, 104, 127, 166, 692, 121, 132, 215, 300, 427, 527, 558,\n",
       "        58,  86, 183, 262, 338, 425, 450, 640, 662, 162, 197, 248, 473,\n",
       "       634,  78, 112, 330, 339, 347, 113, 147, 178, 209, 233, 397, 625,\n",
       "        35,  37,  42,  75, 100, 137, 319, 454, 460, 664, 143, 318, 503,\n",
       "       536, 556])"
      ]
     },
     "execution_count": 28,
     "metadata": {},
     "output_type": "execute_result"
    }
   ],
   "source": [
    "clfs.support_"
   ]
  },
  {
   "cell_type": "code",
   "execution_count": 29,
   "id": "909eef75-4de3-4980-80ab-aea74e32b201",
   "metadata": {},
   "outputs": [],
   "source": [
    "import pickle\n",
    "filename = '4LDR_SVC.sav'\n",
    "pickle.dump(clfs, open(filename, 'wb'))"
   ]
  },
  {
   "cell_type": "markdown",
   "id": "d531d07d-05fb-43a7-ad75-efaed394a421",
   "metadata": {},
   "source": [
    "# Grid Search for best parameters"
   ]
  },
  {
   "cell_type": "code",
   "execution_count": 30,
   "id": "3dba8dbf-245b-4080-a8e8-c3c1c8dc248d",
   "metadata": {},
   "outputs": [],
   "source": [
    "#Plot all the parameters from the grid search \n",
    "def plot_search_results(grid):\n",
    "    \"\"\"\n",
    "    Params: \n",
    "        grid: A trained GridSearchCV object.\n",
    "    \"\"\"\n",
    "    ## Results from grid search\n",
    "    results = grid.cv_results_\n",
    "    means_test = results['mean_test_score']\n",
    "    stds_test = results['std_test_score']\n",
    "    means_train = results['mean_train_score']\n",
    "    stds_train = results['std_train_score']\n",
    "\n",
    "    ## Getting indexes of values per hyper-parameter\n",
    "    masks=[]\n",
    "    masks_names= list(grid.best_params_.keys())\n",
    "    for p_k, p_v in grid.best_params_.items():\n",
    "        masks.append(list(results['param_'+p_k].data==p_v))\n",
    "\n",
    "    params=grid.param_grid\n",
    "\n",
    "    ## Ploting results\n",
    "    fig, ax = plt.subplots(1,len(params),sharex='none', sharey='all',figsize=(20,5))\n",
    "    fig.suptitle('Score per parameter')\n",
    "    fig.text(0.04, 0.5, 'MEAN SCORE', va='center', rotation='vertical')\n",
    "    pram_preformace_in_best = {}\n",
    "    for i, p in enumerate(masks_names):\n",
    "        m = np.stack(masks[:i] + masks[i+1:])\n",
    "        pram_preformace_in_best\n",
    "        best_parms_mask = m.all(axis=0)\n",
    "        best_index = np.where(best_parms_mask)[0]\n",
    "        x = np.array(params[p])\n",
    "        y_1 = np.array(means_test[best_index])\n",
    "        e_1 = np.array(stds_test[best_index])\n",
    "        y_2 = np.array(means_train[best_index])\n",
    "        e_2 = np.array(stds_train[best_index])\n",
    "        ax[i].errorbar(x, y_1, e_1, linestyle='--', marker='o', label='test')\n",
    "        ax[i].errorbar(x, y_2, e_2, linestyle='-', marker='^',label='train' )\n",
    "        ax[i].set_xlabel(p.upper())\n",
    "\n",
    "    plt.legend()\n",
    "    plt.show()"
   ]
  },
  {
   "cell_type": "code",
   "execution_count": 31,
   "id": "9da8d149-afee-4316-9971-de58c6a6e20a",
   "metadata": {},
   "outputs": [
    {
     "data": {
      "image/png": "[encoded data removed]",
      "text/plain": [
       "<Figure size 2000x500 with 2 Axes>"
      ]
     },
     "metadata": {},
     "output_type": "display_data"
    }
   ],
   "source": [
    "from sklearn.model_selection import GridSearchCV\n",
    "parameters = { 'n_estimators':[3, 6, 9, 12, 20, 30, 50, 60, 100], \n",
    "               'criterion':('gini','entropy','log_loss'),\n",
    "             }\n",
    "\n",
    "RFst = RandomForestClassifier(class_weight='balanced', random_state=52)\n",
    "clf = GridSearchCV(RFst, parameters, cv=20,  return_train_score=True)\n",
    "\n",
    "clf.fit(X_train, y_train)\n",
    "\n",
    "plot_search_results(clf)"
   ]
  },
  {
   "cell_type": "code",
   "execution_count": 32,
   "id": "6ac2306c-2df3-47dd-b4f8-950d5006a790",
   "metadata": {},
   "outputs": [
    {
     "name": "stdout",
     "output_type": "stream",
     "text": [
      " Number of rows to average: 18, number of rows to train/test: 20, {'criterion': 'entropy', 'n_estimators': 50}, Score: 0.9755462184873949\n"
     ]
    }
   ],
   "source": [
    "print(f' Number of rows to average: {N}, number of rows to train/test: {rLen}, {clf.best_params_}, Score: {clf.best_score_}')"
   ]
  },
  {
   "cell_type": "code",
   "execution_count": 33,
   "id": "10c71e4c-d151-42ba-9ddf-bb1b0b8f0597",
   "metadata": {},
   "outputs": [],
   "source": [
    "#with all the samples 4LDR:\n",
    "# Number of rows to average: 18, number of rows to train/test: 20, {'criterion':    'gini', 'n_estimators': 60}, Score: 0.9938898971566849\n",
    "# Number of rows to average: 18, number of rows to train/test: 20, {'criterion': 'entropy', 'n_estimators': 100}, Score: 0.9887174108480672\n",
    "# Number of rows to average: 18, number of rows to train/test: 20, {'criterion': 'entropy', 'n_estimators': 50}, Score: 0.9755462184873949\n"
   ]
  },
  {
   "cell_type": "markdown",
   "id": "7ca6c5a4-7e25-42d7-b5df-2f88dd99158c",
   "metadata": {},
   "source": [
    "## Random Forest"
   ]
  },
  {
   "cell_type": "code",
   "execution_count": 34,
   "id": "35fc61ca-d721-4e40-8682-cc2474eace5b",
   "metadata": {},
   "outputs": [
    {
     "name": "stdout",
     "output_type": "stream",
     "text": [
      "Average Cross Validation Score from Training:\n",
      "0.9664689265536722\n",
      "\n",
      "\n",
      "Confusion Matrix:\n",
      "[[41  0  1  0  0  0  0  0]\n",
      " [ 3 66  0  0  0  0  0  0]\n",
      " [ 0  0 46  1  0  0  0  0]\n",
      " [ 0  0  0 48  3  0  0  0]\n",
      " [ 0  0  0  0 52  0  0  0]\n",
      " [ 1  0  0  0  0 41  3  0]\n",
      " [ 0  0  0  0  0  0 47  0]\n",
      " [ 0  0  0  0  0  0  2 43]]\n",
      "\n",
      "\n",
      "Test Statistics:\n",
      "              precision    recall  f1-score   support\n",
      "\n",
      "           0       0.91      0.98      0.94        42\n",
      "           1       1.00      0.96      0.98        69\n",
      "           2       0.98      0.98      0.98        47\n",
      "           3       0.98      0.94      0.96        51\n",
      "           4       0.95      1.00      0.97        52\n",
      "           5       1.00      0.91      0.95        45\n",
      "           6       0.90      1.00      0.95        47\n",
      "           7       1.00      0.96      0.98        45\n",
      "\n",
      "    accuracy                           0.96       398\n",
      "   macro avg       0.96      0.96      0.96       398\n",
      "weighted avg       0.97      0.96      0.96       398\n",
      "\n",
      "\n",
      "\n",
      "Testing Accuracy: 0.964824120603015\n"
     ]
    }
   ],
   "source": [
    "#training the model\n",
    "from sklearn.datasets import make_classification\n",
    "\n",
    "#Split data into test and training data sets\n",
    "X_train, X_test, y_train, y_test = train_test_split(X3, y3, test_size=0.40, random_state=45,stratify=np.array(y3)) \n",
    "\n",
    "\n",
    "model = RandomForestClassifier(random_state=42,n_estimators=60,criterion='entropy',class_weight='balanced')\n",
    "\n",
    "model.fit(X_train, y_train)\n",
    "\n",
    "cv_scores = cross_val_score(model, X_train, y_train, cv=10)\n",
    "print('Average Cross Validation Score from Training:', cv_scores.mean(), sep='\\n', end='\\n\\n\\n')\n",
    "\n",
    "#testing the model\n",
    "ypred = model.predict(X_test)\n",
    "cm = confusion_matrix(y_test, ypred)\n",
    "cr = classification_report(y_test, ypred)\n",
    "\n",
    "print('Confusion Matrix:', cm, sep='\\n', end='\\n\\n\\n')\n",
    "print('Test Statistics:', cr, sep='\\n', end='\\n\\n\\n')\n",
    "\n",
    "#This is what we will be grading (>95 expected)\n",
    "print('Testing Accuracy:', accuracy_score(y_test, ypred))"
   ]
  },
  {
   "cell_type": "code",
   "execution_count": 35,
   "id": "4d38e646-8b95-4c38-902d-742b17dc8895",
   "metadata": {},
   "outputs": [
    {
     "data": {
      "text/plain": [
       "4"
      ]
     },
     "execution_count": 35,
     "metadata": {},
     "output_type": "execute_result"
    }
   ],
   "source": [
    "model.n_features_in_\n",
    "# model.n_features_"
   ]
  }
 ],
 "metadata": {
  "kernelspec": {
   "display_name": "Python 3 (ipykernel)",
   "language": "python",
   "name": "python3"
  },
  "language_info": {
   "codemirror_mode": {
    "name": "ipython",
    "version": 3
   },
   "file_extension": ".py",
   "mimetype": "text/x-python",
   "name": "python",
   "nbconvert_exporter": "python",
   "pygments_lexer": "ipython3",
   "version": "3.8.13"
  }
 },
 "nbformat": 4,
 "nbformat_minor": 5
}
